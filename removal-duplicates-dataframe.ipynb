{
 "cells": [
  {
   "cell_type": "code",
   "execution_count": 1,
   "id": "3481a7a5-21c7-43b0-89f6-627d115b6cbc",
   "metadata": {},
   "outputs": [],
   "source": [
    "import pyspark"
   ]
  },
  {
   "cell_type": "code",
   "execution_count": 2,
   "id": "549e6e51-e64c-4a7c-b5f6-b2abd5ee4002",
   "metadata": {},
   "outputs": [],
   "source": [
    "from pyspark.sql import SparkSession"
   ]
  },
  {
   "cell_type": "code",
   "execution_count": 14,
   "id": "b87a460f-307e-4032-846d-1d0449683306",
   "metadata": {},
   "outputs": [],
   "source": [
    "spark = SparkSession.builder.appName(\"test\").getOrCreate();"
   ]
  },
  {
   "cell_type": "code",
   "execution_count": 15,
   "id": "5e8fd6c5-1640-46be-9702-9e34dcd30674",
   "metadata": {},
   "outputs": [],
   "source": [
    "rdd = spark.sparkContext.textFile(\"data.txt\")"
   ]
  },
  {
   "cell_type": "code",
   "execution_count": 16,
   "id": "bba67af8-0b8f-4315-8921-c4f35ce5197d",
   "metadata": {},
   "outputs": [
    {
     "data": {
      "text/plain": [
       "['success,success,success,success,success',\n",
       " 'distraction, distraction,distraction',\n",
       " 'Focus,Focus,Focus,Focus']"
      ]
     },
     "execution_count": 16,
     "metadata": {},
     "output_type": "execute_result"
    }
   ],
   "source": [
    "rdd.collect()"
   ]
  },
  {
   "cell_type": "code",
   "execution_count": 41,
   "id": "67be21a5-a025-45c8-a268-a689d257f5c6",
   "metadata": {},
   "outputs": [],
   "source": [
    "group_data = rdd.flatMap(lambda x:x.split(\",\"))"
   ]
  },
  {
   "cell_type": "code",
   "execution_count": 42,
   "id": "03dbe92f-9ac4-4cdf-a7cd-5ba823e23194",
   "metadata": {},
   "outputs": [
    {
     "data": {
      "text/plain": [
       "['success',\n",
       " 'success',\n",
       " 'success',\n",
       " 'success',\n",
       " 'success',\n",
       " 'distraction',\n",
       " ' distraction',\n",
       " 'distraction',\n",
       " 'Focus',\n",
       " 'Focus',\n",
       " 'Focus',\n",
       " 'Focus']"
      ]
     },
     "execution_count": 42,
     "metadata": {},
     "output_type": "execute_result"
    }
   ],
   "source": [
    "group_data.collect()"
   ]
  },
  {
   "cell_type": "code",
   "execution_count": 54,
   "id": "4c5c7242-b66b-4b43-8b81-a9c19ba145e0",
   "metadata": {},
   "outputs": [
    {
     "name": "stdout",
     "output_type": "stream",
     "text": [
      "+------------+\n",
      "|    category|\n",
      "+------------+\n",
      "|     success|\n",
      "|     success|\n",
      "|     success|\n",
      "|     success|\n",
      "|     success|\n",
      "| distraction|\n",
      "| distraction|\n",
      "| distraction|\n",
      "|       Focus|\n",
      "|       Focus|\n",
      "|       Focus|\n",
      "|       Focus|\n",
      "+------------+\n",
      "\n"
     ]
    }
   ],
   "source": [
    "dataframe_data = group_data.map(lambda x:(x, )).toDF([\"category\"]).show()"
   ]
  },
  {
   "cell_type": "code",
   "execution_count": 53,
   "id": "6dd2c8b8-e193-4b4e-918c-8ff8eb35987b",
   "metadata": {},
   "outputs": [],
   "source": [
    "dataframe_data.createOrReplaceTempView(\"Category\")"
   ]
  },
  {
   "cell_type": "code",
   "execution_count": 57,
   "id": "ef3a5b2c-07cf-44d8-9446-210e28ad720e",
   "metadata": {},
   "outputs": [],
   "source": [
    "final_df = spark.sql(\"\"\" select distinct(category) from Category \"\"\")"
   ]
  },
  {
   "cell_type": "code",
   "execution_count": 58,
   "id": "58b4c3c2-95db-40cb-8ce5-41172c740454",
   "metadata": {},
   "outputs": [
    {
     "name": "stdout",
     "output_type": "stream",
     "text": [
      "+------------+\n",
      "|    category|\n",
      "+------------+\n",
      "|     success|\n",
      "| distraction|\n",
      "| distraction|\n",
      "|       Focus|\n",
      "+------------+\n",
      "\n"
     ]
    }
   ],
   "source": []
  },
  {
   "cell_type": "code",
   "execution_count": null,
   "id": "346e0794-34ce-4dcc-a906-f08f2ddef804",
   "metadata": {},
   "outputs": [],
   "source": []
  },
  {
   "cell_type": "code",
   "execution_count": null,
   "id": "145183f0-2e2b-458b-acf4-cbe681db6218",
   "metadata": {},
   "outputs": [],
   "source": []
  },
  {
   "cell_type": "code",
   "execution_count": null,
   "id": "378e0487-f26f-4def-aeaf-3235ed116784",
   "metadata": {},
   "outputs": [],
   "source": []
  },
  {
   "cell_type": "code",
   "execution_count": null,
   "id": "8ecd84e8-9bd2-4fa3-93b4-b9ba7e882e40",
   "metadata": {},
   "outputs": [],
   "source": []
  }
 ],
 "metadata": {
  "kernelspec": {
   "display_name": "Python 3 (ipykernel)",
   "language": "python",
   "name": "python3"
  },
  "language_info": {
   "codemirror_mode": {
    "name": "ipython",
    "version": 3
   },
   "file_extension": ".py",
   "mimetype": "text/x-python",
   "name": "python",
   "nbconvert_exporter": "python",
   "pygments_lexer": "ipython3",
   "version": "3.11.0b1"
  }
 },
 "nbformat": 4,
 "nbformat_minor": 5
}
