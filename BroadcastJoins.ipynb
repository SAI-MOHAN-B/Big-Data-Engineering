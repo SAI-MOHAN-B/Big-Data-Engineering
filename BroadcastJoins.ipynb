{
 "cells": [
  {
   "cell_type": "code",
   "execution_count": 1,
   "id": "87844c12-c5f1-4445-aeb9-2eed20f7249b",
   "metadata": {},
   "outputs": [],
   "source": [
    "import pyspark"
   ]
  },
  {
   "cell_type": "code",
   "execution_count": 6,
   "id": "dfebaaed-fff4-42b1-b5ca-0d5ee956967a",
   "metadata": {},
   "outputs": [],
   "source": [
    "from pyspark.sql import SparkSession\n",
    "from pyspark.sql.functions import broadcast"
   ]
  },
  {
   "cell_type": "code",
   "execution_count": 7,
   "id": "d96d05ce-9f67-42a6-9758-d3b4ea94b7b8",
   "metadata": {},
   "outputs": [],
   "source": [
    "spark =  SparkSession.builder.appName(\"test\").getOrCreate()"
   ]
  },
  {
   "cell_type": "code",
   "execution_count": null,
   "id": "5216dc8b-edd7-4650-a9f9-01fb61f5c9e3",
   "metadata": {},
   "outputs": [],
   "source": []
  },
  {
   "cell_type": "code",
   "execution_count": 8,
   "id": "ee3b76b5-c0e7-43fa-8c3e-7bc2e98498e8",
   "metadata": {},
   "outputs": [],
   "source": [
    "df_large = spark.createDataFrame([(1,\"A\"),(2,\"B\"),(3,\"C\"),(4,\"D\")],[\"id\",\"value\"])"
   ]
  },
  {
   "cell_type": "code",
   "execution_count": 9,
   "id": "86011c98-9d67-4f35-bead-b05b2c35bfdb",
   "metadata": {},
   "outputs": [],
   "source": [
    "df_small = spark.createDataFrame([(1,\"A\"),(2,\"B\"),(3,\"C\")],[\"id\",\"value1\"])"
   ]
  },
  {
   "cell_type": "code",
   "execution_count": 11,
   "id": "ec079314-ab3d-40e5-87f8-5ffc9506f253",
   "metadata": {},
   "outputs": [],
   "source": [
    "df_join = df_large.join(broadcast(df_small),\"id\")"
   ]
  },
  {
   "cell_type": "code",
   "execution_count": 12,
   "id": "52defbeb-2b53-417d-b88a-42751f9f0905",
   "metadata": {},
   "outputs": [
    {
     "name": "stderr",
     "output_type": "stream",
     "text": [
      "                                                                                \r"
     ]
    },
    {
     "name": "stdout",
     "output_type": "stream",
     "text": [
      "+---+-----+------+\n",
      "| id|value|value1|\n",
      "+---+-----+------+\n",
      "|  1|    A|     A|\n",
      "|  2|    B|     B|\n",
      "|  3|    C|     C|\n",
      "+---+-----+------+\n",
      "\n"
     ]
    }
   ],
   "source": [
    "df_join.show()"
   ]
  },
  {
   "cell_type": "code",
   "execution_count": 13,
   "id": "ed644f43-7a13-4ba8-8035-5d1e1ea02d47",
   "metadata": {},
   "outputs": [
    {
     "name": "stdout",
     "output_type": "stream",
     "text": [
      "== Physical Plan ==\n",
      "AdaptiveSparkPlan isFinalPlan=false\n",
      "+- Project [id#8L, value#9, value1#13]\n",
      "   +- BroadcastHashJoin [id#8L], [id#12L], Inner, BuildRight, false\n",
      "      :- Filter isnotnull(id#8L)\n",
      "      :  +- Scan ExistingRDD[id#8L,value#9]\n",
      "      +- BroadcastExchange HashedRelationBroadcastMode(List(input[0, bigint, false]),false), [plan_id=87]\n",
      "         +- Filter isnotnull(id#12L)\n",
      "            +- Scan ExistingRDD[id#12L,value1#13]\n",
      "\n",
      "\n"
     ]
    }
   ],
   "source": [
    "df_join.explain()"
   ]
  },
  {
   "cell_type": "code",
   "execution_count": null,
   "id": "2ecf9f90-4cfc-4b28-b437-3ea980ce614d",
   "metadata": {},
   "outputs": [],
   "source": []
  },
  {
   "cell_type": "code",
   "execution_count": null,
   "id": "27a55b1c-91bf-4f16-9b86-ba054c2f81c3",
   "metadata": {},
   "outputs": [],
   "source": []
  },
  {
   "cell_type": "code",
   "execution_count": null,
   "id": "d442e73f-c22f-4802-a528-ae4e594a4181",
   "metadata": {},
   "outputs": [],
   "source": []
  }
 ],
 "metadata": {
  "kernelspec": {
   "display_name": "Python 3 (ipykernel)",
   "language": "python",
   "name": "python3"
  },
  "language_info": {
   "codemirror_mode": {
    "name": "ipython",
    "version": 3
   },
   "file_extension": ".py",
   "mimetype": "text/x-python",
   "name": "python",
   "nbconvert_exporter": "python",
   "pygments_lexer": "ipython3",
   "version": "3.12.2"
  }
 },
 "nbformat": 4,
 "nbformat_minor": 5
}
