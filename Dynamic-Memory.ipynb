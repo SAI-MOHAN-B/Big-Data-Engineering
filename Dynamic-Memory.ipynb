{
 "cells": [
  {
   "cell_type": "code",
   "execution_count": 1,
   "id": "842f180f-642f-44d0-984b-ca335c9a9634",
   "metadata": {},
   "outputs": [],
   "source": [
    "import pyspark"
   ]
  },
  {
   "cell_type": "code",
   "execution_count": 2,
   "id": "4a5e181b-4103-4e50-a1b6-cd0d5ba074f5",
   "metadata": {},
   "outputs": [],
   "source": [
    "from pyspark.sql import SparkSession"
   ]
  },
  {
   "cell_type": "code",
   "execution_count": 3,
   "id": "510f89dd-4b28-4313-97dc-3b550b6ed060",
   "metadata": {},
   "outputs": [],
   "source": [
    "spark = SparkSession.builder.appName(\"test\")\n",
    ".config(\"spark.dynamicAllocation.enabled\",\"true\")\n",
    ".config(\"spark.dynamicAllocation.initialExecutors\",\"2\")\n",
    ".config(\"spark.dynamicAllocation.minExecutors\",\"1\")\n",
    ".config(\"spark.dynamicAllocation.maxExecutors\",\"3\")\n",
    ".getOrCreate()"
   ]
  },
  {
   "cell_type": "code",
   "execution_count": 4,
   "id": "db353f13-195a-4f6f-9413-707495d12af1",
   "metadata": {},
   "outputs": [],
   "source": [
    "data = [(\"Alice\",34),(\"Bob\",45),(\"Cathy\",29),(\"David\",40)]"
   ]
  },
  {
   "cell_type": "code",
   "execution_count": 5,
   "id": "7e3ffa3e-729d-4442-bf8c-972e2d8a6d2d",
   "metadata": {},
   "outputs": [],
   "source": [
    "columns = [\"Name\",\"Age\"]"
   ]
  },
  {
   "cell_type": "code",
   "execution_count": 6,
   "id": "2b1c759c-d1ca-4fb9-b128-0f1f019a6453",
   "metadata": {},
   "outputs": [],
   "source": [
    "data_df = spark.createDataFrame(data=data,schema=columns)"
   ]
  },
  {
   "cell_type": "code",
   "execution_count": 9,
   "id": "996ad51f-0718-4141-b07f-49e3b8f31cd2",
   "metadata": {},
   "outputs": [],
   "source": [
    "df_filtered = data_df.filter(data_df.Age>30)"
   ]
  },
  {
   "cell_type": "code",
   "execution_count": 10,
   "id": "008e8c75-5a81-40ed-86b6-aaf56d3c9a36",
   "metadata": {},
   "outputs": [
    {
     "name": "stdout",
     "output_type": "stream",
     "text": [
      "+-----+---+\n",
      "| Name|Age|\n",
      "+-----+---+\n",
      "|Alice| 34|\n",
      "|  Bob| 45|\n",
      "|David| 40|\n",
      "+-----+---+\n",
      "\n"
     ]
    }
   ],
   "source": [
    "df_filtered.show()"
   ]
  },
  {
   "cell_type": "code",
   "execution_count": null,
   "id": "2f199c4b-f30d-46cd-b755-0d9f8f4f091c",
   "metadata": {},
   "outputs": [],
   "source": []
  },
  {
   "cell_type": "code",
   "execution_count": null,
   "id": "8f4fb954-3580-4f7e-9f84-ca0991d3df8a",
   "metadata": {},
   "outputs": [],
   "source": []
  },
  {
   "cell_type": "code",
   "execution_count": null,
   "id": "885a3e77-18dd-484f-8945-42d5b4f4763c",
   "metadata": {},
   "outputs": [],
   "source": []
  },
  {
   "cell_type": "code",
   "execution_count": null,
   "id": "cfcb532a-818e-48f3-a4e3-d51bae9e001a",
   "metadata": {},
   "outputs": [],
   "source": []
  },
  {
   "cell_type": "code",
   "execution_count": null,
   "id": "3b6afec7-4b04-4800-9788-0a1032eb8db5",
   "metadata": {},
   "outputs": [],
   "source": []
  }
 ],
 "metadata": {
  "kernelspec": {
   "display_name": "Python 3 (ipykernel)",
   "language": "python",
   "name": "python3"
  },
  "language_info": {
   "codemirror_mode": {
    "name": "ipython",
    "version": 3
   },
   "file_extension": ".py",
   "mimetype": "text/x-python",
   "name": "python",
   "nbconvert_exporter": "python",
   "pygments_lexer": "ipython3",
   "version": "3.11.0b1"
  }
 },
 "nbformat": 4,
 "nbformat_minor": 5
}
