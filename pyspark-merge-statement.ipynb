{
 "cells": [
  {
   "cell_type": "code",
   "execution_count": 1,
   "id": "ae0c9deb-8ee8-4482-a7be-3f17f378579f",
   "metadata": {},
   "outputs": [],
   "source": [
    "import pyspark"
   ]
  },
  {
   "cell_type": "code",
   "execution_count": 7,
   "id": "2c319169-0edc-46e7-aa20-6104f7741b73",
   "metadata": {},
   "outputs": [],
   "source": [
    "from pyspark.sql import SparkSession"
   ]
  },
  {
   "cell_type": "code",
   "execution_count": 8,
   "id": "4f88161c-fd3c-4dfa-aaa2-351cf84d2e66",
   "metadata": {},
   "outputs": [],
   "source": [
    "from pyspark.sql.types import *"
   ]
  },
  {
   "cell_type": "code",
   "execution_count": 9,
   "id": "0bbfe00f-3e05-4baf-97e5-625f7975f23f",
   "metadata": {},
   "outputs": [],
   "source": [
    "from pyspark.sql.functions import *"
   ]
  },
  {
   "cell_type": "code",
   "execution_count": 14,
   "id": "6cd6f69e-39f2-40bd-84d6-2812644fa9ce",
   "metadata": {},
   "outputs": [],
   "source": [
    "schema = StructType([StructField(\"emp_id\",IntegerType(),True),StructField(\"name\",StringType(),True),StructField(\"city\",StringType(),True),StructField(\"Country\",StringType(),True),StructField(\"contact_no\",IntegerType(),True)])"
   ]
  },
  {
   "cell_type": "code",
   "execution_count": 15,
   "id": "1728fab2-a75c-42b1-a137-fc17de6df519",
   "metadata": {},
   "outputs": [],
   "source": [
    "data = [(1000,\"Michael\",\"Columbus\",\"USA\",345678)]"
   ]
  },
  {
   "cell_type": "code",
   "execution_count": 16,
   "id": "1e08169c-2aff-4eee-b8ee-c45dce17d7d0",
   "metadata": {},
   "outputs": [],
   "source": [
    "spark = SparkSession.builder.appName(\"test\").getOrCreate()"
   ]
  },
  {
   "cell_type": "code",
   "execution_count": 17,
   "id": "fec022f1-863a-408f-a181-751b4e618886",
   "metadata": {},
   "outputs": [],
   "source": [
    "df = spark.createDataFrame(data=data,schema=schema)"
   ]
  },
  {
   "cell_type": "code",
   "execution_count": 19,
   "id": "edc222fb-174a-402c-b08e-d35e283bc63e",
   "metadata": {},
   "outputs": [
    {
     "name": "stderr",
     "output_type": "stream",
     "text": [
      "                                                                                \r"
     ]
    },
    {
     "name": "stdout",
     "output_type": "stream",
     "text": [
      "+------+-------+--------+-------+----------+\n",
      "|emp_id|   name|    city|Country|contact_no|\n",
      "+------+-------+--------+-------+----------+\n",
      "|  1000|Michael|Columbus|    USA|    345678|\n",
      "+------+-------+--------+-------+----------+\n",
      "\n"
     ]
    }
   ],
   "source": [
    "df.show(2)"
   ]
  },
  {
   "cell_type": "code",
   "execution_count": 20,
   "id": "53f81366-9e57-44c0-918e-04c26ff42dbd",
   "metadata": {},
   "outputs": [],
   "source": [
    "# no of records per partitions"
   ]
  },
  {
   "cell_type": "code",
   "execution_count": 39,
   "id": "2fa2a492-a18f-47cc-a646-c17e0e29d836",
   "metadata": {},
   "outputs": [],
   "source": [
    "df = spark.read.format(\"csv\").option(\"inferSchema\",True).option(\"header\",True).load(\"students.csv\")"
   ]
  },
  {
   "cell_type": "code",
   "execution_count": 40,
   "id": "5241f235-13ac-42d0-b82a-e308bd5e5f12",
   "metadata": {},
   "outputs": [
    {
     "name": "stdout",
     "output_type": "stream",
     "text": [
      "100\n"
     ]
    }
   ],
   "source": [
    "print(df.count())"
   ]
  },
  {
   "cell_type": "code",
   "execution_count": 41,
   "id": "16ea644c-bf41-452c-8350-41803fa244b5",
   "metadata": {},
   "outputs": [],
   "source": [
    "# default partition Count"
   ]
  },
  {
   "cell_type": "code",
   "execution_count": 42,
   "id": "73cc2dfc-ec5e-46f9-8708-230aeef42188",
   "metadata": {},
   "outputs": [
    {
     "name": "stdout",
     "output_type": "stream",
     "text": [
      "1\n"
     ]
    }
   ],
   "source": [
    "print(df.rdd.getNumPartitions())"
   ]
  },
  {
   "cell_type": "code",
   "execution_count": 43,
   "id": "4cf53335-0d9e-411c-8982-203e1c914a48",
   "metadata": {},
   "outputs": [],
   "source": [
    "# No of Records per Partition "
   ]
  },
  {
   "cell_type": "code",
   "execution_count": 44,
   "id": "aac6fc6f-5af1-47ee-96c5-e8723add68b0",
   "metadata": {},
   "outputs": [],
   "source": [
    "from pyspark.sql.functions import spark_partition_id"
   ]
  },
  {
   "cell_type": "code",
   "execution_count": 45,
   "id": "88310ac8-59b6-4c7e-92f5-af4cba317597",
   "metadata": {},
   "outputs": [
    {
     "name": "stdout",
     "output_type": "stream",
     "text": [
      "+-----------+-----+\n",
      "|partitionId|count|\n",
      "+-----------+-----+\n",
      "|          0|  100|\n",
      "+-----------+-----+\n",
      "\n"
     ]
    }
   ],
   "source": [
    "df.withColumn(\"partitionId\",spark_partition_id()).groupBy(\"partitionId\").count().show()"
   ]
  },
  {
   "cell_type": "code",
   "execution_count": 46,
   "id": "83bd1e64-6517-40d5-8562-754f46a62fa4",
   "metadata": {},
   "outputs": [
    {
     "name": "stdout",
     "output_type": "stream",
     "text": [
      "+---+---------+--------+-------+--------------------+\n",
      "|seq|timestamp|   first| amount|         description|\n",
      "+---+---------+--------+-------+--------------------+\n",
      "|  1|858334225|Mathilda|5904.67|No jonpi rivaniba...|\n",
      "+---+---------+--------+-------+--------------------+\n",
      "only showing top 1 row\n",
      "\n"
     ]
    }
   ],
   "source": [
    "df.show(1)"
   ]
  },
  {
   "cell_type": "code",
   "execution_count": 47,
   "id": "7ef5a72c-c0b7-4af1-b933-f1d8d0cdd363",
   "metadata": {},
   "outputs": [],
   "source": [
    "# repartition the dataframe to 5"
   ]
  },
  {
   "cell_type": "code",
   "execution_count": 50,
   "id": "1f722d73-4d9d-41d0-803c-4bbc7d58290c",
   "metadata": {},
   "outputs": [],
   "source": [
    "df_5 = df.select(col(\"first\"),col(\"amount\"),col(\"description\")).repartition(5)"
   ]
  },
  {
   "cell_type": "code",
   "execution_count": 51,
   "id": "04edd1a4-62ed-4820-8302-873f25a60451",
   "metadata": {},
   "outputs": [
    {
     "name": "stdout",
     "output_type": "stream",
     "text": [
      "5\n"
     ]
    }
   ],
   "source": [
    "print(df_5.rdd.getNumPartitions())"
   ]
  },
  {
   "cell_type": "code",
   "execution_count": 52,
   "id": "4926e025-a9a9-4a0b-925a-5d670b332fa6",
   "metadata": {},
   "outputs": [
    {
     "name": "stdout",
     "output_type": "stream",
     "text": [
      "+-----------+-----+\n",
      "|partitionId|count|\n",
      "+-----------+-----+\n",
      "|          0|   20|\n",
      "|          1|   20|\n",
      "|          2|   20|\n",
      "|          3|   20|\n",
      "|          4|   20|\n",
      "+-----------+-----+\n",
      "\n"
     ]
    }
   ],
   "source": [
    "df_5.withColumn(\"partitionId\",spark_partition_id()).groupBy(\"partitionId\").count().show()"
   ]
  },
  {
   "cell_type": "code",
   "execution_count": null,
   "id": "df42a80d-7938-4a1a-a881-92714f4b11db",
   "metadata": {},
   "outputs": [],
   "source": []
  }
 ],
 "metadata": {
  "kernelspec": {
   "display_name": "Python 3 (ipykernel)",
   "language": "python",
   "name": "python3"
  },
  "language_info": {
   "codemirror_mode": {
    "name": "ipython",
    "version": 3
   },
   "file_extension": ".py",
   "mimetype": "text/x-python",
   "name": "python",
   "nbconvert_exporter": "python",
   "pygments_lexer": "ipython3",
   "version": "3.12.2"
  }
 },
 "nbformat": 4,
 "nbformat_minor": 5
}
