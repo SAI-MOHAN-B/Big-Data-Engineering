{
 "cells": [
  {
   "cell_type": "code",
   "execution_count": 1,
   "id": "5d09f1f5-57be-4698-a8d4-e293bdc903de",
   "metadata": {},
   "outputs": [],
   "source": [
    "import pyspark"
   ]
  },
  {
   "cell_type": "code",
   "execution_count": 2,
   "id": "968cfd7c-a82c-44e0-8960-5b024b1a50b6",
   "metadata": {},
   "outputs": [],
   "source": [
    "from pyspark.sql import SparkSession"
   ]
  },
  {
   "cell_type": "code",
   "execution_count": 3,
   "id": "965b0c71-bd98-4834-9d38-f7fd1146cf47",
   "metadata": {},
   "outputs": [
    {
     "name": "stderr",
     "output_type": "stream",
     "text": [
      "Setting default log level to \"WARN\".\n",
      "To adjust logging level use sc.setLogLevel(newLevel). For SparkR, use setLogLevel(newLevel).\n",
      "24/07/05 17:46:48 WARN NativeCodeLoader: Unable to load native-hadoop library for your platform... using builtin-java classes where applicable\n",
      "24/07/05 17:47:03 WARN GarbageCollectionMetrics: To enable non-built-in garbage collector(s) List(G1 Concurrent GC), users should configure it(them) to spark.eventLog.gcMetrics.youngGenerationGarbageCollectors or spark.eventLog.gcMetrics.oldGenerationGarbageCollectors\n"
     ]
    }
   ],
   "source": [
    "spark = SparkSession.builder.appName(\"test\").getOrCreate()"
   ]
  },
  {
   "cell_type": "code",
   "execution_count": 4,
   "id": "ae16276b-87a0-4b12-a309-fac8ede6289d",
   "metadata": {},
   "outputs": [],
   "source": [
    "df = spark.read.format(\"csv\").option(\"inferSchema\",True).option(\"header\",True).load(\"students.csv\")"
   ]
  },
  {
   "cell_type": "code",
   "execution_count": 5,
   "id": "5a04883d-469f-4242-869f-b8d7f572a5de",
   "metadata": {},
   "outputs": [
    {
     "name": "stdout",
     "output_type": "stream",
     "text": [
      "+---+----------+---------+-------+--------------------+\n",
      "|seq| timestamp|    first| amount|         description|\n",
      "+---+----------+---------+-------+--------------------+\n",
      "|  1| 858334225| Mathilda|5904.67|No jonpi rivaniba...|\n",
      "|  2|1203864016|      May|1536.92|Beflav iznir dad ...|\n",
      "|  3|  98215602|    Leila|7530.77|Jetabge godjiaf e...|\n",
      "|  4| 374760014|     Ella| 402.16|Viv jaluc cev uwe...|\n",
      "|  5| 706631936|    Logan|9238.75|Obvac netezki iv ...|\n",
      "|  6| 730617505|   Lenora|2843.72|Jiz tiscuzu epvis...|\n",
      "|  7| 460900055|      Jim|9107.27|Ja roira pu okuwa...|\n",
      "|  8|1331480777|    James|2182.82|Maodlim jarolalov...|\n",
      "|  9|1482286601|Genevieve|8826.96|Vupizmiw sez oce ...|\n",
      "| 10| 155613459|      Jon|6678.62|Fo duaju kiri kir...|\n",
      "| 11|1528525451|   Jennie|9927.24|Vozo cag ba unemo...|\n",
      "| 12|1435221869|    Celia|1862.77|Diza ijwecvag fir...|\n",
      "| 13|  98947618|   Curtis|7294.51|Raewoji la anohic...|\n",
      "| 14|1186045919| Cordelia|4386.98|Timil heeg wic nu...|\n",
      "| 15| 206874323|   Maggie| 768.62|Zug tibic masgiwu...|\n",
      "| 16|1237252683| Florence| 2355.0|Henepvo resga nir...|\n",
      "| 17|1647278085|Frederick|5436.68|Wi udfufone neuhu...|\n",
      "| 18|  76886033|     Jean|9392.97|Vu odin git petuk...|\n",
      "| 19| 332353009|    Brett|8368.43|Zez wonoz do liwm...|\n",
      "| 20| 828860916|    Isaac|5714.48|Egeli nupcaola vu...|\n",
      "+---+----------+---------+-------+--------------------+\n",
      "only showing top 20 rows\n",
      "\n"
     ]
    }
   ],
   "source": [
    "df.show()"
   ]
  },
  {
   "cell_type": "code",
   "execution_count": 9,
   "id": "3b3ea43c-b432-4897-897b-d8d579e69ad0",
   "metadata": {},
   "outputs": [
    {
     "data": {
      "text/plain": [
       "'/Users/fci/Desktop/Spark-Tutorials'"
      ]
     },
     "execution_count": 9,
     "metadata": {},
     "output_type": "execute_result"
    }
   ],
   "source": [
    "pwd"
   ]
  },
  {
   "cell_type": "code",
   "execution_count": 13,
   "id": "00746e3e-001c-4467-b355-fda613ba1d7a",
   "metadata": {},
   "outputs": [],
   "source": [
    "df.write.format(\"parquet\").option(\"compression\",\"gzip\").save(\"/Users/fci/Desktop/Spark-Tutorials/testdata/gzip\")"
   ]
  },
  {
   "cell_type": "code",
   "execution_count": null,
   "id": "b4b6c9e1-b5e9-477c-980e-bc30dfd83d44",
   "metadata": {},
   "outputs": [],
   "source": []
  },
  {
   "cell_type": "code",
   "execution_count": null,
   "id": "a918649e-0bea-48e5-81ae-1e000e2c9259",
   "metadata": {},
   "outputs": [],
   "source": []
  },
  {
   "cell_type": "code",
   "execution_count": null,
   "id": "e3ecc4d3-9d51-4f3e-b2d9-6bcc8a3d37bf",
   "metadata": {},
   "outputs": [],
   "source": []
  },
  {
   "cell_type": "code",
   "execution_count": null,
   "id": "be2655b0-49b8-41b6-8c9b-80e6f321bd89",
   "metadata": {},
   "outputs": [],
   "source": []
  }
 ],
 "metadata": {
  "kernelspec": {
   "display_name": "Python 3 (ipykernel)",
   "language": "python",
   "name": "python3"
  },
  "language_info": {
   "codemirror_mode": {
    "name": "ipython",
    "version": 3
   },
   "file_extension": ".py",
   "mimetype": "text/x-python",
   "name": "python",
   "nbconvert_exporter": "python",
   "pygments_lexer": "ipython3",
   "version": "3.12.2"
  }
 },
 "nbformat": 4,
 "nbformat_minor": 5
}
