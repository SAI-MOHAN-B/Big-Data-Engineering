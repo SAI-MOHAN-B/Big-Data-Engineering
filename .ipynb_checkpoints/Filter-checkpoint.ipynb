{
 "cells": [
  {
   "cell_type": "code",
   "execution_count": 1,
   "id": "cf3063aa-c301-4dfe-b8ae-6d2d02788039",
   "metadata": {},
   "outputs": [],
   "source": [
    "import pyspark"
   ]
  },
  {
   "cell_type": "code",
   "execution_count": 2,
   "id": "8cd44006-2e33-4a45-a1be-3ec6da080602",
   "metadata": {},
   "outputs": [],
   "source": [
    "from pyspark.sql import SparkSession"
   ]
  },
  {
   "cell_type": "code",
   "execution_count": 3,
   "id": "31a9dcf6-23a3-4438-b3c0-64fb5ef4d67a",
   "metadata": {},
   "outputs": [],
   "source": [
    "from pyspark.sql.types import StructType,StructField,IntegerType,StringType,ArrayType"
   ]
  },
  {
   "cell_type": "code",
   "execution_count": 4,
   "id": "e9f086e7-598a-4c2e-b2fb-b5188aef717e",
   "metadata": {},
   "outputs": [
    {
     "name": "stderr",
     "output_type": "stream",
     "text": [
      "Setting default log level to \"WARN\".\n",
      "To adjust logging level use sc.setLogLevel(newLevel). For SparkR, use setLogLevel(newLevel).\n",
      "24/06/04 18:45:22 WARN NativeCodeLoader: Unable to load native-hadoop library for your platform... using builtin-java classes where applicable\n",
      "24/06/04 18:45:23 WARN Utils: Service 'SparkUI' could not bind on port 4040. Attempting port 4041.\n",
      "24/06/04 18:45:23 WARN Utils: Service 'SparkUI' could not bind on port 4041. Attempting port 4042.\n"
     ]
    }
   ],
   "source": [
    "spark = SparkSession.builder.appName(\"Filter\").getOrCreate()"
   ]
  },
  {
   "cell_type": "code",
   "execution_count": 5,
   "id": "22a2d0d7-1cb6-461c-af8a-ee5914918e72",
   "metadata": {},
   "outputs": [],
   "source": [
    "data = [(\"john doe\",[\"Java\",\"C++\",\"Python\"],\"OH\",\"M\"),\n",
    "        (\"mary doe\",[\"C++\",\"Python\"],\"NY\",\"F\"),\n",
    "        (\"mark antony\",[\"Python\"],\"OH\",\"M\"),\n",
    "        (\"Jinesh\",[\"Java\",\"C++\",\"Python\"],\"NY\",\"M\")]"
   ]
  },
  {
   "cell_type": "code",
   "execution_count": 6,
   "id": "50d386c9-df8c-4776-ba8e-ac361090b86f",
   "metadata": {},
   "outputs": [],
   "source": [
    "myschema = StructType([StructField(\"name\",StringType(),True),\n",
    "                       StructField(\"languages\",ArrayType(StringType()),True),\n",
    "                       StructField(\"State\",StringType(),True),\n",
    "                       StructField(\"gender\",StringType(),True)])"
   ]
  },
  {
   "cell_type": "code",
   "execution_count": 7,
   "id": "853e1023-b34f-4192-a4d9-daf904e28556",
   "metadata": {},
   "outputs": [],
   "source": [
    "df = spark.createDataFrame(data=data,schema=myschema)"
   ]
  },
  {
   "cell_type": "code",
   "execution_count": 8,
   "id": "1054d44f-1e98-499c-b276-ebf6b1605d70",
   "metadata": {},
   "outputs": [
    {
     "name": "stderr",
     "output_type": "stream",
     "text": [
      "                                                                                \r"
     ]
    },
    {
     "name": "stdout",
     "output_type": "stream",
     "text": [
      "+-----------+-------------------+-----+------+\n",
      "|       name|          languages|State|gender|\n",
      "+-----------+-------------------+-----+------+\n",
      "|   john doe|[Java, C++, Python]|   OH|     M|\n",
      "|   mary doe|      [C++, Python]|   NY|     F|\n",
      "|mark antony|           [Python]|   OH|     M|\n",
      "|     Jinesh|[Java, C++, Python]|   NY|     M|\n",
      "+-----------+-------------------+-----+------+\n",
      "\n"
     ]
    }
   ],
   "source": [
    "df.show()"
   ]
  },
  {
   "cell_type": "code",
   "execution_count": 9,
   "id": "086fd0e4-6441-415a-aedc-1f85fc52e665",
   "metadata": {},
   "outputs": [
    {
     "name": "stdout",
     "output_type": "stream",
     "text": [
      "root\n",
      " |-- name: string (nullable = true)\n",
      " |-- languages: array (nullable = true)\n",
      " |    |-- element: string (containsNull = true)\n",
      " |-- State: string (nullable = true)\n",
      " |-- gender: string (nullable = true)\n",
      "\n"
     ]
    }
   ],
   "source": [
    "df.printSchema()"
   ]
  },
  {
   "cell_type": "code",
   "execution_count": 10,
   "id": "89b1ce4d-f276-48d1-bac9-621756492a5b",
   "metadata": {},
   "outputs": [
    {
     "name": "stdout",
     "output_type": "stream",
     "text": [
      "+-----------+-------------------+-----+------+\n",
      "|       name|          languages|State|gender|\n",
      "+-----------+-------------------+-----+------+\n",
      "|   john doe|[Java, C++, Python]|   OH|     M|\n",
      "|mark antony|           [Python]|   OH|     M|\n",
      "+-----------+-------------------+-----+------+\n",
      "\n"
     ]
    }
   ],
   "source": [
    "df.filter(df.State == \"OH\").show()"
   ]
  },
  {
   "cell_type": "code",
   "execution_count": 11,
   "id": "22698eb7-172e-417e-8a19-fd8a3a9d9491",
   "metadata": {},
   "outputs": [
    {
     "name": "stdout",
     "output_type": "stream",
     "text": [
      "+--------+-------------------+-----+------+\n",
      "|    name|          languages|State|gender|\n",
      "+--------+-------------------+-----+------+\n",
      "|mary doe|      [C++, Python]|   NY|     F|\n",
      "|  Jinesh|[Java, C++, Python]|   NY|     M|\n",
      "+--------+-------------------+-----+------+\n",
      "\n"
     ]
    },
    {
     "name": "stderr",
     "output_type": "stream",
     "text": [
      "24/06/04 18:45:35 WARN GarbageCollectionMetrics: To enable non-built-in garbage collector(s) List(G1 Concurrent GC), users should configure it(them) to spark.eventLog.gcMetrics.youngGenerationGarbageCollectors or spark.eventLog.gcMetrics.oldGenerationGarbageCollectors\n"
     ]
    }
   ],
   "source": [
    "df.filter(df.State != \"OH\").show()"
   ]
  },
  {
   "cell_type": "code",
   "execution_count": 12,
   "id": "5d431a29-c958-465c-828c-91db7bb5e905",
   "metadata": {},
   "outputs": [
    {
     "name": "stdout",
     "output_type": "stream",
     "text": [
      "+-----------+-------------------+-----+------+\n",
      "|       name|          languages|State|gender|\n",
      "+-----------+-------------------+-----+------+\n",
      "|   john doe|[Java, C++, Python]|   OH|     M|\n",
      "|mark antony|           [Python]|   OH|     M|\n",
      "|     Jinesh|[Java, C++, Python]|   NY|     M|\n",
      "+-----------+-------------------+-----+------+\n",
      "\n"
     ]
    }
   ],
   "source": [
    "df.filter(\"gender == 'M'\").show()"
   ]
  },
  {
   "cell_type": "code",
   "execution_count": 13,
   "id": "70774070-4039-4029-b2fe-f55b80b9a0d5",
   "metadata": {},
   "outputs": [
    {
     "name": "stdout",
     "output_type": "stream",
     "text": [
      "+--------+-------------------+-----+------+\n",
      "|    name|          languages|State|gender|\n",
      "+--------+-------------------+-----+------+\n",
      "|john doe|[Java, C++, Python]|   OH|     M|\n",
      "+--------+-------------------+-----+------+\n",
      "\n"
     ]
    }
   ],
   "source": [
    "df.filter(\"name == 'john doe'\").show()"
   ]
  },
  {
   "cell_type": "code",
   "execution_count": 14,
   "id": "8fe63c28-bb55-4450-836e-c049649828ba",
   "metadata": {},
   "outputs": [
    {
     "name": "stdout",
     "output_type": "stream",
     "text": [
      "+--------+-------------------+-----+------+\n",
      "|    name|          languages|State|gender|\n",
      "+--------+-------------------+-----+------+\n",
      "|john doe|[Java, C++, Python]|   OH|     M|\n",
      "+--------+-------------------+-----+------+\n",
      "\n"
     ]
    }
   ],
   "source": [
    "df.filter((df.State == \"OH\") & (df.name == \"john doe\")).show()"
   ]
  },
  {
   "cell_type": "code",
   "execution_count": 15,
   "id": "0d92c4c3-36ef-435a-a18e-0b2177157027",
   "metadata": {},
   "outputs": [
    {
     "name": "stdout",
     "output_type": "stream",
     "text": [
      "+-----------+-------------------+-----+------+\n",
      "|       name|          languages|State|gender|\n",
      "+-----------+-------------------+-----+------+\n",
      "|   john doe|[Java, C++, Python]|   OH|     M|\n",
      "|mark antony|           [Python]|   OH|     M|\n",
      "+-----------+-------------------+-----+------+\n",
      "\n"
     ]
    }
   ],
   "source": [
    "df.filter((df.State == \"OH\") | (df.name == \"john doe\")).show()"
   ]
  },
  {
   "cell_type": "code",
   "execution_count": 16,
   "id": "e7620356-f475-44a4-9d5d-480a5e1cee9b",
   "metadata": {},
   "outputs": [
    {
     "name": "stdout",
     "output_type": "stream",
     "text": [
      "+--------+-------------------+-----+------+\n",
      "|    name|          languages|State|gender|\n",
      "+--------+-------------------+-----+------+\n",
      "|john doe|[Java, C++, Python]|   OH|     M|\n",
      "+--------+-------------------+-----+------+\n",
      "\n"
     ]
    }
   ],
   "source": [
    "df.filter((df.name.startswith(\"j\"))).show()"
   ]
  },
  {
   "cell_type": "code",
   "execution_count": 17,
   "id": "e556cb74-dc20-4f92-b040-ca4c5b3d59cb",
   "metadata": {},
   "outputs": [
    {
     "name": "stdout",
     "output_type": "stream",
     "text": [
      "+-----------+---------+-----+------+\n",
      "|       name|languages|State|gender|\n",
      "+-----------+---------+-----+------+\n",
      "|mark antony| [Python]|   OH|     M|\n",
      "+-----------+---------+-----+------+\n",
      "\n"
     ]
    }
   ],
   "source": [
    "df.filter((df.name.endswith(\"y\"))).show()"
   ]
  },
  {
   "cell_type": "code",
   "execution_count": 18,
   "id": "4c5deaf8-2877-4c29-bb62-8f8fb13f4055",
   "metadata": {},
   "outputs": [],
   "source": [
    "from pyspark.sql.functions import array_contains"
   ]
  },
  {
   "cell_type": "code",
   "execution_count": 19,
   "id": "194a95b6-f074-449a-9cda-0b3a2de9b3f2",
   "metadata": {},
   "outputs": [
    {
     "name": "stdout",
     "output_type": "stream",
     "text": [
      "+--------+-------------------+-----+------+\n",
      "|    name|          languages|State|gender|\n",
      "+--------+-------------------+-----+------+\n",
      "|john doe|[Java, C++, Python]|   OH|     M|\n",
      "|  Jinesh|[Java, C++, Python]|   NY|     M|\n",
      "+--------+-------------------+-----+------+\n",
      "\n"
     ]
    }
   ],
   "source": [
    "test_df = df.filter(array_contains(df.languages,\"Java\")).show()"
   ]
  },
  {
   "cell_type": "code",
   "execution_count": 20,
   "id": "e1b40d9c-033a-4d08-870a-134e23675afb",
   "metadata": {},
   "outputs": [
    {
     "name": "stdout",
     "output_type": "stream",
     "text": [
      "+-----------+-------------------+-----+------+\n",
      "|       name|          languages|State|gender|\n",
      "+-----------+-------------------+-----+------+\n",
      "|   john doe|[Java, C++, Python]|   OH|     M|\n",
      "|   mary doe|      [C++, Python]|   NY|     F|\n",
      "|mark antony|           [Python]|   OH|     M|\n",
      "|     Jinesh|[Java, C++, Python]|   NY|     M|\n",
      "+-----------+-------------------+-----+------+\n",
      "\n"
     ]
    }
   ],
   "source": [
    "test_df = df.filter(array_contains(df.languages,\"Python\")).show()"
   ]
  },
  {
   "cell_type": "code",
   "execution_count": null,
   "id": "39863033-2c90-456d-8fe5-0b076db3e0c8",
   "metadata": {},
   "outputs": [],
   "source": []
  },
  {
   "cell_type": "code",
   "execution_count": 32,
   "id": "c2bffa0b-cc28-459b-8457-602073b39744",
   "metadata": {},
   "outputs": [],
   "source": [
    "spark = SparkSession.builder.appName(\"test\").getOrCreate()"
   ]
  },
  {
   "cell_type": "code",
   "execution_count": 33,
   "id": "d8937722-19ca-4f59-9195-c69c13558100",
   "metadata": {},
   "outputs": [],
   "source": [
    "simpledata = [(\"james\",\"sales\",\"OH\",34000,23,10000),\n",
    "              (\"John\",\"finance\",\"NY\",44000,24,20000),\n",
    "              (\"mary\",\"health\",\"HO\",54000,23,30000),\n",
    "              (\"arun\",\"stocks\",\"IN\",64000,23,40000),\n",
    "              (\"arjun\",\"shares\",\"RM\",74000,23,50000),\n",
    "              (\"mac\",\"vegetables\",\"OH\",84000,23,60000),\n",
    "              (\"cameron\",\"fruits\",\"OH\",94000,23,70000)]"
   ]
  },
  {
   "cell_type": "code",
   "execution_count": 34,
   "id": "edfab71a-8c12-415c-8b92-f02744dd223b",
   "metadata": {},
   "outputs": [],
   "source": [
    "myschema = [\"employee_name\",\"department\",\"state\",\"salary\",\"age\",\"bonus\"]"
   ]
  },
  {
   "cell_type": "code",
   "execution_count": 35,
   "id": "1f411200-33d1-44b2-99a0-3c3305901137",
   "metadata": {},
   "outputs": [],
   "source": [
    "employee_df = spark.createDataFrame(data = simpledata,schema=myschema)"
   ]
  },
  {
   "cell_type": "code",
   "execution_count": 36,
   "id": "6bfad2a9-c523-46e1-8896-aa00ff30c590",
   "metadata": {},
   "outputs": [
    {
     "name": "stdout",
     "output_type": "stream",
     "text": [
      "+-------------+----------+-----+------+---+-----+\n",
      "|employee_name|department|state|salary|age|bonus|\n",
      "+-------------+----------+-----+------+---+-----+\n",
      "|        james|     sales|   OH| 34000| 23|10000|\n",
      "|         John|   finance|   NY| 44000| 24|20000|\n",
      "|         mary|    health|   HO| 54000| 23|30000|\n",
      "|         arun|    stocks|   IN| 64000| 23|40000|\n",
      "|        arjun|    shares|   RM| 74000| 23|50000|\n",
      "|          mac|vegetables|   OH| 84000| 23|60000|\n",
      "|      cameron|    fruits|   OH| 94000| 23|70000|\n",
      "+-------------+----------+-----+------+---+-----+\n",
      "\n"
     ]
    }
   ],
   "source": [
    "employee_df.show()"
   ]
  },
  {
   "cell_type": "code",
   "execution_count": null,
   "id": "b214cf15-e684-4870-9dbd-6fe81dfff97f",
   "metadata": {},
   "outputs": [],
   "source": []
  },
  {
   "cell_type": "code",
   "execution_count": null,
   "id": "f88fe9ad-65d2-4d12-87b5-9e5869dff982",
   "metadata": {},
   "outputs": [],
   "source": []
  },
  {
   "cell_type": "code",
   "execution_count": null,
   "id": "e3a9f010-2a07-4fd4-b59b-f907fcbfcf6f",
   "metadata": {},
   "outputs": [],
   "source": []
  },
  {
   "cell_type": "code",
   "execution_count": null,
   "id": "2fc2d452-7382-403c-8dc8-f7accbaaa82f",
   "metadata": {},
   "outputs": [],
   "source": []
  },
  {
   "cell_type": "code",
   "execution_count": null,
   "id": "8b00256c-520d-44dc-8a29-bf2b72432e93",
   "metadata": {},
   "outputs": [],
   "source": []
  },
  {
   "cell_type": "code",
   "execution_count": null,
   "id": "6b0dce6a-5018-4a85-8c37-44ec728e9c79",
   "metadata": {},
   "outputs": [],
   "source": []
  },
  {
   "cell_type": "code",
   "execution_count": null,
   "id": "245261cd-741f-44fa-9c17-03b5f7e01dbf",
   "metadata": {},
   "outputs": [],
   "source": []
  },
  {
   "cell_type": "code",
   "execution_count": 28,
   "id": "8677108e-6710-4537-9dbc-af77e6e2a8a7",
   "metadata": {},
   "outputs": [
    {
     "name": "stdout",
     "output_type": "stream",
     "text": [
      "root\n",
      " |-- employee_name: string (nullable = true)\n",
      " |-- department: string (nullable = true)\n",
      " |-- state: string (nullable = true)\n",
      " |-- salary: long (nullable = true)\n",
      " |-- age: long (nullable = true)\n",
      " |-- bonus: long (nullable = true)\n",
      "\n"
     ]
    }
   ],
   "source": [
    "employee_df.printSchema()"
   ]
  },
  {
   "cell_type": "code",
   "execution_count": null,
   "id": "76759dfb-af6d-4c0a-afa0-63fc00e807ad",
   "metadata": {},
   "outputs": [],
   "source": []
  },
  {
   "cell_type": "code",
   "execution_count": null,
   "id": "bbe891d3-e93e-4447-96e8-317651bfc1c6",
   "metadata": {},
   "outputs": [],
   "source": []
  },
  {
   "cell_type": "code",
   "execution_count": null,
   "id": "cf3ed85a-efbc-444a-9ca9-b8b112cc744d",
   "metadata": {},
   "outputs": [],
   "source": []
  },
  {
   "cell_type": "code",
   "execution_count": 37,
   "id": "174acca2-6ba6-4215-a9a1-10981f6e7349",
   "metadata": {},
   "outputs": [
    {
     "name": "stdout",
     "output_type": "stream",
     "text": [
      "+-------------+----------+-----+------+---+-----+\n",
      "|employee_name|department|state|salary|age|bonus|\n",
      "+-------------+----------+-----+------+---+-----+\n",
      "|         John|   finance|   NY| 44000| 24|20000|\n",
      "|        arjun|    shares|   RM| 74000| 23|50000|\n",
      "|         arun|    stocks|   IN| 64000| 23|40000|\n",
      "|      cameron|    fruits|   OH| 94000| 23|70000|\n",
      "|        james|     sales|   OH| 34000| 23|10000|\n",
      "|          mac|vegetables|   OH| 84000| 23|60000|\n",
      "|         mary|    health|   HO| 54000| 23|30000|\n",
      "+-------------+----------+-----+------+---+-----+\n",
      "\n"
     ]
    }
   ],
   "source": [
    "employee_df.sort(\"employee_name\",\"age\").show()"
   ]
  },
  {
   "cell_type": "code",
   "execution_count": null,
   "id": "63b9683d-4cfa-4450-8dbb-10f3695347f4",
   "metadata": {},
   "outputs": [],
   "source": []
  },
  {
   "cell_type": "code",
   "execution_count": 38,
   "id": "4fec309b-87a8-49e8-bd12-e1f3a18916b5",
   "metadata": {},
   "outputs": [
    {
     "name": "stdout",
     "output_type": "stream",
     "text": [
      "+-------------+----------+-----+------+---+-----+\n",
      "|employee_name|department|state|salary|age|bonus|\n",
      "+-------------+----------+-----+------+---+-----+\n",
      "|         John|   finance|   NY| 44000| 24|20000|\n",
      "|      cameron|    fruits|   OH| 94000| 23|70000|\n",
      "|         mary|    health|   HO| 54000| 23|30000|\n",
      "|        james|     sales|   OH| 34000| 23|10000|\n",
      "|        arjun|    shares|   RM| 74000| 23|50000|\n",
      "|         arun|    stocks|   IN| 64000| 23|40000|\n",
      "|          mac|vegetables|   OH| 84000| 23|60000|\n",
      "+-------------+----------+-----+------+---+-----+\n",
      "\n"
     ]
    }
   ],
   "source": [
    "employee_df.sort(\"department\",\"state\").show()"
   ]
  },
  {
   "cell_type": "code",
   "execution_count": null,
   "id": "97ed373a-4224-4df3-a521-63e9c3f99ada",
   "metadata": {},
   "outputs": [],
   "source": []
  },
  {
   "cell_type": "code",
   "execution_count": 41,
   "id": "dd4a8d5e-5ecc-456b-8708-08afaad64c2f",
   "metadata": {},
   "outputs": [
    {
     "name": "stdout",
     "output_type": "stream",
     "text": [
      "+-------------+----------+-----+------+---+-----+\n",
      "|employee_name|department|state|salary|age|bonus|\n",
      "+-------------+----------+-----+------+---+-----+\n",
      "|John         |finance   |NY   |44000 |24 |20000|\n",
      "|arjun        |shares    |RM   |74000 |23 |50000|\n",
      "|arun         |stocks    |IN   |64000 |23 |40000|\n",
      "|cameron      |fruits    |OH   |94000 |23 |70000|\n",
      "|james        |sales     |OH   |34000 |23 |10000|\n",
      "|mac          |vegetables|OH   |84000 |23 |60000|\n",
      "|mary         |health    |HO   |54000 |23 |30000|\n",
      "+-------------+----------+-----+------+---+-----+\n",
      "\n"
     ]
    }
   ],
   "source": [
    "employee_df.sort(\"employee_name\",ascending=[True]).show(truncate=False)"
   ]
  },
  {
   "cell_type": "code",
   "execution_count": 43,
   "id": "8952a6a3-b179-41bd-8d78-04c342b7b47d",
   "metadata": {},
   "outputs": [
    {
     "name": "stdout",
     "output_type": "stream",
     "text": [
      "+-------------+----------+-----+------+---+-----+\n",
      "|employee_name|department|state|salary|age|bonus|\n",
      "+-------------+----------+-----+------+---+-----+\n",
      "|         John|   finance|   NY| 44000| 24|20000|\n",
      "|        arjun|    shares|   RM| 74000| 23|50000|\n",
      "|         arun|    stocks|   IN| 64000| 23|40000|\n",
      "|      cameron|    fruits|   OH| 94000| 23|70000|\n",
      "|        james|     sales|   OH| 34000| 23|10000|\n",
      "|          mac|vegetables|   OH| 84000| 23|60000|\n",
      "|         mary|    health|   HO| 54000| 23|30000|\n",
      "+-------------+----------+-----+------+---+-----+\n",
      "\n"
     ]
    }
   ],
   "source": [
    "employee_df.sort(employee_df.employee_name.asc()).show()"
   ]
  },
  {
   "cell_type": "code",
   "execution_count": 45,
   "id": "6b215ef6-a913-43e1-8ee0-d52702c8d77c",
   "metadata": {},
   "outputs": [
    {
     "name": "stdout",
     "output_type": "stream",
     "text": [
      "+-------------+----------+-----+------+---+-----+\n",
      "|employee_name|department|state|salary|age|bonus|\n",
      "+-------------+----------+-----+------+---+-----+\n",
      "|         John|   finance|   NY| 44000| 24|20000|\n",
      "|      cameron|    fruits|   OH| 94000| 23|70000|\n",
      "|         mary|    health|   HO| 54000| 23|30000|\n",
      "|        james|     sales|   OH| 34000| 23|10000|\n",
      "|        arjun|    shares|   RM| 74000| 23|50000|\n",
      "|         arun|    stocks|   IN| 64000| 23|40000|\n",
      "|          mac|vegetables|   OH| 84000| 23|60000|\n",
      "+-------------+----------+-----+------+---+-----+\n",
      "\n"
     ]
    }
   ],
   "source": [
    "employee_df.sort(employee_df.department.asc()).show()"
   ]
  },
  {
   "cell_type": "code",
   "execution_count": 46,
   "id": "a6df6b0d-f5b8-4a01-942c-f275bd4276aa",
   "metadata": {},
   "outputs": [],
   "source": [
    "employee_df.createOrReplaceTempView(\"EMP\")"
   ]
  },
  {
   "cell_type": "code",
   "execution_count": 49,
   "id": "2e51306d-5850-4828-9a85-bcb498c3e7a3",
   "metadata": {},
   "outputs": [
    {
     "name": "stdout",
     "output_type": "stream",
     "text": [
      "+-------------+----------+-----+\n",
      "|employee_name|department|state|\n",
      "+-------------+----------+-----+\n",
      "|         John|   finance|   NY|\n",
      "|      cameron|    fruits|   OH|\n",
      "|         mary|    health|   HO|\n",
      "|        james|     sales|   OH|\n",
      "|        arjun|    shares|   RM|\n",
      "|         arun|    stocks|   IN|\n",
      "|          mac|vegetables|   OH|\n",
      "+-------------+----------+-----+\n",
      "\n"
     ]
    }
   ],
   "source": [
    "spark.sql(\"\"\"select employee_name,department,state from EMP order by department asc\"\"\").show()"
   ]
  },
  {
   "cell_type": "code",
   "execution_count": null,
   "id": "dee3882a-9dd0-4a4c-aab4-09727f9550e2",
   "metadata": {},
   "outputs": [],
   "source": []
  },
  {
   "cell_type": "code",
   "execution_count": null,
   "id": "be18b0f6-e265-44c0-b908-bca1fb623afc",
   "metadata": {},
   "outputs": [],
   "source": []
  },
  {
   "cell_type": "code",
   "execution_count": null,
   "id": "7b28891f-0cd5-44be-b0ea-bb47fc1bf81a",
   "metadata": {},
   "outputs": [],
   "source": []
  },
  {
   "cell_type": "code",
   "execution_count": null,
   "id": "60013f4d-94cc-40c9-bd0b-1149d5ca797f",
   "metadata": {},
   "outputs": [],
   "source": []
  }
 ],
 "metadata": {
  "kernelspec": {
   "display_name": "Python 3 (ipykernel)",
   "language": "python",
   "name": "python3"
  },
  "language_info": {
   "codemirror_mode": {
    "name": "ipython",
    "version": 3
   },
   "file_extension": ".py",
   "mimetype": "text/x-python",
   "name": "python",
   "nbconvert_exporter": "python",
   "pygments_lexer": "ipython3",
   "version": "3.12.2"
  }
 },
 "nbformat": 4,
 "nbformat_minor": 5
}
