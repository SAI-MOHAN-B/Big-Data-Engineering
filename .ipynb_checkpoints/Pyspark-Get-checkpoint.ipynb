{
 "cells": [
  {
   "cell_type": "code",
   "execution_count": 1,
   "id": "01c039a2-a623-4aa9-944a-9b85c438bf27",
   "metadata": {},
   "outputs": [],
   "source": [
    "import pyspark"
   ]
  },
  {
   "cell_type": "code",
   "execution_count": 3,
   "id": "7f47e1fd-8803-4a86-ba52-b48a425b6d26",
   "metadata": {},
   "outputs": [],
   "source": [
    "from pyspark.sql import SparkSession"
   ]
  },
  {
   "cell_type": "code",
   "execution_count": 4,
   "id": "42d3c399-b3b4-4a73-90cf-7d7fb9c4e764",
   "metadata": {},
   "outputs": [
    {
     "name": "stderr",
     "output_type": "stream",
     "text": [
      "Setting default log level to \"WARN\".\n",
      "To adjust logging level use sc.setLogLevel(newLevel). For SparkR, use setLogLevel(newLevel).\n",
      "24/06/04 16:14:28 WARN NativeCodeLoader: Unable to load native-hadoop library for your platform... using builtin-java classes where applicable\n"
     ]
    }
   ],
   "source": [
    "spark = SparkSession.builder.appName(\"get-data\").getOrCreate()"
   ]
  },
  {
   "cell_type": "code",
   "execution_count": 5,
   "id": "0348d511-3220-4f67-b6de-7d3b80d6919f",
   "metadata": {},
   "outputs": [
    {
     "data": {
      "text/html": [
       "\n",
       "            <div>\n",
       "                <p><b>SparkSession - in-memory</b></p>\n",
       "                \n",
       "        <div>\n",
       "            <p><b>SparkContext</b></p>\n",
       "\n",
       "            <p><a href=\"http://admins-mbp.lan:4040\">Spark UI</a></p>\n",
       "\n",
       "            <dl>\n",
       "              <dt>Version</dt>\n",
       "                <dd><code>v3.5.1</code></dd>\n",
       "              <dt>Master</dt>\n",
       "                <dd><code>local[*]</code></dd>\n",
       "              <dt>AppName</dt>\n",
       "                <dd><code>get-data</code></dd>\n",
       "            </dl>\n",
       "        </div>\n",
       "        \n",
       "            </div>\n",
       "        "
      ],
      "text/plain": [
       "<pyspark.sql.session.SparkSession at 0x1089147d0>"
      ]
     },
     "execution_count": 5,
     "metadata": {},
     "output_type": "execute_result"
    },
    {
     "name": "stderr",
     "output_type": "stream",
     "text": [
      "24/06/04 16:14:40 WARN GarbageCollectionMetrics: To enable non-built-in garbage collector(s) List(G1 Concurrent GC), users should configure it(them) to spark.eventLog.gcMetrics.youngGenerationGarbageCollectors or spark.eventLog.gcMetrics.oldGenerationGarbageCollectors\n"
     ]
    }
   ],
   "source": [
    "spark"
   ]
  },
  {
   "cell_type": "code",
   "execution_count": 6,
   "id": "5f9c344a-fb00-482d-818b-a51b7156e90f",
   "metadata": {},
   "outputs": [],
   "source": [
    "data = [(\"Alice\",35),(\"Bob\",34)]"
   ]
  },
  {
   "cell_type": "code",
   "execution_count": 7,
   "id": "af00830d-c390-4ff1-b7cd-96702cd823e6",
   "metadata": {},
   "outputs": [],
   "source": [
    "data_frame = spark.createDataFrame(data,[\"name\",\"age\"])"
   ]
  },
  {
   "cell_type": "code",
   "execution_count": 8,
   "id": "fdb42027-4386-4b25-ab52-f1c3a4ee64dc",
   "metadata": {},
   "outputs": [
    {
     "name": "stderr",
     "output_type": "stream",
     "text": [
      "                                                                                \r"
     ]
    },
    {
     "name": "stdout",
     "output_type": "stream",
     "text": [
      "+-----+---+\n",
      "| name|age|\n",
      "+-----+---+\n",
      "|Alice| 35|\n",
      "|  Bob| 34|\n",
      "+-----+---+\n",
      "\n"
     ]
    }
   ],
   "source": [
    "data_frame.show()"
   ]
  },
  {
   "cell_type": "code",
   "execution_count": 9,
   "id": "8e9847e9-3afd-44f5-a153-46c2486257db",
   "metadata": {},
   "outputs": [],
   "source": [
    "from pyspark.sql.functions import lit,reduce"
   ]
  },
  {
   "cell_type": "code",
   "execution_count": 14,
   "id": "8f90427e-5153-4fcd-add5-1d90c440c7e5",
   "metadata": {},
   "outputs": [],
   "source": [
    "df = spark.createDataFrame([(1,[10.0,20.0,30.0]),(2,[12.0,13.0])],[\"id\",\"values\"])"
   ]
  },
  {
   "cell_type": "code",
   "execution_count": 15,
   "id": "2a54c055-6290-4146-bf4d-cb6b08e6f3c1",
   "metadata": {},
   "outputs": [
    {
     "name": "stdout",
     "output_type": "stream",
     "text": [
      "+---+------------------+\n",
      "| id|            values|\n",
      "+---+------------------+\n",
      "|  1|[10.0, 20.0, 30.0]|\n",
      "|  2|      [12.0, 13.0]|\n",
      "+---+------------------+\n",
      "\n"
     ]
    }
   ],
   "source": [
    "df.show()"
   ]
  },
  {
   "cell_type": "code",
   "execution_count": 45,
   "id": "cc384f3a-3c45-4939-baa5-a766a3048de9",
   "metadata": {},
   "outputs": [],
   "source": [
    "total_sum = df.select(reduce(\"values\",lit(0.0),lambda acc,x:acc+x).alias(\"sum\"))"
   ]
  },
  {
   "cell_type": "code",
   "execution_count": 48,
   "id": "dc4e1f7e-7456-4000-a9f2-020a57500f47",
   "metadata": {},
   "outputs": [
    {
     "name": "stdout",
     "output_type": "stream",
     "text": [
      "+----+\n",
      "| sum|\n",
      "+----+\n",
      "|60.0|\n",
      "|25.0|\n",
      "+----+\n",
      "\n"
     ]
    }
   ],
   "source": [
    "total_sum.show()"
   ]
  },
  {
   "cell_type": "code",
   "execution_count": 41,
   "id": "2b055dfc-0ddb-4269-acd5-a9833a2590a3",
   "metadata": {},
   "outputs": [
    {
     "data": {
      "text/plain": [
       "Column<'sum[sum]'>"
      ]
     },
     "execution_count": 41,
     "metadata": {},
     "output_type": "execute_result"
    }
   ],
   "source": [
    "total_sum[0][\"sum\"]"
   ]
  },
  {
   "cell_type": "code",
   "execution_count": null,
   "id": "7616ed32-a0fa-4d3b-a7f8-bbf3c001bce4",
   "metadata": {},
   "outputs": [],
   "source": []
  },
  {
   "cell_type": "code",
   "execution_count": null,
   "id": "940df2aa-e73b-4041-a049-4ed1a865ef91",
   "metadata": {},
   "outputs": [],
   "source": []
  }
 ],
 "metadata": {
  "kernelspec": {
   "display_name": "Python 3 (ipykernel)",
   "language": "python",
   "name": "python3"
  },
  "language_info": {
   "codemirror_mode": {
    "name": "ipython",
    "version": 3
   },
   "file_extension": ".py",
   "mimetype": "text/x-python",
   "name": "python",
   "nbconvert_exporter": "python",
   "pygments_lexer": "ipython3",
   "version": "3.12.2"
  }
 },
 "nbformat": 4,
 "nbformat_minor": 5
}
