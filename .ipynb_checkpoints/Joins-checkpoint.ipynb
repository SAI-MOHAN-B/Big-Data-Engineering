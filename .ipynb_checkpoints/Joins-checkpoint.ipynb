{
 "cells": [
  {
   "cell_type": "code",
   "execution_count": null,
   "id": "ab583dd1-8ff7-4209-93fd-e8dc8d01b5e8",
   "metadata": {},
   "outputs": [],
   "source": [
    "import pyspark"
   ]
  },
  {
   "cell_type": "code",
   "execution_count": null,
   "id": "140ad39e-69eb-48ae-a3a2-2df8aacf9269",
   "metadata": {},
   "outputs": [],
   "source": [
    "from pyspark.sql import SparkSession"
   ]
  },
  {
   "cell_type": "code",
   "execution_count": null,
   "id": "fe7818fe-424c-49ff-9737-d4ee864d325e",
   "metadata": {},
   "outputs": [],
   "source": [
    "spark =  SparkSession.builder.appName(\"test\").getOrCreate()"
   ]
  },
  {
   "cell_type": "code",
   "execution_count": null,
   "id": "c6000246-f68b-4684-9abb-09ad5c5ec25c",
   "metadata": {},
   "outputs": [],
   "source": [
    "data = [(1,\"Smith\",-1,\"2018\",\"10\",\"M\",3000),\n",
    "         (2,\"Rose\",1,\"2010\",\"20\",\"M\",4000),\n",
    "        (3,\"Williams\",1,\"2010\",\"10\",\"M\",1000),\n",
    "        (4,\"Jones\",2,\"2005\",\"10\",\"F\",2000),\n",
    "        (5,\"Brown\",2,\"2010\",\"40\",\"\",-1),\n",
    "        (6,\"Smith Brown\",-1,\"2010\",\"50\",\"\",-1)]"
   ]
  },
  {
   "cell_type": "code",
   "execution_count": null,
   "id": "dd458b12-d1ac-4bfa-b978-b8933dc7e49f",
   "metadata": {},
   "outputs": [],
   "source": [
    "empColumns = [\"emp_id\",\"name\",\"superior_emp_id\",\"year_joiner\",\"emp_dept_id\",\"gender\",\"salary\"]"
   ]
  },
  {
   "cell_type": "code",
   "execution_count": null,
   "id": "7a3ef9f4-037d-4119-9d2d-0b35c12ab21d",
   "metadata": {},
   "outputs": [],
   "source": [
    "empdf = spark.createDataFrame(data=data,schema=empColumns)"
   ]
  },
  {
   "cell_type": "code",
   "execution_count": null,
   "id": "f57a13f5-997e-4ab5-9205-2b7b64fa8509",
   "metadata": {},
   "outputs": [],
   "source": [
    "empdf.printSchema()"
   ]
  },
  {
   "cell_type": "code",
   "execution_count": null,
   "id": "80e838d9-b901-4159-855e-48a421cfbdae",
   "metadata": {},
   "outputs": [],
   "source": [
    "dept = [(\"Finance\",10),(\"Marketing\",20),(\"Sales\",30),(\"IT\",40)]"
   ]
  },
  {
   "cell_type": "code",
   "execution_count": null,
   "id": "c88f742d-aac4-4573-8fbd-182bdd7c2d22",
   "metadata": {},
   "outputs": [],
   "source": [
    "deptdf = spark.createDataFrame(data=dept,schema = [\"dept_name\",\"dept_id\"])"
   ]
  },
  {
   "cell_type": "code",
   "execution_count": null,
   "id": "8441e73e-a7d4-4512-8ef8-9a9e5a05a454",
   "metadata": {},
   "outputs": [],
   "source": [
    "deptdf.show()\n",
    "empdf.show()"
   ]
  },
  {
   "cell_type": "code",
   "execution_count": null,
   "id": "f9f1c500-8f37-4a16-85ad-b1e835baa122",
   "metadata": {},
   "outputs": [],
   "source": [
    "empdf.join(deptdf,empdf.emp_dept_id == deptdf.dept_id,\"inner\").show()"
   ]
  },
  {
   "cell_type": "code",
   "execution_count": null,
   "id": "7d7738c7-ea46-4b50-bc63-1ff62ffbf23a",
   "metadata": {},
   "outputs": [],
   "source": [
    "empdf.join(deptdf,empdf.emp_dept_id == deptdf.dept_id,\"left\").show()"
   ]
  },
  {
   "cell_type": "code",
   "execution_count": null,
   "id": "788a0694-0818-406e-a9b6-819698e1c51b",
   "metadata": {},
   "outputs": [],
   "source": [
    "empdf.createOrReplaceTempView(\"employee\")\n",
    "deptdf.createOrReplaceTempView(\"dept\")"
   ]
  },
  {
   "cell_type": "code",
   "execution_count": null,
   "id": "01458878-eee6-4c9c-a4ab-666aa135f650",
   "metadata": {},
   "outputs": [],
   "source": [
    "spark.sql(\"\"\" select emp_id, name from employee e join dept d on e.emp_dept_id == d.dept_id \"\"\").show()"
   ]
  },
  {
   "cell_type": "code",
   "execution_count": null,
   "id": "abfee2f4-20df-4d25-bf03-671f56f0bded",
   "metadata": {},
   "outputs": [],
   "source": [
    "empdf.join(deptdf,empdf.emp_dept_id == deptdf.dept_id,\"left\").show()"
   ]
  },
  {
   "cell_type": "code",
   "execution_count": null,
   "id": "d6b090d4-6625-49bc-b89e-2c54dbc73bef",
   "metadata": {},
   "outputs": [],
   "source": [
    "empdf.join(deptdf,empdf.emp_dept_id == deptdf.dept_id,\"right\").show()"
   ]
  },
  {
   "cell_type": "code",
   "execution_count": null,
   "id": "9d713ab1-77b9-428b-afcb-704e7831a1ae",
   "metadata": {},
   "outputs": [],
   "source": [
    "empdf.join(deptdf,empdf.emp_dept_id == deptdf.dept_id,\"outer\").show()"
   ]
  },
  {
   "cell_type": "code",
   "execution_count": null,
   "id": "de0bfb22-862b-492b-9bad-196738c31965",
   "metadata": {},
   "outputs": [],
   "source": [
    "empdf.join(deptdf,empdf.emp_dept_id == deptdf.dept_id,\"leftouter\").show()"
   ]
  },
  {
   "cell_type": "code",
   "execution_count": null,
   "id": "50648e9f-eac6-4fa0-9628-c05dd395a7b7",
   "metadata": {},
   "outputs": [],
   "source": [
    "empdf.join(deptdf,empdf.emp_dept_id == deptdf.dept_id,\"leftsemi\").show()"
   ]
  },
  {
   "cell_type": "code",
   "execution_count": null,
   "id": "a5fab493-9f80-41b3-a481-de71ef93ab8f",
   "metadata": {},
   "outputs": [],
   "source": [
    "empdf.join(deptdf,empdf.emp_dept_id ==  deptdf.dept_id,\"leftanti\").show()"
   ]
  },
  {
   "cell_type": "code",
   "execution_count": null,
   "id": "04e37941-175e-47ff-96b0-6834686119ea",
   "metadata": {},
   "outputs": [],
   "source": [
    "empdf.createOrReplaceTempView(\"employee\")\n",
    "deptdf.createOrReplaceTempView(\"dept\")"
   ]
  },
  {
   "cell_type": "code",
   "execution_count": null,
   "id": "1f756c6c-f824-40c9-91a4-227d35e07e43",
   "metadata": {},
   "outputs": [],
   "source": [
    "spark.sql(\"\"\" select name,year_joiner from employee left join dept on dept.dept_id = employee.emp_dept_id \"\"\").show()"
   ]
  },
  {
   "cell_type": "code",
   "execution_count": null,
   "id": "85268535-81b6-4e28-ab9e-30671119f1c0",
   "metadata": {},
   "outputs": [],
   "source": []
  },
  {
   "cell_type": "code",
   "execution_count": null,
   "id": "9b2dcb26-5926-4653-8c6d-0f9954743c44",
   "metadata": {},
   "outputs": [],
   "source": []
  },
  {
   "cell_type": "code",
   "execution_count": null,
   "id": "3b05b3d1-c30e-4658-bcb9-2ce83a27a292",
   "metadata": {},
   "outputs": [],
   "source": []
  },
  {
   "cell_type": "code",
   "execution_count": null,
   "id": "cf3b2fcd-c111-42ea-9aa1-c6b3ded493f5",
   "metadata": {},
   "outputs": [],
   "source": []
  },
  {
   "cell_type": "code",
   "execution_count": null,
   "id": "6a3e009d-178f-4dcb-a09b-85a0b6a8415a",
   "metadata": {},
   "outputs": [],
   "source": []
  }
 ],
 "metadata": {
  "kernelspec": {
   "display_name": "Python 3 (ipykernel)",
   "language": "python",
   "name": "python3"
  },
  "language_info": {
   "codemirror_mode": {
    "name": "ipython",
    "version": 3
   },
   "file_extension": ".py",
   "mimetype": "text/x-python",
   "name": "python",
   "nbconvert_exporter": "python",
   "pygments_lexer": "ipython3",
   "version": "3.12.2"
  }
 },
 "nbformat": 4,
 "nbformat_minor": 5
}
