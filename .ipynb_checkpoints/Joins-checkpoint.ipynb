{
 "cells": [
  {
   "cell_type": "code",
   "execution_count": 1,
   "id": "ab583dd1-8ff7-4209-93fd-e8dc8d01b5e8",
   "metadata": {},
   "outputs": [],
   "source": [
    "import pyspark"
   ]
  },
  {
   "cell_type": "code",
   "execution_count": 2,
   "id": "140ad39e-69eb-48ae-a3a2-2df8aacf9269",
   "metadata": {},
   "outputs": [],
   "source": [
    "from pyspark.sql import SparkSession"
   ]
  },
  {
   "cell_type": "code",
   "execution_count": 3,
   "id": "fe7818fe-424c-49ff-9737-d4ee864d325e",
   "metadata": {},
   "outputs": [
    {
     "name": "stderr",
     "output_type": "stream",
     "text": [
      "Setting default log level to \"WARN\".\n",
      "To adjust logging level use sc.setLogLevel(newLevel). For SparkR, use setLogLevel(newLevel).\n",
      "24/06/05 18:24:25 WARN NativeCodeLoader: Unable to load native-hadoop library for your platform... using builtin-java classes where applicable\n",
      "24/06/05 18:24:37 WARN GarbageCollectionMetrics: To enable non-built-in garbage collector(s) List(G1 Concurrent GC), users should configure it(them) to spark.eventLog.gcMetrics.youngGenerationGarbageCollectors or spark.eventLog.gcMetrics.oldGenerationGarbageCollectors\n"
     ]
    }
   ],
   "source": [
    "spark =  SparkSession.builder.appName(\"test\").getOrCreate()"
   ]
  },
  {
   "cell_type": "code",
   "execution_count": 35,
   "id": "c6000246-f68b-4684-9abb-09ad5c5ec25c",
   "metadata": {},
   "outputs": [],
   "source": [
    "data = [(1,\"Smith\",-1,\"2018\",\"10\",\"M\",3000),\n",
    "         (2,\"Rose\",1,\"2010\",\"20\",\"M\",4000),\n",
    "        (3,\"Williams\",1,\"2010\",\"10\",\"M\",1000),\n",
    "        (4,\"Jones\",2,\"2005\",\"10\",\"F\",2000),\n",
    "        (5,\"Brown\",2,\"2010\",\"40\",\"\",-1),\n",
    "        (6,\"Smith Brown\",-1,\"2010\",\"50\",\"\",-1)]"
   ]
  },
  {
   "cell_type": "code",
   "execution_count": 36,
   "id": "dd458b12-d1ac-4bfa-b978-b8933dc7e49f",
   "metadata": {},
   "outputs": [],
   "source": [
    "empColumns = [\"emp_id\",\"name\",\"superior_emp_id\",\"year_joiner\",\"emp_dept_id\",\"gender\",\"salary\"]"
   ]
  },
  {
   "cell_type": "code",
   "execution_count": 37,
   "id": "7a3ef9f4-037d-4119-9d2d-0b35c12ab21d",
   "metadata": {},
   "outputs": [],
   "source": [
    "empdf = spark.createDataFrame(data=data,schema=empColumns)"
   ]
  },
  {
   "cell_type": "code",
   "execution_count": 38,
   "id": "f57a13f5-997e-4ab5-9205-2b7b64fa8509",
   "metadata": {},
   "outputs": [
    {
     "name": "stdout",
     "output_type": "stream",
     "text": [
      "root\n",
      " |-- emp_id: long (nullable = true)\n",
      " |-- name: string (nullable = true)\n",
      " |-- superior_emp_id: long (nullable = true)\n",
      " |-- year_joiner: string (nullable = true)\n",
      " |-- emp_dept_id: string (nullable = true)\n",
      " |-- gender: string (nullable = true)\n",
      " |-- salary: long (nullable = true)\n",
      "\n"
     ]
    }
   ],
   "source": [
    "empdf.printSchema()"
   ]
  },
  {
   "cell_type": "code",
   "execution_count": 39,
   "id": "80e838d9-b901-4159-855e-48a421cfbdae",
   "metadata": {},
   "outputs": [],
   "source": [
    "dept = [(\"Finance\",10),(\"Marketing\",20),(\"Sales\",30),(\"IT\",40)]"
   ]
  },
  {
   "cell_type": "code",
   "execution_count": 40,
   "id": "c88f742d-aac4-4573-8fbd-182bdd7c2d22",
   "metadata": {},
   "outputs": [],
   "source": [
    "deptdf = spark.createDataFrame(data=dept,schema = [\"dept_name\",\"dept_id\"])"
   ]
  },
  {
   "cell_type": "code",
   "execution_count": 41,
   "id": "8441e73e-a7d4-4512-8ef8-9a9e5a05a454",
   "metadata": {},
   "outputs": [
    {
     "name": "stdout",
     "output_type": "stream",
     "text": [
      "+---------+-------+\n",
      "|dept_name|dept_id|\n",
      "+---------+-------+\n",
      "|  Finance|     10|\n",
      "|Marketing|     20|\n",
      "|    Sales|     30|\n",
      "|       IT|     40|\n",
      "+---------+-------+\n",
      "\n",
      "+------+-----------+---------------+-----------+-----------+------+------+\n",
      "|emp_id|       name|superior_emp_id|year_joiner|emp_dept_id|gender|salary|\n",
      "+------+-----------+---------------+-----------+-----------+------+------+\n",
      "|     1|      Smith|             -1|       2018|         10|     M|  3000|\n",
      "|     2|       Rose|              1|       2010|         20|     M|  4000|\n",
      "|     3|   Williams|              1|       2010|         10|     M|  1000|\n",
      "|     4|      Jones|              2|       2005|         10|     F|  2000|\n",
      "|     5|      Brown|              2|       2010|         40|      |    -1|\n",
      "|     6|Smith Brown|             -1|       2010|         50|      |    -1|\n",
      "+------+-----------+---------------+-----------+-----------+------+------+\n",
      "\n"
     ]
    }
   ],
   "source": [
    "deptdf.show()\n",
    "empdf.show()"
   ]
  },
  {
   "cell_type": "code",
   "execution_count": 42,
   "id": "f9f1c500-8f37-4a16-85ad-b1e835baa122",
   "metadata": {},
   "outputs": [
    {
     "name": "stdout",
     "output_type": "stream",
     "text": [
      "+------+--------+---------------+-----------+-----------+------+------+---------+-------+\n",
      "|emp_id|    name|superior_emp_id|year_joiner|emp_dept_id|gender|salary|dept_name|dept_id|\n",
      "+------+--------+---------------+-----------+-----------+------+------+---------+-------+\n",
      "|     1|   Smith|             -1|       2018|         10|     M|  3000|  Finance|     10|\n",
      "|     3|Williams|              1|       2010|         10|     M|  1000|  Finance|     10|\n",
      "|     4|   Jones|              2|       2005|         10|     F|  2000|  Finance|     10|\n",
      "|     2|    Rose|              1|       2010|         20|     M|  4000|Marketing|     20|\n",
      "|     5|   Brown|              2|       2010|         40|      |    -1|       IT|     40|\n",
      "+------+--------+---------------+-----------+-----------+------+------+---------+-------+\n",
      "\n"
     ]
    }
   ],
   "source": [
    "empdf.join(deptdf,empdf.emp_dept_id == deptdf.dept_id,\"inner\").show()"
   ]
  },
  {
   "cell_type": "code",
   "execution_count": 43,
   "id": "7d7738c7-ea46-4b50-bc63-1ff62ffbf23a",
   "metadata": {},
   "outputs": [
    {
     "name": "stdout",
     "output_type": "stream",
     "text": [
      "+------+-----------+---------------+-----------+-----------+------+------+---------+-------+\n",
      "|emp_id|       name|superior_emp_id|year_joiner|emp_dept_id|gender|salary|dept_name|dept_id|\n",
      "+------+-----------+---------------+-----------+-----------+------+------+---------+-------+\n",
      "|     1|      Smith|             -1|       2018|         10|     M|  3000|  Finance|     10|\n",
      "|     2|       Rose|              1|       2010|         20|     M|  4000|Marketing|     20|\n",
      "|     3|   Williams|              1|       2010|         10|     M|  1000|  Finance|     10|\n",
      "|     4|      Jones|              2|       2005|         10|     F|  2000|  Finance|     10|\n",
      "|     5|      Brown|              2|       2010|         40|      |    -1|       IT|     40|\n",
      "|     6|Smith Brown|             -1|       2010|         50|      |    -1|     NULL|   NULL|\n",
      "+------+-----------+---------------+-----------+-----------+------+------+---------+-------+\n",
      "\n"
     ]
    }
   ],
   "source": [
    "empdf.join(deptdf,empdf.emp_dept_id == deptdf.dept_id,\"left\").show()"
   ]
  },
  {
   "cell_type": "code",
   "execution_count": 44,
   "id": "788a0694-0818-406e-a9b6-819698e1c51b",
   "metadata": {},
   "outputs": [],
   "source": [
    "empdf.createOrReplaceTempView(\"employee\")\n",
    "deptdf.createOrReplaceTempView(\"dept\")"
   ]
  },
  {
   "cell_type": "code",
   "execution_count": 45,
   "id": "01458878-eee6-4c9c-a4ab-666aa135f650",
   "metadata": {},
   "outputs": [
    {
     "name": "stdout",
     "output_type": "stream",
     "text": [
      "+------+--------+\n",
      "|emp_id|    name|\n",
      "+------+--------+\n",
      "|     1|   Smith|\n",
      "|     3|Williams|\n",
      "|     4|   Jones|\n",
      "|     2|    Rose|\n",
      "|     5|   Brown|\n",
      "+------+--------+\n",
      "\n"
     ]
    }
   ],
   "source": [
    "spark.sql(\"\"\" select emp_id, name from employee e join dept d on e.emp_dept_id == d.dept_id \"\"\").show()"
   ]
  },
  {
   "cell_type": "code",
   "execution_count": 52,
   "id": "abfee2f4-20df-4d25-bf03-671f56f0bded",
   "metadata": {},
   "outputs": [
    {
     "name": "stdout",
     "output_type": "stream",
     "text": [
      "+------+-----------+---------------+-----------+-----------+------+------+---------+-------+\n",
      "|emp_id|       name|superior_emp_id|year_joiner|emp_dept_id|gender|salary|dept_name|dept_id|\n",
      "+------+-----------+---------------+-----------+-----------+------+------+---------+-------+\n",
      "|     1|      Smith|             -1|       2018|         10|     M|  3000|  Finance|     10|\n",
      "|     2|       Rose|              1|       2010|         20|     M|  4000|Marketing|     20|\n",
      "|     3|   Williams|              1|       2010|         10|     M|  1000|  Finance|     10|\n",
      "|     4|      Jones|              2|       2005|         10|     F|  2000|  Finance|     10|\n",
      "|     5|      Brown|              2|       2010|         40|      |    -1|       IT|     40|\n",
      "|     6|Smith Brown|             -1|       2010|         50|      |    -1|     NULL|   NULL|\n",
      "+------+-----------+---------------+-----------+-----------+------+------+---------+-------+\n",
      "\n"
     ]
    }
   ],
   "source": [
    "empdf.join(deptdf,empdf.emp_dept_id == deptdf.dept_id,\"left\").show()"
   ]
  },
  {
   "cell_type": "code",
   "execution_count": 55,
   "id": "d6b090d4-6625-49bc-b89e-2c54dbc73bef",
   "metadata": {},
   "outputs": [
    {
     "name": "stdout",
     "output_type": "stream",
     "text": [
      "+------+--------+---------------+-----------+-----------+------+------+---------+-------+\n",
      "|emp_id|    name|superior_emp_id|year_joiner|emp_dept_id|gender|salary|dept_name|dept_id|\n",
      "+------+--------+---------------+-----------+-----------+------+------+---------+-------+\n",
      "|     4|   Jones|              2|       2005|         10|     F|  2000|  Finance|     10|\n",
      "|     3|Williams|              1|       2010|         10|     M|  1000|  Finance|     10|\n",
      "|     1|   Smith|             -1|       2018|         10|     M|  3000|  Finance|     10|\n",
      "|     2|    Rose|              1|       2010|         20|     M|  4000|Marketing|     20|\n",
      "|  NULL|    NULL|           NULL|       NULL|       NULL|  NULL|  NULL|    Sales|     30|\n",
      "|     5|   Brown|              2|       2010|         40|      |    -1|       IT|     40|\n",
      "+------+--------+---------------+-----------+-----------+------+------+---------+-------+\n",
      "\n"
     ]
    }
   ],
   "source": [
    "empdf.join(deptdf,empdf.emp_dept_id == deptdf.dept_id,\"right\").show()"
   ]
  },
  {
   "cell_type": "code",
   "execution_count": 56,
   "id": "9d713ab1-77b9-428b-afcb-704e7831a1ae",
   "metadata": {},
   "outputs": [
    {
     "name": "stdout",
     "output_type": "stream",
     "text": [
      "+------+-----------+---------------+-----------+-----------+------+------+---------+-------+\n",
      "|emp_id|       name|superior_emp_id|year_joiner|emp_dept_id|gender|salary|dept_name|dept_id|\n",
      "+------+-----------+---------------+-----------+-----------+------+------+---------+-------+\n",
      "|     1|      Smith|             -1|       2018|         10|     M|  3000|  Finance|     10|\n",
      "|     3|   Williams|              1|       2010|         10|     M|  1000|  Finance|     10|\n",
      "|     4|      Jones|              2|       2005|         10|     F|  2000|  Finance|     10|\n",
      "|     2|       Rose|              1|       2010|         20|     M|  4000|Marketing|     20|\n",
      "|  NULL|       NULL|           NULL|       NULL|       NULL|  NULL|  NULL|    Sales|     30|\n",
      "|     5|      Brown|              2|       2010|         40|      |    -1|       IT|     40|\n",
      "|     6|Smith Brown|             -1|       2010|         50|      |    -1|     NULL|   NULL|\n",
      "+------+-----------+---------------+-----------+-----------+------+------+---------+-------+\n",
      "\n"
     ]
    }
   ],
   "source": [
    "empdf.join(deptdf,empdf.emp_dept_id == deptdf.dept_id,\"outer\").show()"
   ]
  },
  {
   "cell_type": "code",
   "execution_count": 58,
   "id": "de0bfb22-862b-492b-9bad-196738c31965",
   "metadata": {},
   "outputs": [
    {
     "name": "stdout",
     "output_type": "stream",
     "text": [
      "+------+-----------+---------------+-----------+-----------+------+------+---------+-------+\n",
      "|emp_id|       name|superior_emp_id|year_joiner|emp_dept_id|gender|salary|dept_name|dept_id|\n",
      "+------+-----------+---------------+-----------+-----------+------+------+---------+-------+\n",
      "|     1|      Smith|             -1|       2018|         10|     M|  3000|  Finance|     10|\n",
      "|     2|       Rose|              1|       2010|         20|     M|  4000|Marketing|     20|\n",
      "|     3|   Williams|              1|       2010|         10|     M|  1000|  Finance|     10|\n",
      "|     4|      Jones|              2|       2005|         10|     F|  2000|  Finance|     10|\n",
      "|     5|      Brown|              2|       2010|         40|      |    -1|       IT|     40|\n",
      "|     6|Smith Brown|             -1|       2010|         50|      |    -1|     NULL|   NULL|\n",
      "+------+-----------+---------------+-----------+-----------+------+------+---------+-------+\n",
      "\n"
     ]
    }
   ],
   "source": [
    "empdf.join(deptdf,empdf.emp_dept_id == deptdf.dept_id,\"leftouter\").show()"
   ]
  },
  {
   "cell_type": "code",
   "execution_count": 59,
   "id": "50648e9f-eac6-4fa0-9628-c05dd395a7b7",
   "metadata": {},
   "outputs": [
    {
     "name": "stdout",
     "output_type": "stream",
     "text": [
      "+------+--------+---------------+-----------+-----------+------+------+\n",
      "|emp_id|    name|superior_emp_id|year_joiner|emp_dept_id|gender|salary|\n",
      "+------+--------+---------------+-----------+-----------+------+------+\n",
      "|     1|   Smith|             -1|       2018|         10|     M|  3000|\n",
      "|     3|Williams|              1|       2010|         10|     M|  1000|\n",
      "|     4|   Jones|              2|       2005|         10|     F|  2000|\n",
      "|     2|    Rose|              1|       2010|         20|     M|  4000|\n",
      "|     5|   Brown|              2|       2010|         40|      |    -1|\n",
      "+------+--------+---------------+-----------+-----------+------+------+\n",
      "\n"
     ]
    },
    {
     "name": "stderr",
     "output_type": "stream",
     "text": [
      "                                                                                \r"
     ]
    }
   ],
   "source": [
    "empdf.join(deptdf,empdf.emp_dept_id == deptdf.dept_id,\"leftsemi\").show()"
   ]
  },
  {
   "cell_type": "code",
   "execution_count": 60,
   "id": "a5fab493-9f80-41b3-a481-de71ef93ab8f",
   "metadata": {},
   "outputs": [
    {
     "name": "stdout",
     "output_type": "stream",
     "text": [
      "+------+-----------+---------------+-----------+-----------+------+------+\n",
      "|emp_id|       name|superior_emp_id|year_joiner|emp_dept_id|gender|salary|\n",
      "+------+-----------+---------------+-----------+-----------+------+------+\n",
      "|     6|Smith Brown|             -1|       2010|         50|      |    -1|\n",
      "+------+-----------+---------------+-----------+-----------+------+------+\n",
      "\n"
     ]
    }
   ],
   "source": [
    "empdf.join(deptdf,empdf.emp_dept_id ==  deptdf.dept_id,\"leftanti\").show()"
   ]
  },
  {
   "cell_type": "code",
   "execution_count": 61,
   "id": "04e37941-175e-47ff-96b0-6834686119ea",
   "metadata": {},
   "outputs": [],
   "source": [
    "empdf.createOrReplaceTempView(\"employee\")\n",
    "deptdf.createOrReplaceTempView(\"dept\")"
   ]
  },
  {
   "cell_type": "code",
   "execution_count": 64,
   "id": "1f756c6c-f824-40c9-91a4-227d35e07e43",
   "metadata": {},
   "outputs": [
    {
     "name": "stdout",
     "output_type": "stream",
     "text": [
      "+-----------+-----------+\n",
      "|       name|year_joiner|\n",
      "+-----------+-----------+\n",
      "|      Smith|       2018|\n",
      "|       Rose|       2010|\n",
      "|   Williams|       2010|\n",
      "|      Jones|       2005|\n",
      "|      Brown|       2010|\n",
      "|Smith Brown|       2010|\n",
      "+-----------+-----------+\n",
      "\n"
     ]
    }
   ],
   "source": [
    "spark.sql(\"\"\" select name,year_joiner from employee left join dept on dept.dept_id = employee.emp_dept_id \"\"\").show()"
   ]
  },
  {
   "cell_type": "code",
   "execution_count": null,
   "id": "85268535-81b6-4e28-ab9e-30671119f1c0",
   "metadata": {},
   "outputs": [],
   "source": []
  },
  {
   "cell_type": "code",
   "execution_count": null,
   "id": "9b2dcb26-5926-4653-8c6d-0f9954743c44",
   "metadata": {},
   "outputs": [],
   "source": []
  },
  {
   "cell_type": "code",
   "execution_count": null,
   "id": "3b05b3d1-c30e-4658-bcb9-2ce83a27a292",
   "metadata": {},
   "outputs": [],
   "source": []
  },
  {
   "cell_type": "code",
   "execution_count": null,
   "id": "cf3b2fcd-c111-42ea-9aa1-c6b3ded493f5",
   "metadata": {},
   "outputs": [],
   "source": []
  },
  {
   "cell_type": "code",
   "execution_count": null,
   "id": "6a3e009d-178f-4dcb-a09b-85a0b6a8415a",
   "metadata": {},
   "outputs": [],
   "source": []
  }
 ],
 "metadata": {
  "kernelspec": {
   "display_name": "Python 3 (ipykernel)",
   "language": "python",
   "name": "python3"
  },
  "language_info": {
   "codemirror_mode": {
    "name": "ipython",
    "version": 3
   },
   "file_extension": ".py",
   "mimetype": "text/x-python",
   "name": "python",
   "nbconvert_exporter": "python",
   "pygments_lexer": "ipython3",
   "version": "3.12.2"
  }
 },
 "nbformat": 4,
 "nbformat_minor": 5
}
