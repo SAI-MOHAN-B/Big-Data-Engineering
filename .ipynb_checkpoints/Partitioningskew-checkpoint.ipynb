{
 "cells": [
  {
   "cell_type": "code",
   "execution_count": 23,
   "id": "6b230a46-8324-40e9-99c5-02f8df244f7e",
   "metadata": {},
   "outputs": [],
   "source": [
    "import pyspark"
   ]
  },
  {
   "cell_type": "code",
   "execution_count": 36,
   "id": "d790a541-f654-42f5-8f9f-5be49ae56721",
   "metadata": {},
   "outputs": [],
   "source": [
    "from pyspark.sql import SparkSession\n",
    "from pyspark.sql.functions import *"
   ]
  },
  {
   "cell_type": "code",
   "execution_count": 25,
   "id": "83dcf434-10d7-46ae-bd51-51547596324a",
   "metadata": {},
   "outputs": [],
   "source": [
    "spark = SparkSession.builder.appName(\"test\").getOrCreate()"
   ]
  },
  {
   "cell_type": "code",
   "execution_count": 70,
   "id": "8fa7b17b-14fc-4dbe-93e6-a664f8196cd8",
   "metadata": {},
   "outputs": [],
   "source": [
    "data = [(\"key1\",i) for i in range(5)]+[(\"key2\",i) for i in range(2)]+[(\"key3\",i) for i in range(3)]"
   ]
  },
  {
   "cell_type": "code",
   "execution_count": 71,
   "id": "18d28176-1dc3-4c6d-a6e3-615df31db1cf",
   "metadata": {},
   "outputs": [],
   "source": [
    "cols = [\"key\",\"value\"]"
   ]
  },
  {
   "cell_type": "code",
   "execution_count": 72,
   "id": "068cf14d-e8b0-42d0-ac8d-f4b1d238036c",
   "metadata": {},
   "outputs": [],
   "source": [
    "df = spark.createDataFrame(data=data,schema=cols)"
   ]
  },
  {
   "cell_type": "code",
   "execution_count": 86,
   "id": "71df19fc-53f9-405c-af3b-21a464cda69a",
   "metadata": {},
   "outputs": [
    {
     "name": "stdout",
     "output_type": "stream",
     "text": [
      "+----+-----+\n",
      "| key|count|\n",
      "+----+-----+\n",
      "|key1|    5|\n",
      "|key2|    2|\n",
      "|key3|    3|\n",
      "+----+-----+\n",
      "\n"
     ]
    }
   ],
   "source": [
    "df.groupBy(\"key\").count().show()"
   ]
  },
  {
   "cell_type": "code",
   "execution_count": 73,
   "id": "b884db6c-7c66-4008-ad41-11091607e033",
   "metadata": {},
   "outputs": [],
   "source": [
    "data_2 = [(\"key1\",\"A\"),(\"key2\",\"B\"),(\"key3\",\"C\")]"
   ]
  },
  {
   "cell_type": "code",
   "execution_count": 74,
   "id": "a0b8f3c9-6dff-47bd-a354-f69d13b812c8",
   "metadata": {},
   "outputs": [],
   "source": [
    "schema = [\"key\",\"category\"]"
   ]
  },
  {
   "cell_type": "code",
   "execution_count": 75,
   "id": "18aa5591-3ebb-49fd-92ad-22bdc73a266e",
   "metadata": {},
   "outputs": [],
   "source": [
    "df2 = spark.createDataFrame(data=data_2,schema=schema)"
   ]
  },
  {
   "cell_type": "code",
   "execution_count": 76,
   "id": "4b87eaf0-04ae-4784-92f9-0a14c7973387",
   "metadata": {},
   "outputs": [],
   "source": [
    "join_df = df.join(df2,\"key\")"
   ]
  },
  {
   "cell_type": "code",
   "execution_count": 77,
   "id": "779ec362-70cc-4280-86d1-b8fea238c7dd",
   "metadata": {},
   "outputs": [],
   "source": [
    "num_salt = 3"
   ]
  },
  {
   "cell_type": "code",
   "execution_count": 78,
   "id": "e42e4ea1-6dfd-4ae2-969e-457dd29c233b",
   "metadata": {},
   "outputs": [],
   "source": [
    "df = df.withColumn(\"salt\",(rand()*num_salt).cast(\"int\"))"
   ]
  },
  {
   "cell_type": "code",
   "execution_count": 79,
   "id": "672e9755-bde4-4a1f-bc5b-16ce67cf286d",
   "metadata": {},
   "outputs": [],
   "source": [
    "df2_salted = df2.crossJoin(spark.range(0,num_salt).toDF(\"salt\"))"
   ]
  },
  {
   "cell_type": "code",
   "execution_count": 84,
   "id": "6886731b-f744-41a2-b597-b33263556456",
   "metadata": {},
   "outputs": [],
   "source": [
    "joined_df = df.join(df2_salted,[\"key\",\"salt\"])"
   ]
  },
  {
   "cell_type": "code",
   "execution_count": 85,
   "id": "7684f711-439d-4864-bebd-6fd62b77e1ce",
   "metadata": {},
   "outputs": [
    {
     "name": "stdout",
     "output_type": "stream",
     "text": [
      "+----+----+-----+--------+\n",
      "| key|salt|value|category|\n",
      "+----+----+-----+--------+\n",
      "|key1|   1|    1|       A|\n",
      "|key1|   1|    4|       A|\n",
      "|key1|   2|    0|       A|\n",
      "|key1|   2|    2|       A|\n",
      "|key1|   2|    3|       A|\n",
      "|key2|   0|    0|       B|\n",
      "|key2|   0|    1|       B|\n",
      "|key3|   1|    1|       C|\n",
      "|key3|   1|    2|       C|\n",
      "|key3|   2|    0|       C|\n",
      "+----+----+-----+--------+\n",
      "\n"
     ]
    }
   ],
   "source": [
    "joined_df.show()"
   ]
  },
  {
   "cell_type": "code",
   "execution_count": null,
   "id": "6c3fb920-2b43-475c-a097-46a9bcd0d0f5",
   "metadata": {},
   "outputs": [],
   "source": []
  },
  {
   "cell_type": "code",
   "execution_count": null,
   "id": "15d6f333-02aa-4d42-b28e-eae0ab193e9e",
   "metadata": {},
   "outputs": [],
   "source": []
  },
  {
   "cell_type": "code",
   "execution_count": null,
   "id": "e645e409-b8bd-4e7e-a0eb-dba7ff07e85d",
   "metadata": {},
   "outputs": [],
   "source": []
  },
  {
   "cell_type": "code",
   "execution_count": null,
   "id": "d83f0d2c-d02f-455d-8528-c4ad3f58c01c",
   "metadata": {},
   "outputs": [],
   "source": []
  },
  {
   "cell_type": "code",
   "execution_count": null,
   "id": "8f8fba06-3598-4015-ad91-98dda86b3fad",
   "metadata": {},
   "outputs": [],
   "source": []
  }
 ],
 "metadata": {
  "kernelspec": {
   "display_name": "Python 3 (ipykernel)",
   "language": "python",
   "name": "python3"
  },
  "language_info": {
   "codemirror_mode": {
    "name": "ipython",
    "version": 3
   },
   "file_extension": ".py",
   "mimetype": "text/x-python",
   "name": "python",
   "nbconvert_exporter": "python",
   "pygments_lexer": "ipython3",
   "version": "3.12.2"
  }
 },
 "nbformat": 4,
 "nbformat_minor": 5
}
