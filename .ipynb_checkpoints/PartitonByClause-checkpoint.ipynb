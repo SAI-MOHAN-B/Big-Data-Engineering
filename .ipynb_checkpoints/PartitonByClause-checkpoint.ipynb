{
 "cells": [
  {
   "cell_type": "code",
   "execution_count": 1,
   "id": "072026b4-fd54-4b18-ac92-070a77249c53",
   "metadata": {},
   "outputs": [],
   "source": [
    "import pyspark"
   ]
  },
  {
   "cell_type": "code",
   "execution_count": 2,
   "id": "cc968f29-8f41-4bed-ae99-495b17c51c9c",
   "metadata": {},
   "outputs": [],
   "source": [
    "from pyspark.sql import SparkSession"
   ]
  },
  {
   "cell_type": "code",
   "execution_count": 4,
   "id": "dac3e358-9843-4d61-b85e-0c4ea950db5f",
   "metadata": {},
   "outputs": [],
   "source": [
    "from pyspark.sql.functions import *"
   ]
  },
  {
   "cell_type": "code",
   "execution_count": 6,
   "id": "5a86d78b-4b6a-4e6c-88a8-7da7aed06021",
   "metadata": {},
   "outputs": [
    {
     "name": "stderr",
     "output_type": "stream",
     "text": [
      "Setting default log level to \"WARN\".\n",
      "To adjust logging level use sc.setLogLevel(newLevel). For SparkR, use setLogLevel(newLevel).\n",
      "24/06/24 16:02:49 WARN NativeCodeLoader: Unable to load native-hadoop library for your platform... using builtin-java classes where applicable\n"
     ]
    }
   ],
   "source": [
    "spark = SparkSession.builder.appName(\"test\").getOrCreate()"
   ]
  },
  {
   "cell_type": "code",
   "execution_count": 9,
   "id": "d4033b16-4359-4d4b-bfe0-0d6420e2a32b",
   "metadata": {},
   "outputs": [],
   "source": [
    "df = spark.read.format(\"csv\").option(\"header\",True).option(\"inferSchema\",True).load(\"simple-zipcodes.csv\")"
   ]
  },
  {
   "cell_type": "code",
   "execution_count": 14,
   "id": "a8dad535-94c9-4d0d-be09-042ab57062d4",
   "metadata": {},
   "outputs": [
    {
     "name": "stdout",
     "output_type": "stream",
     "text": [
      "+------------+-------+-----------+-------+-----+\n",
      "|RecordNumber|Country|       City|Zipcode|State|\n",
      "+------------+-------+-----------+-------+-----+\n",
      "|           1|     US|PARC PARQUE|    704|   PR|\n",
      "+------------+-------+-----------+-------+-----+\n",
      "only showing top 1 row\n",
      "\n"
     ]
    }
   ],
   "source": [
    "df.show(1)"
   ]
  },
  {
   "cell_type": "code",
   "execution_count": 13,
   "id": "46220e88-83f6-49c9-be37-c6b9d986aaad",
   "metadata": {},
   "outputs": [],
   "source": [
    "df.write.mode(\"overwrite\").option(\"header\",True).partitionBy(\"State\").csv(\"zipcodes-state\")"
   ]
  },
  {
   "cell_type": "code",
   "execution_count": 16,
   "id": "73c949a1-b8b3-4e8d-8f2a-ab529181132c",
   "metadata": {},
   "outputs": [
    {
     "name": "stderr",
     "output_type": "stream",
     "text": [
      "                                                                                \r"
     ]
    }
   ],
   "source": [
    "df.write.mode(\"overwrite\").option(\"header\",True).partitionBy(\"State\",\"city\").csv(\"zipcodes-state\")"
   ]
  },
  {
   "cell_type": "code",
   "execution_count": null,
   "id": "53b4c3a6-e1c1-4c0f-b041-70976630708f",
   "metadata": {},
   "outputs": [],
   "source": [
    "# read a specific Partition"
   ]
  },
  {
   "cell_type": "code",
   "execution_count": 24,
   "id": "243dd9a3-628b-49f3-9fcc-1d92129656bf",
   "metadata": {},
   "outputs": [],
   "source": [
    "dfread = spark.read.option(\"header\",True).csv(\"/Users/fci/Desktop/Spark-Tutorials/zipcodes-state/State=AL/city=SPRINGVILLE\")"
   ]
  },
  {
   "cell_type": "code",
   "execution_count": 25,
   "id": "8ce2fd42-3c04-439b-a0cb-683c27b74c47",
   "metadata": {},
   "outputs": [
    {
     "name": "stdout",
     "output_type": "stream",
     "text": [
      "root\n",
      " |-- RecordNumber: string (nullable = true)\n",
      " |-- Country: string (nullable = true)\n",
      " |-- Zipcode: string (nullable = true)\n",
      "\n"
     ]
    }
   ],
   "source": [
    "dfread.printSchema()"
   ]
  },
  {
   "cell_type": "code",
   "execution_count": 26,
   "id": "855e6d2f-06f4-4a05-9c3c-0b55b07137e8",
   "metadata": {},
   "outputs": [
    {
     "name": "stdout",
     "output_type": "stream",
     "text": [
      "+------------+-------+-------+\n",
      "|RecordNumber|Country|Zipcode|\n",
      "+------------+-------+-------+\n",
      "|       54355|     US|  35146|\n",
      "+------------+-------+-------+\n",
      "\n"
     ]
    }
   ],
   "source": [
    "dfread.show(1)"
   ]
  },
  {
   "cell_type": "code",
   "execution_count": 27,
   "id": "8d376be8-e42d-4b69-8234-3045045030d8",
   "metadata": {},
   "outputs": [],
   "source": [
    "read_df = spark.read.format(\"csv\").option(\"header\",True).load(\"simple-zipcodes.csv\")"
   ]
  },
  {
   "cell_type": "code",
   "execution_count": 28,
   "id": "dd49f8ab-1e03-435b-b183-cfa531633326",
   "metadata": {},
   "outputs": [
    {
     "name": "stdout",
     "output_type": "stream",
     "text": [
      "+------------+-------+-----------+-------+-----+\n",
      "|RecordNumber|Country|       City|Zipcode|State|\n",
      "+------------+-------+-----------+-------+-----+\n",
      "|           1|     US|PARC PARQUE|    704|   PR|\n",
      "+------------+-------+-----------+-------+-----+\n",
      "only showing top 1 row\n",
      "\n"
     ]
    }
   ],
   "source": [
    "read_df.show(1)"
   ]
  },
  {
   "cell_type": "code",
   "execution_count": null,
   "id": "2f83076d-5de0-4988-908b-df30aa0b1233",
   "metadata": {},
   "outputs": [],
   "source": []
  },
  {
   "cell_type": "code",
   "execution_count": null,
   "id": "e40fb287-fc21-487e-8999-171c810815c3",
   "metadata": {},
   "outputs": [],
   "source": []
  },
  {
   "cell_type": "code",
   "execution_count": null,
   "id": "e93b2d3f-e0ab-407c-99cb-ec6e86c7d686",
   "metadata": {},
   "outputs": [],
   "source": []
  },
  {
   "cell_type": "code",
   "execution_count": null,
   "id": "8267994e-39f3-48fa-bba0-901ec3c83604",
   "metadata": {},
   "outputs": [],
   "source": []
  },
  {
   "cell_type": "code",
   "execution_count": null,
   "id": "665560d7-6b4b-49da-94ea-1b7caa404861",
   "metadata": {},
   "outputs": [],
   "source": []
  }
 ],
 "metadata": {
  "kernelspec": {
   "display_name": "Python 3 (ipykernel)",
   "language": "python",
   "name": "python3"
  },
  "language_info": {
   "codemirror_mode": {
    "name": "ipython",
    "version": 3
   },
   "file_extension": ".py",
   "mimetype": "text/x-python",
   "name": "python",
   "nbconvert_exporter": "python",
   "pygments_lexer": "ipython3",
   "version": "3.12.2"
  }
 },
 "nbformat": 4,
 "nbformat_minor": 5
}
