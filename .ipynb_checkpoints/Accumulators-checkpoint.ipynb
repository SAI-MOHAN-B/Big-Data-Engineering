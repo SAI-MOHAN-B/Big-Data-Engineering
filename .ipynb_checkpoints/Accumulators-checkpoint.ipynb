{
 "cells": [
  {
   "cell_type": "code",
   "execution_count": 1,
   "id": "2bd14377-3755-4810-b584-68e9087b9531",
   "metadata": {},
   "outputs": [],
   "source": [
    "import pyspark"
   ]
  },
  {
   "cell_type": "code",
   "execution_count": 2,
   "id": "17caa22b-5712-424b-bedd-8894b55bbb16",
   "metadata": {},
   "outputs": [],
   "source": [
    "from pyspark.sql import SparkSession"
   ]
  },
  {
   "cell_type": "code",
   "execution_count": 3,
   "id": "c6c74715-a5ac-47d4-b3d4-f9f40f1e42f8",
   "metadata": {},
   "outputs": [
    {
     "name": "stderr",
     "output_type": "stream",
     "text": [
      "Setting default log level to \"WARN\".\n",
      "To adjust logging level use sc.setLogLevel(newLevel). For SparkR, use setLogLevel(newLevel).\n",
      "24/07/01 16:45:19 WARN NativeCodeLoader: Unable to load native-hadoop library for your platform... using builtin-java classes where applicable\n",
      "24/07/01 16:45:20 WARN Utils: Service 'SparkUI' could not bind on port 4040. Attempting port 4041.\n"
     ]
    }
   ],
   "source": [
    "spark = SparkSession.builder.appName(\"test\").getOrCreate()"
   ]
  },
  {
   "cell_type": "code",
   "execution_count": 4,
   "id": "c4785813-29dd-4eec-8eee-3df90caa0975",
   "metadata": {},
   "outputs": [],
   "source": [
    "accum = spark.sparkContext.accumulator(0)"
   ]
  },
  {
   "cell_type": "code",
   "execution_count": 5,
   "id": "977a5f33-2b2e-4b95-b21f-f8f89c8e1c4e",
   "metadata": {},
   "outputs": [],
   "source": [
    "rdd = spark.sparkContext.parallelize([1,2,3,4,5])"
   ]
  },
  {
   "cell_type": "code",
   "execution_count": 6,
   "id": "d164b265-31c5-44d4-8975-5090cafc650c",
   "metadata": {},
   "outputs": [
    {
     "name": "stderr",
     "output_type": "stream",
     "text": [
      "24/07/01 16:45:30 WARN GarbageCollectionMetrics: To enable non-built-in garbage collector(s) List(G1 Concurrent GC), users should configure it(them) to spark.eventLog.gcMetrics.youngGenerationGarbageCollectors or spark.eventLog.gcMetrics.oldGenerationGarbageCollectors\n"
     ]
    }
   ],
   "source": [
    "rdd.foreach(lambda x:accum.add(1))"
   ]
  },
  {
   "cell_type": "code",
   "execution_count": 7,
   "id": "8f697ee3-1318-46fd-8b6a-db6f7067b496",
   "metadata": {},
   "outputs": [
    {
     "name": "stdout",
     "output_type": "stream",
     "text": [
      "5\n"
     ]
    }
   ],
   "source": [
    "print(accum.value)"
   ]
  },
  {
   "cell_type": "code",
   "execution_count": null,
   "id": "2cccbb84-04e0-4141-9247-e596a26ba7e2",
   "metadata": {},
   "outputs": [],
   "source": [
    "accuSum=spark.sparkContext.accumulator(0)\n",
    "def countFun(x):\n",
    "    global accuSum\n",
    "    accuSum+=x\n",
    "rdd.foreach(countFun)\n",
    "print(accuSum.value)"
   ]
  },
  {
   "cell_type": "code",
   "execution_count": null,
   "id": "13c446f9-5923-425d-96f6-4de421b11ade",
   "metadata": {},
   "outputs": [],
   "source": [
    "spark"
   ]
  },
  {
   "cell_type": "code",
   "execution_count": null,
   "id": "71b6b992-a998-42b4-8e7c-354d9bcbddd8",
   "metadata": {},
   "outputs": [],
   "source": [
    "rdd.getNumPartitions()"
   ]
  },
  {
   "cell_type": "code",
   "execution_count": null,
   "id": "0621266b-c69c-446f-a690-3e4dbac47ea3",
   "metadata": {},
   "outputs": [],
   "source": [
    "def add_to_acum(x):\n",
    "    print(f\"adding the accum for {x}\")\n",
    "    accum.add(1)"
   ]
  },
  {
   "cell_type": "code",
   "execution_count": null,
   "id": "a65222b0-6ac1-474a-bd10-5a8e16542fa8",
   "metadata": {},
   "outputs": [],
   "source": [
    "rdd.foreach(add_to_acum)"
   ]
  },
  {
   "cell_type": "code",
   "execution_count": null,
   "id": "4ecce2b3-e3e1-40a3-a2d9-14dac13d955f",
   "metadata": {},
   "outputs": [],
   "source": [
    "accum.value"
   ]
  },
  {
   "cell_type": "code",
   "execution_count": null,
   "id": "112d41e3-293f-4955-a420-097ebb3c2aef",
   "metadata": {},
   "outputs": [],
   "source": []
  }
 ],
 "metadata": {
  "kernelspec": {
   "display_name": "Python 3 (ipykernel)",
   "language": "python",
   "name": "python3"
  },
  "language_info": {
   "codemirror_mode": {
    "name": "ipython",
    "version": 3
   },
   "file_extension": ".py",
   "mimetype": "text/x-python",
   "name": "python",
   "nbconvert_exporter": "python",
   "pygments_lexer": "ipython3",
   "version": "3.12.2"
  }
 },
 "nbformat": 4,
 "nbformat_minor": 5
}
