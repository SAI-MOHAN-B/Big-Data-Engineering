{
 "cells": [
  {
   "cell_type": "code",
   "execution_count": 1,
   "id": "2031e9d3-6185-4b80-ab08-e781d94b1762",
   "metadata": {},
   "outputs": [],
   "source": [
    "import pyspark"
   ]
  },
  {
   "cell_type": "code",
   "execution_count": 2,
   "id": "e89f457d-7785-41f8-bc38-1a3e83ca6d46",
   "metadata": {},
   "outputs": [],
   "source": [
    "from pyspark.sql import SparkSession"
   ]
  },
  {
   "cell_type": "code",
   "execution_count": 8,
   "id": "c43024bc-99eb-4229-b8a8-7368351f483f",
   "metadata": {},
   "outputs": [],
   "source": [
    "from pyspark.sql.functions import *"
   ]
  },
  {
   "cell_type": "code",
   "execution_count": 17,
   "id": "067d9aa4-f242-40b5-9458-ad041784ef4f",
   "metadata": {},
   "outputs": [],
   "source": [
    "spark = SparkSession.builder.appName(\"test\").getOrCreate()"
   ]
  },
  {
   "cell_type": "code",
   "execution_count": 18,
   "id": "fcbe5c7e-c591-48a7-b046-8b59cb3f43c8",
   "metadata": {},
   "outputs": [],
   "source": [
    "data = [(\"John\",23,\"sales\",10000),(\"doe\",24,\"finance\",20000),(\"nag\",25,\"sales\",30000),(\"chay\",26,\"finance\",40000)]"
   ]
  },
  {
   "cell_type": "code",
   "execution_count": 19,
   "id": "10e5d8b2-86b7-477b-bc03-fb9846ec69e1",
   "metadata": {},
   "outputs": [],
   "source": [
    "df = spark.createDataFrame(data=data,schema=[\"name\",\"age\",\"department\",\"salary\"])"
   ]
  },
  {
   "cell_type": "code",
   "execution_count": 20,
   "id": "3a58dc8e-dbaf-4194-989d-98d607fbebc1",
   "metadata": {},
   "outputs": [],
   "source": [
    "filterd_df = df.filter(col(\"salary\")>10000)"
   ]
  },
  {
   "cell_type": "code",
   "execution_count": 21,
   "id": "867c113b-d304-4418-9fce-961113d8a8d5",
   "metadata": {},
   "outputs": [],
   "source": [
    "res_df = filterd_df.groupBy(\"department\").agg(avg(\"salary\"))"
   ]
  },
  {
   "cell_type": "code",
   "execution_count": 22,
   "id": "bbc0e4fb-7115-4d69-97a4-b7226239015e",
   "metadata": {},
   "outputs": [
    {
     "name": "stdout",
     "output_type": "stream",
     "text": [
      "+----------+-----------+\n",
      "|department|avg(salary)|\n",
      "+----------+-----------+\n",
      "|   finance|    30000.0|\n",
      "|     sales|    30000.0|\n",
      "+----------+-----------+\n",
      "\n"
     ]
    }
   ],
   "source": [
    "res_df.show()"
   ]
  },
  {
   "cell_type": "code",
   "execution_count": 23,
   "id": "0e13f5ea-7237-4bfa-9a1c-d66b581479e0",
   "metadata": {},
   "outputs": [
    {
     "name": "stdout",
     "output_type": "stream",
     "text": [
      "== Parsed Logical Plan ==\n",
      "'Aggregate ['department], ['department, avg('salary) AS avg(salary)#75]\n",
      "+- Filter (salary#65L > cast(10000 as bigint))\n",
      "   +- LogicalRDD [name#62, age#63L, department#64, salary#65L], false\n",
      "\n",
      "== Analyzed Logical Plan ==\n",
      "department: string, avg(salary): double\n",
      "Aggregate [department#64], [department#64, avg(salary#65L) AS avg(salary)#75]\n",
      "+- Filter (salary#65L > cast(10000 as bigint))\n",
      "   +- LogicalRDD [name#62, age#63L, department#64, salary#65L], false\n",
      "\n",
      "== Optimized Logical Plan ==\n",
      "Aggregate [department#64], [department#64, avg(salary#65L) AS avg(salary)#75]\n",
      "+- Project [department#64, salary#65L]\n",
      "   +- Filter (isnotnull(salary#65L) AND (salary#65L > 10000))\n",
      "      +- LogicalRDD [name#62, age#63L, department#64, salary#65L], false\n",
      "\n",
      "== Physical Plan ==\n",
      "AdaptiveSparkPlan isFinalPlan=false\n",
      "+- HashAggregate(keys=[department#64], functions=[avg(salary#65L)], output=[department#64, avg(salary)#75])\n",
      "   +- Exchange hashpartitioning(department#64, 200), ENSURE_REQUIREMENTS, [plan_id=163]\n",
      "      +- HashAggregate(keys=[department#64], functions=[partial_avg(salary#65L)], output=[department#64, sum#86, count#87L])\n",
      "         +- Project [department#64, salary#65L]\n",
      "            +- Filter (isnotnull(salary#65L) AND (salary#65L > 10000))\n",
      "               +- Scan ExistingRDD[name#62,age#63L,department#64,salary#65L]\n",
      "\n"
     ]
    }
   ],
   "source": [
    "res_df.explain(True)"
   ]
  },
  {
   "cell_type": "code",
   "execution_count": null,
   "id": "c7e11ad8-1ec4-412f-9784-cbabd4049aa8",
   "metadata": {},
   "outputs": [],
   "source": []
  },
  {
   "cell_type": "code",
   "execution_count": null,
   "id": "28e5807c-a2c6-4546-ac9f-c3b0508d8ca1",
   "metadata": {},
   "outputs": [],
   "source": []
  },
  {
   "cell_type": "code",
   "execution_count": null,
   "id": "f2137bbf-3adf-4dc4-a115-0b30836adc09",
   "metadata": {},
   "outputs": [],
   "source": []
  },
  {
   "cell_type": "code",
   "execution_count": null,
   "id": "cc83a811-fb13-4d87-905c-b7a4f57b53c2",
   "metadata": {},
   "outputs": [],
   "source": []
  },
  {
   "cell_type": "code",
   "execution_count": null,
   "id": "66aa8f1e-7c1c-4225-8793-731bbba84ab3",
   "metadata": {},
   "outputs": [],
   "source": []
  }
 ],
 "metadata": {
  "kernelspec": {
   "display_name": "Python 3 (ipykernel)",
   "language": "python",
   "name": "python3"
  },
  "language_info": {
   "codemirror_mode": {
    "name": "ipython",
    "version": 3
   },
   "file_extension": ".py",
   "mimetype": "text/x-python",
   "name": "python",
   "nbconvert_exporter": "python",
   "pygments_lexer": "ipython3",
   "version": "3.12.2"
  }
 },
 "nbformat": 4,
 "nbformat_minor": 5
}
