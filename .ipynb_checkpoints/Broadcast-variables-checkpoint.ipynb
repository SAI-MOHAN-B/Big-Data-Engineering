{
 "cells": [
  {
   "cell_type": "code",
   "execution_count": 1,
   "id": "dc60b62d-a3e8-4aa6-8b51-a50384d85659",
   "metadata": {},
   "outputs": [],
   "source": [
    "import pyspark"
   ]
  },
  {
   "cell_type": "code",
   "execution_count": 2,
   "id": "ea9236e9-02ae-4a71-97c2-2caac7968e17",
   "metadata": {},
   "outputs": [],
   "source": [
    "from pyspark.sql import SparkSession"
   ]
  },
  {
   "cell_type": "code",
   "execution_count": 3,
   "id": "42cccace-c417-44a3-b849-3f2ee3387af1",
   "metadata": {},
   "outputs": [],
   "source": [
    "from pyspark.sql.functions import *"
   ]
  },
  {
   "cell_type": "code",
   "execution_count": 4,
   "id": "6f8361af-3fe9-4a89-8aef-87cf5d891fa7",
   "metadata": {},
   "outputs": [
    {
     "name": "stderr",
     "output_type": "stream",
     "text": [
      "Setting default log level to \"WARN\".\n",
      "To adjust logging level use sc.setLogLevel(newLevel). For SparkR, use setLogLevel(newLevel).\n",
      "24/07/01 15:35:54 WARN NativeCodeLoader: Unable to load native-hadoop library for your platform... using builtin-java classes where applicable\n",
      "24/07/01 15:36:12 WARN GarbageCollectionMetrics: To enable non-built-in garbage collector(s) List(G1 Concurrent GC), users should configure it(them) to spark.eventLog.gcMetrics.youngGenerationGarbageCollectors or spark.eventLog.gcMetrics.oldGenerationGarbageCollectors\n"
     ]
    }
   ],
   "source": [
    "spark = SparkSession.builder.appName(\"test\").getOrCreate()"
   ]
  },
  {
   "cell_type": "code",
   "execution_count": 5,
   "id": "dd937911-2a27-4926-922b-0c920e04ac42",
   "metadata": {},
   "outputs": [],
   "source": [
    "states = {\"NY\":\"New York\",\"CA\":\"California\",\"FL\":\"Florida\"}"
   ]
  },
  {
   "cell_type": "code",
   "execution_count": 6,
   "id": "57cd6369-355f-4c46-934b-846bfa7596c4",
   "metadata": {},
   "outputs": [],
   "source": [
    "broadcaststates = spark.sparkContext.broadcast(states)"
   ]
  },
  {
   "cell_type": "code",
   "execution_count": 7,
   "id": "b9965f1f-11f5-4053-a0b1-a1af04d20912",
   "metadata": {},
   "outputs": [],
   "source": [
    "data = [(\"James\",\"Smith\",\"USA\",\"CA\"),\n",
    "    (\"Michael\",\"Rose\",\"USA\",\"NY\"),\n",
    "    (\"Robert\",\"Williams\",\"USA\",\"CA\"),\n",
    "    (\"Maria\",\"Jones\",\"USA\",\"FL\")\n",
    "  ]"
   ]
  },
  {
   "cell_type": "code",
   "execution_count": 8,
   "id": "1ac73b80-5c6c-441b-a86b-55a8ef409905",
   "metadata": {},
   "outputs": [],
   "source": [
    "rdd = spark.sparkContext.parallelize(data)"
   ]
  },
  {
   "cell_type": "code",
   "execution_count": 18,
   "id": "38f4a5bc-0600-4a25-8197-82dc619df37e",
   "metadata": {},
   "outputs": [],
   "source": [
    "def state_convert(code):\n",
    "    return broadcaststates.value[code]"
   ]
  },
  {
   "cell_type": "code",
   "execution_count": 19,
   "id": "ca15ed9b-1dd3-4431-94d2-74e02e21a343",
   "metadata": {},
   "outputs": [],
   "source": [
    "result = rdd.map(lambda x:(x[0],x[1],x[2],state_convert(x[3])))"
   ]
  },
  {
   "cell_type": "code",
   "execution_count": 20,
   "id": "cb6f82bc-2284-45d5-92a1-46215795952b",
   "metadata": {},
   "outputs": [],
   "source": [
    "res = result.toDF([\"firstname\",\"lastname\",\"country\",\"state\"])"
   ]
  },
  {
   "cell_type": "code",
   "execution_count": 21,
   "id": "1579e789-05c8-4166-a44d-d857ee980e92",
   "metadata": {},
   "outputs": [
    {
     "name": "stdout",
     "output_type": "stream",
     "text": [
      "+---------+--------+-------+----------+\n",
      "|firstname|lastname|country|     state|\n",
      "+---------+--------+-------+----------+\n",
      "|    James|   Smith|    USA|California|\n",
      "|  Michael|    Rose|    USA|  New York|\n",
      "|   Robert|Williams|    USA|California|\n",
      "|    Maria|   Jones|    USA|   Florida|\n",
      "+---------+--------+-------+----------+\n",
      "\n"
     ]
    }
   ],
   "source": [
    "res.show()"
   ]
  },
  {
   "cell_type": "code",
   "execution_count": null,
   "id": "bddfb5be-5e9f-46e1-a69f-4c3412b881e5",
   "metadata": {},
   "outputs": [],
   "source": []
  },
  {
   "cell_type": "code",
   "execution_count": null,
   "id": "b0d4ce66-6da7-4847-9019-48af6bc4c53a",
   "metadata": {},
   "outputs": [],
   "source": []
  },
  {
   "cell_type": "code",
   "execution_count": null,
   "id": "b543eaa2-8b82-4efd-904e-7cbd7108e73c",
   "metadata": {},
   "outputs": [],
   "source": []
  },
  {
   "cell_type": "code",
   "execution_count": null,
   "id": "e8f8ffc8-e257-4a62-9aa8-dec26c3f6bfa",
   "metadata": {},
   "outputs": [],
   "source": []
  },
  {
   "cell_type": "code",
   "execution_count": null,
   "id": "3638ec2d-a521-4556-a98e-f8b068445f93",
   "metadata": {},
   "outputs": [],
   "source": []
  },
  {
   "cell_type": "code",
   "execution_count": null,
   "id": "5a438e14-70fb-4ba7-abb5-9545d629745d",
   "metadata": {},
   "outputs": [],
   "source": []
  }
 ],
 "metadata": {
  "kernelspec": {
   "display_name": "Python 3 (ipykernel)",
   "language": "python",
   "name": "python3"
  },
  "language_info": {
   "codemirror_mode": {
    "name": "ipython",
    "version": 3
   },
   "file_extension": ".py",
   "mimetype": "text/x-python",
   "name": "python",
   "nbconvert_exporter": "python",
   "pygments_lexer": "ipython3",
   "version": "3.12.2"
  }
 },
 "nbformat": 4,
 "nbformat_minor": 5
}
