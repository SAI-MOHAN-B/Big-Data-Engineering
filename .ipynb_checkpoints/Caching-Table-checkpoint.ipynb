{
 "cells": [
  {
   "cell_type": "code",
   "execution_count": 1,
   "id": "7ea39a3e-a298-4a23-b4bb-8f8bbc516cfb",
   "metadata": {},
   "outputs": [],
   "source": [
    "import pyspark"
   ]
  },
  {
   "cell_type": "code",
   "execution_count": 2,
   "id": "fb984b63-16c7-4c47-901d-52524aba570e",
   "metadata": {},
   "outputs": [],
   "source": [
    "from pyspark.sql import SparkSession"
   ]
  },
  {
   "cell_type": "code",
   "execution_count": 4,
   "id": "f4c83235-5534-4908-b756-498aff0655f2",
   "metadata": {},
   "outputs": [
    {
     "name": "stderr",
     "output_type": "stream",
     "text": [
      "Setting default log level to \"WARN\".\n",
      "To adjust logging level use sc.setLogLevel(newLevel). For SparkR, use setLogLevel(newLevel).\n",
      "24/06/17 10:54:45 WARN NativeCodeLoader: Unable to load native-hadoop library for your platform... using builtin-java classes where applicable\n",
      "24/06/17 10:54:58 WARN GarbageCollectionMetrics: To enable non-built-in garbage collector(s) List(G1 Concurrent GC), users should configure it(them) to spark.eventLog.gcMetrics.youngGenerationGarbageCollectors or spark.eventLog.gcMetrics.oldGenerationGarbageCollectors\n"
     ]
    }
   ],
   "source": [
    "spark = SparkSession.builder.appName(\"caching-table\").getOrCreate()"
   ]
  },
  {
   "cell_type": "code",
   "execution_count": 5,
   "id": "27c3600f-c55f-4dc7-9d43-b3c16acbf40e",
   "metadata": {},
   "outputs": [
    {
     "name": "stdout",
     "output_type": "stream",
     "text": [
      "ApplicationCodeOptimization.ipynb  ReduceByKey.ipynb\n",
      "BroadcastJoins.ipynb               Repartiton-Coalesce.ipynb\n",
      "Caching-Table.ipynb                Spark-Table.ipynb\n",
      "Count.txt                          SparkOptimizationcode.txt\n",
      "DataFrame.ipynb                    \u001b[34moutput_data\u001b[m\u001b[m/\n",
      "Distinct,Take.ipynb                \u001b[34moutput_data_parquet\u001b[m\u001b[m/\n",
      "Filter.ipynb                       \u001b[34moutput_folder\u001b[m\u001b[m/\n",
      "Group and Reduce By key.ipynb      \u001b[34mspark-warehouse\u001b[m\u001b[m/\n",
      "Joins.ipynb                        students.csv\n",
      "Pyspark-Get.ipynb\n"
     ]
    }
   ],
   "source": [
    "ls"
   ]
  },
  {
   "cell_type": "code",
   "execution_count": null,
   "id": "ca0223f3-ba4e-4365-babd-90c589a38f70",
   "metadata": {},
   "outputs": [],
   "source": []
  },
  {
   "cell_type": "code",
   "execution_count": null,
   "id": "8da4d375-8a22-4091-b77b-6c7eb8dd6aba",
   "metadata": {},
   "outputs": [],
   "source": []
  },
  {
   "cell_type": "code",
   "execution_count": null,
   "id": "bfdf8dd4-7d8d-485b-a292-3e56bf2aca25",
   "metadata": {},
   "outputs": [],
   "source": []
  },
  {
   "cell_type": "code",
   "execution_count": null,
   "id": "15a46c52-f5e5-4153-ae77-fa03b8a15b53",
   "metadata": {},
   "outputs": [],
   "source": []
  },
  {
   "cell_type": "code",
   "execution_count": null,
   "id": "18da9136-3127-48d2-96ba-932e8161f52f",
   "metadata": {},
   "outputs": [],
   "source": []
  },
  {
   "cell_type": "code",
   "execution_count": null,
   "id": "dd30b1e2-4560-4583-963a-6f9d2577d7aa",
   "metadata": {},
   "outputs": [],
   "source": []
  },
  {
   "cell_type": "code",
   "execution_count": null,
   "id": "3cd8d5db-d435-4c40-a510-2e523872b1a8",
   "metadata": {},
   "outputs": [],
   "source": []
  }
 ],
 "metadata": {
  "kernelspec": {
   "display_name": "Python 3 (ipykernel)",
   "language": "python",
   "name": "python3"
  },
  "language_info": {
   "codemirror_mode": {
    "name": "ipython",
    "version": 3
   },
   "file_extension": ".py",
   "mimetype": "text/x-python",
   "name": "python",
   "nbconvert_exporter": "python",
   "pygments_lexer": "ipython3",
   "version": "3.12.2"
  }
 },
 "nbformat": 4,
 "nbformat_minor": 5
}
