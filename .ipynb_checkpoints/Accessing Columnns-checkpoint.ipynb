{
 "cells": [
  {
   "cell_type": "code",
   "execution_count": 1,
   "id": "af723ea6-adf6-4c55-85c8-17b77cd7043f",
   "metadata": {},
   "outputs": [],
   "source": [
    "import pyspark"
   ]
  },
  {
   "cell_type": "code",
   "execution_count": 2,
   "id": "f31a7041-3706-4aaf-8a3e-8eb413826dba",
   "metadata": {},
   "outputs": [],
   "source": [
    "from pyspark.sql import SparkSession"
   ]
  },
  {
   "cell_type": "code",
   "execution_count": 3,
   "id": "10eb427d-f3d2-4367-9ec0-22937b4f290f",
   "metadata": {},
   "outputs": [
    {
     "name": "stderr",
     "output_type": "stream",
     "text": [
      "Setting default log level to \"WARN\".\n",
      "To adjust logging level use sc.setLogLevel(newLevel). For SparkR, use setLogLevel(newLevel).\n",
      "24/06/19 18:17:41 WARN NativeCodeLoader: Unable to load native-hadoop library for your platform... using builtin-java classes where applicable\n",
      "24/06/19 18:17:55 WARN GarbageCollectionMetrics: To enable non-built-in garbage collector(s) List(G1 Concurrent GC), users should configure it(them) to spark.eventLog.gcMetrics.youngGenerationGarbageCollectors or spark.eventLog.gcMetrics.oldGenerationGarbageCollectors\n"
     ]
    }
   ],
   "source": [
    "spark = SparkSession.builder.appName(\"test\").getOrCreate()"
   ]
  },
  {
   "cell_type": "code",
   "execution_count": 5,
   "id": "3966bf04-b767-4c0d-828c-4c66d374bdf2",
   "metadata": {},
   "outputs": [],
   "source": [
    "columns = [\"firstname\",\"lastname\",\"country\",\"state\"]"
   ]
  },
  {
   "cell_type": "code",
   "execution_count": 6,
   "id": "22e85014-3548-47b3-a926-8ce7e7a913df",
   "metadata": {},
   "outputs": [],
   "source": [
    "data = [(\"james\",\"smith\",\"USA\",\"CA\"),(\"Michael\",\"Rose\",\"USA\",\"NY\"),(\"Robert\",\"Willams\",\"USA\",\"CA\")]"
   ]
  },
  {
   "cell_type": "code",
   "execution_count": 7,
   "id": "0c5e12cd-1edb-45a8-9594-d34c3f7425f8",
   "metadata": {},
   "outputs": [],
   "source": [
    "df = spark.createDataFrame(data=data,schema=columns)"
   ]
  },
  {
   "cell_type": "code",
   "execution_count": 9,
   "id": "d13e06ab-2b20-4e6d-910f-c8a2332ae01d",
   "metadata": {},
   "outputs": [],
   "source": [
    "# using DOT Notation"
   ]
  },
  {
   "cell_type": "code",
   "execution_count": 11,
   "id": "40596c37-70d4-44e4-8005-7f74342515e1",
   "metadata": {},
   "outputs": [
    {
     "name": "stdout",
     "output_type": "stream",
     "text": [
      "+---------+--------+\n",
      "|firstname|lastname|\n",
      "+---------+--------+\n",
      "|    james|   smith|\n",
      "|  Michael|    Rose|\n",
      "|   Robert| Willams|\n",
      "+---------+--------+\n",
      "\n"
     ]
    }
   ],
   "source": [
    "df.select(df.firstname,df.lastname).show()"
   ]
  },
  {
   "cell_type": "code",
   "execution_count": null,
   "id": "7375a788-5860-4939-b6fe-0c117305d430",
   "metadata": {},
   "outputs": [],
   "source": [
    "# using the bracket notation"
   ]
  },
  {
   "cell_type": "code",
   "execution_count": 12,
   "id": "9d8c6968-fe65-4881-8339-a425952d4590",
   "metadata": {},
   "outputs": [
    {
     "name": "stdout",
     "output_type": "stream",
     "text": [
      "+---------+\n",
      "|firstname|\n",
      "+---------+\n",
      "|    james|\n",
      "|  Michael|\n",
      "|   Robert|\n",
      "+---------+\n",
      "\n"
     ]
    }
   ],
   "source": [
    "df.select(df[\"firstname\"]).show()"
   ]
  },
  {
   "cell_type": "code",
   "execution_count": 13,
   "id": "7d5e34e2-254e-4abc-81c1-17219bc82842",
   "metadata": {},
   "outputs": [],
   "source": [
    "from pyspark.sql.functions import col"
   ]
  },
  {
   "cell_type": "code",
   "execution_count": 14,
   "id": "efde6e2c-171e-423b-a520-adb3704da7f8",
   "metadata": {},
   "outputs": [
    {
     "name": "stdout",
     "output_type": "stream",
     "text": [
      "+---------+--------+\n",
      "|firstname|lastname|\n",
      "+---------+--------+\n",
      "|    james|   smith|\n",
      "|  Michael|    Rose|\n",
      "|   Robert| Willams|\n",
      "+---------+--------+\n",
      "\n"
     ]
    }
   ],
   "source": [
    "df.select(col(\"firstname\"),col(\"lastname\")).show()"
   ]
  },
  {
   "cell_type": "code",
   "execution_count": 17,
   "id": "2ca9db73-1026-4f49-94c3-763ea164dbd8",
   "metadata": {},
   "outputs": [],
   "source": [
    "df = df.withColumn(\"abbrevation\",df[\"state\"]+\"s\")"
   ]
  },
  {
   "cell_type": "code",
   "execution_count": 18,
   "id": "8c1d7bb3-a1d6-4b2c-8f7e-0ae4e575e31b",
   "metadata": {},
   "outputs": [
    {
     "name": "stdout",
     "output_type": "stream",
     "text": [
      "+---------+--------+-------+-----+-----------+\n",
      "|firstname|lastname|country|state|abbrevation|\n",
      "+---------+--------+-------+-----+-----------+\n",
      "|    james|   smith|    USA|   CA|       NULL|\n",
      "|  Michael|    Rose|    USA|   NY|       NULL|\n",
      "|   Robert| Willams|    USA|   CA|       NULL|\n",
      "+---------+--------+-------+-----+-----------+\n",
      "\n"
     ]
    }
   ],
   "source": [
    "df.show()"
   ]
  },
  {
   "cell_type": "code",
   "execution_count": null,
   "id": "528a0a82-a079-4e0a-a4c7-c0b44af4458b",
   "metadata": {},
   "outputs": [],
   "source": []
  },
  {
   "cell_type": "code",
   "execution_count": null,
   "id": "44b66bd0-6959-4ece-aa69-5c40da7d89a0",
   "metadata": {},
   "outputs": [],
   "source": []
  },
  {
   "cell_type": "code",
   "execution_count": null,
   "id": "1073a3f9-a202-4a20-9583-b5bb2aef6a9f",
   "metadata": {},
   "outputs": [],
   "source": []
  },
  {
   "cell_type": "code",
   "execution_count": null,
   "id": "eae38f98-c504-4571-b40c-2eeb37fb5535",
   "metadata": {},
   "outputs": [],
   "source": []
  },
  {
   "cell_type": "code",
   "execution_count": null,
   "id": "345b85ad-9902-4d07-a7e5-402f268a4afa",
   "metadata": {},
   "outputs": [],
   "source": []
  }
 ],
 "metadata": {
  "kernelspec": {
   "display_name": "Python 3 (ipykernel)",
   "language": "python",
   "name": "python3"
  },
  "language_info": {
   "codemirror_mode": {
    "name": "ipython",
    "version": 3
   },
   "file_extension": ".py",
   "mimetype": "text/x-python",
   "name": "python",
   "nbconvert_exporter": "python",
   "pygments_lexer": "ipython3",
   "version": "3.12.2"
  }
 },
 "nbformat": 4,
 "nbformat_minor": 5
}
