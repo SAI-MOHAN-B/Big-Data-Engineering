{
 "cells": [
  {
   "cell_type": "code",
   "execution_count": 1,
   "id": "d1d5db5f-5c8e-48ef-9e9e-a3c4b4fb0210",
   "metadata": {},
   "outputs": [],
   "source": [
    "import pyspark"
   ]
  },
  {
   "cell_type": "code",
   "execution_count": 2,
   "id": "a55e3386-4d69-4cc0-a2cc-4e19556f86e0",
   "metadata": {},
   "outputs": [],
   "source": [
    "from pyspark.sql import SparkSession"
   ]
  },
  {
   "cell_type": "code",
   "execution_count": 3,
   "id": "7e83d042-fe80-4bbc-8088-150849097495",
   "metadata": {},
   "outputs": [
    {
     "name": "stderr",
     "output_type": "stream",
     "text": [
      "Setting default log level to \"WARN\".\n",
      "To adjust logging level use sc.setLogLevel(newLevel). For SparkR, use setLogLevel(newLevel).\n",
      "24/06/17 11:41:23 WARN NativeCodeLoader: Unable to load native-hadoop library for your platform... using builtin-java classes where applicable\n",
      "24/06/17 11:41:24 WARN Utils: Service 'SparkUI' could not bind on port 4040. Attempting port 4041.\n",
      "24/06/17 11:41:36 WARN GarbageCollectionMetrics: To enable non-built-in garbage collector(s) List(G1 Concurrent GC), users should configure it(them) to spark.eventLog.gcMetrics.youngGenerationGarbageCollectors or spark.eventLog.gcMetrics.oldGenerationGarbageCollectors\n"
     ]
    }
   ],
   "source": [
    "spark = SparkSession.builder.appName(\"Caching-performance\").getOrCreate()"
   ]
  },
  {
   "cell_type": "code",
   "execution_count": 9,
   "id": "4ccc36ae-7cf0-4d50-ba19-77d501bdce7b",
   "metadata": {},
   "outputs": [],
   "source": [
    "empDF = spark.read.format(\"csv\").option(\"inferSchema\",True).option(\"header\",True).load(\"employees.csv\")"
   ]
  },
  {
   "cell_type": "code",
   "execution_count": 12,
   "id": "75fc35b2-8c4e-482e-b19b-564345316264",
   "metadata": {},
   "outputs": [],
   "source": [
    "deptDF = spark.read.format(\"csv\").option(\"inferSchema\",True).option(\"header\",True).load(\"departments.csv\")"
   ]
  },
  {
   "cell_type": "code",
   "execution_count": 13,
   "id": "66dbe51d-37f0-4d69-82f8-626d77a53cae",
   "metadata": {},
   "outputs": [
    {
     "name": "stdout",
     "output_type": "stream",
     "text": [
      "root\n",
      " |-- EMPLOYEE_ID: integer (nullable = true)\n",
      " |-- FIRST_NAME: string (nullable = true)\n",
      " |-- LAST_NAME: string (nullable = true)\n",
      " |-- EMAIL: string (nullable = true)\n",
      " |-- PHONE_NUMBER: string (nullable = true)\n",
      " |-- HIRE_DATE: string (nullable = true)\n",
      " |-- JOB_ID: string (nullable = true)\n",
      " |-- SALARY: integer (nullable = true)\n",
      " |-- COMMISSION_PCT: string (nullable = true)\n",
      " |-- MANAGER_ID: string (nullable = true)\n",
      " |-- DEPARTMENT_ID: integer (nullable = true)\n",
      "\n",
      "root\n",
      " |-- DEPARTMENT_ID: integer (nullable = true)\n",
      " |-- DEPARTMENT_NAME: string (nullable = true)\n",
      " |-- MANAGER_ID: string (nullable = true)\n",
      " |-- LOCATION_ID: integer (nullable = true)\n",
      "\n"
     ]
    }
   ],
   "source": [
    "empDF.printSchema()\n",
    "deptDF.printSchema()"
   ]
  },
  {
   "cell_type": "code",
   "execution_count": 14,
   "id": "fbe19a20-809a-42c7-901d-14d31e9e240d",
   "metadata": {},
   "outputs": [],
   "source": [
    "empDF.createOrReplaceTempView(\"emptbl\")"
   ]
  },
  {
   "cell_type": "code",
   "execution_count": 15,
   "id": "5529e0da-57d8-4da7-9489-8016f97294dc",
   "metadata": {},
   "outputs": [],
   "source": [
    "deptDF.createOrReplaceTempView(\"deptbl\")"
   ]
  },
  {
   "cell_type": "code",
   "execution_count": 24,
   "id": "cc786944-3485-408f-accc-0435abeebdc1",
   "metadata": {},
   "outputs": [],
   "source": [
    "spark.catalog.uncacheTable(\"emptbl_cache\")"
   ]
  },
  {
   "cell_type": "code",
   "execution_count": 26,
   "id": "55ab203a-872a-4ad2-86a7-b0b90abba6fa",
   "metadata": {},
   "outputs": [
    {
     "name": "stdout",
     "output_type": "stream",
     "text": [
      "++\n",
      "||\n",
      "++\n",
      "++\n",
      "\n"
     ]
    }
   ],
   "source": [
    "spark.sql(\"\"\" cache table emptbl_cached as select * from emptbl \"\"\").show()"
   ]
  },
  {
   "cell_type": "code",
   "execution_count": 28,
   "id": "5df9f646-2abf-4f28-8c27-b3ea20e934c0",
   "metadata": {},
   "outputs": [
    {
     "name": "stdout",
     "output_type": "stream",
     "text": [
      "+-------------+--------------------+----------+-----------+\n",
      "|DEPARTMENT_ID|     DEPARTMENT_NAME|MANAGER_ID|LOCATION_ID|\n",
      "+-------------+--------------------+----------+-----------+\n",
      "|           10|      Administration|       200|       1700|\n",
      "|           20|           Marketing|       201|       1800|\n",
      "|           30|          Purchasing|       114|       1700|\n",
      "|           40|     Human Resources|       203|       2400|\n",
      "|           50|            Shipping|       121|       1500|\n",
      "|           60|                  IT|       103|       1400|\n",
      "|           70|    Public Relations|       204|       2700|\n",
      "|           80|               Sales|       145|       2500|\n",
      "|           90|           Executive|       100|       1700|\n",
      "|          100|             Finance|       108|       1700|\n",
      "|          110|          Accounting|       205|       1700|\n",
      "|          120|            Treasury|        - |       1700|\n",
      "|          130|       Corporate Tax|        - |       1700|\n",
      "|          140|  Control And Credit|        - |       1700|\n",
      "|          150|Shareholder Services|        - |       1700|\n",
      "|          160|            Benefits|        - |       1700|\n",
      "|          170|       Manufacturing|        - |       1700|\n",
      "|          180|        Construction|        - |       1700|\n",
      "|          190|         Contracting|        - |       1700|\n",
      "|          200|          Operations|        - |       1700|\n",
      "+-------------+--------------------+----------+-----------+\n",
      "only showing top 20 rows\n",
      "\n"
     ]
    }
   ],
   "source": [
    "deptDF.show()"
   ]
  },
  {
   "cell_type": "code",
   "execution_count": 29,
   "id": "235ba0ca-8f0b-4750-a918-23057fe23d9d",
   "metadata": {},
   "outputs": [],
   "source": [
    "cache_data = spark.sql(\"\"\" select first_name,email,salary from emptbl_cached e left join deptbl d on (d.department_id = e.department_id) \"\"\")"
   ]
  },
  {
   "cell_type": "code",
   "execution_count": 30,
   "id": "452bff56-fc0a-42cf-8e91-4d5771f09b8f",
   "metadata": {},
   "outputs": [
    {
     "name": "stdout",
     "output_type": "stream",
     "text": [
      "+----------+--------+------+\n",
      "|first_name|   email|salary|\n",
      "+----------+--------+------+\n",
      "|    Donald|DOCONNEL|  2600|\n",
      "|   Douglas|  DGRANT|  2600|\n",
      "|  Jennifer| JWHALEN|  4400|\n",
      "|   Michael|MHARTSTE| 13000|\n",
      "|       Pat|    PFAY|  6000|\n",
      "|     Susan| SMAVRIS|  6500|\n",
      "|   Hermann|   HBAER| 10000|\n",
      "|   Shelley|SHIGGINS| 12008|\n",
      "|   William|  WGIETZ|  8300|\n",
      "|    Steven|   SKING| 24000|\n",
      "|     Neena|NKOCHHAR| 17000|\n",
      "|       Lex| LDEHAAN| 17000|\n",
      "| Alexander| AHUNOLD|  9000|\n",
      "|     Bruce|  BERNST|  6000|\n",
      "|     David| DAUSTIN|  4800|\n",
      "|     Valli|VPATABAL|  4800|\n",
      "|     Diana|DLORENTZ|  4200|\n",
      "|     Nancy|NGREENBE| 12008|\n",
      "|    Daniel| DFAVIET|  9000|\n",
      "|      John|   JCHEN|  8200|\n",
      "+----------+--------+------+\n",
      "only showing top 20 rows\n",
      "\n"
     ]
    }
   ],
   "source": [
    "cache_data.show()"
   ]
  },
  {
   "cell_type": "code",
   "execution_count": null,
   "id": "6027ed46-3722-4cfb-9681-42cc30f8eba6",
   "metadata": {},
   "outputs": [],
   "source": []
  },
  {
   "cell_type": "code",
   "execution_count": null,
   "id": "8b914168-8918-480b-80c3-451e0c50b9d2",
   "metadata": {},
   "outputs": [],
   "source": []
  }
 ],
 "metadata": {
  "kernelspec": {
   "display_name": "Python 3 (ipykernel)",
   "language": "python",
   "name": "python3"
  },
  "language_info": {
   "codemirror_mode": {
    "name": "ipython",
    "version": 3
   },
   "file_extension": ".py",
   "mimetype": "text/x-python",
   "name": "python",
   "nbconvert_exporter": "python",
   "pygments_lexer": "ipython3",
   "version": "3.12.2"
  }
 },
 "nbformat": 4,
 "nbformat_minor": 5
}
