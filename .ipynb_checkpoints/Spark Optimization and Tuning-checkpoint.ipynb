{
 "cells": [
  {
   "cell_type": "code",
   "execution_count": 42,
   "id": "3bafdbb5-13f7-4aa2-a996-513d8ec61076",
   "metadata": {},
   "outputs": [],
   "source": [
    "import pyspark"
   ]
  },
  {
   "cell_type": "code",
   "execution_count": 83,
   "id": "bb1e63fa-762c-40ac-97e9-76e9be602228",
   "metadata": {},
   "outputs": [],
   "source": [
    "from pyspark.sql import SparkSession\n",
    "from pyspark.sql.types import StructType,StructField,IntegerType,StringType\n",
    "from pyspark.sql.functions import *"
   ]
  },
  {
   "cell_type": "code",
   "execution_count": 61,
   "id": "17a74abe-a9ee-4db8-8dd5-7d231e04da17",
   "metadata": {},
   "outputs": [],
   "source": [
    "spark = SparkSession.builder.appName(\"test\").getOrCreate()"
   ]
  },
  {
   "cell_type": "code",
   "execution_count": 72,
   "id": "1e82b5f1-1513-4220-894f-61f87d0aab6c",
   "metadata": {},
   "outputs": [],
   "source": [
    "data = [(1,\"Smith\",-1,\"2018\",10,\"M\",3000), \\\n",
    "    (2,\"Rose\",1,\"2010\",20,\"M\",4000), \\\n",
    "    (3,\"Williams\",1,\"2010\",10,\"M\",1000), \\\n",
    "    (4,\"Jones\",2,\"2005\",10,\"F\",2000), \\\n",
    "    (5,\"Brown\",2,\"2010\",40,\"\",-1), \\\n",
    "      (6,\"Brown\",2,\"2010\",50,\"\",-1) \\\n",
    "  ]"
   ]
  },
  {
   "cell_type": "code",
   "execution_count": 73,
   "id": "fb89413a-0f2b-4f21-8b41-a2062a4d80e7",
   "metadata": {},
   "outputs": [],
   "source": [
    "columns = [\"emp_id\",\"name\",\"superior_emp_id\",\"year_joined\",\"emp_dept_id\",\"gender\",\"salary\"]"
   ]
  },
  {
   "cell_type": "code",
   "execution_count": 74,
   "id": "b27ecbf4-ecdc-499e-b140-d86194b052f0",
   "metadata": {},
   "outputs": [],
   "source": [
    "columns = StructType([StructField(\"emp_id\",IntegerType(),True),StructField(\"name\",StringType(),True),StructField(\"superior_emp_id\",IntegerType(),True),\n",
    "                      StructField(\"year_joined\",StringType(),True),StructField(\"emp_dept_id\",IntegerType(),True),\n",
    "                      StructField(\"gender\",StringType()), StructField(\"salary\",IntegerType(),True)])"
   ]
  },
  {
   "cell_type": "code",
   "execution_count": 75,
   "id": "1e7f20d8-8ead-4fdb-9846-f0d2106e1555",
   "metadata": {},
   "outputs": [],
   "source": [
    "empdf = spark.createDataFrame(data=data,schema=columns)"
   ]
  },
  {
   "cell_type": "code",
   "execution_count": 76,
   "id": "14962917-a505-48c4-a8fd-9ebc67425a3f",
   "metadata": {},
   "outputs": [
    {
     "name": "stdout",
     "output_type": "stream",
     "text": [
      "root\n",
      " |-- emp_id: integer (nullable = true)\n",
      " |-- name: string (nullable = true)\n",
      " |-- superior_emp_id: integer (nullable = true)\n",
      " |-- year_joined: string (nullable = true)\n",
      " |-- emp_dept_id: integer (nullable = true)\n",
      " |-- gender: string (nullable = true)\n",
      " |-- salary: integer (nullable = true)\n",
      "\n"
     ]
    }
   ],
   "source": [
    "empdf.printSchema()"
   ]
  },
  {
   "cell_type": "code",
   "execution_count": 49,
   "id": "505837a7-33fc-4e5a-aa12-cc5fd386aa19",
   "metadata": {},
   "outputs": [],
   "source": [
    "dept = [(\"Finance\",10), \\\n",
    "    (\"Marketing\",20), \\\n",
    "    (\"Sales\",30), \\\n",
    "    (\"IT\",40) \\\n",
    "  ]"
   ]
  },
  {
   "cell_type": "code",
   "execution_count": 50,
   "id": "017a8904-ad73-49bd-9475-b6cd0b644244",
   "metadata": {},
   "outputs": [],
   "source": [
    "dept_cols = [\"dept_name\",\"dept_id\"]"
   ]
  },
  {
   "cell_type": "code",
   "execution_count": 77,
   "id": "cb2ce488-fc00-434c-bddb-641af6923703",
   "metadata": {},
   "outputs": [],
   "source": [
    "dept_cols = StructType([StructField(\"dept_name\",StringType(),True),StructField(\"dept_id\",IntegerType(),True)])"
   ]
  },
  {
   "cell_type": "code",
   "execution_count": 78,
   "id": "ae1929d0-7d0c-4cf4-840f-7d8f8e72a526",
   "metadata": {},
   "outputs": [],
   "source": [
    "deptdf = spark.createDataFrame(data=dept,schema=dept_cols)"
   ]
  },
  {
   "cell_type": "code",
   "execution_count": 80,
   "id": "11f2f3b4-a96a-4a0e-a4a5-2236a7312525",
   "metadata": {},
   "outputs": [
    {
     "name": "stdout",
     "output_type": "stream",
     "text": [
      "root\n",
      " |-- dept_name: string (nullable = true)\n",
      " |-- dept_id: integer (nullable = true)\n",
      "\n"
     ]
    }
   ],
   "source": [
    "deptdf.printSchema()"
   ]
  },
  {
   "cell_type": "code",
   "execution_count": 16,
   "id": "b3639463-b415-4222-8698-5fb353acee1d",
   "metadata": {},
   "outputs": [],
   "source": [
    "test = empdf.join(deptdf,empdf.emp_dept_id == deptdf.dept_id ,\"inner\")"
   ]
  },
  {
   "cell_type": "code",
   "execution_count": 18,
   "id": "f3067350-7294-4464-9269-155351f19340",
   "metadata": {},
   "outputs": [
    {
     "name": "stderr",
     "output_type": "stream",
     "text": [
      "[Stage 6:=========>                                               (2 + 10) / 12]\r"
     ]
    },
    {
     "name": "stdout",
     "output_type": "stream",
     "text": [
      "+------+--------+---------------+-----------+-----------+------+------+---------+-------+\n",
      "|emp_id|    name|superior_emp_id|year_joined|emp_dept_id|gender|salary|dept_name|dept_id|\n",
      "+------+--------+---------------+-----------+-----------+------+------+---------+-------+\n",
      "|     1|   Smith|             -1|       2018|         10|     M|  3000|  Finance|     10|\n",
      "|     3|Williams|              1|       2010|         10|     M|  1000|  Finance|     10|\n",
      "|     4|   Jones|              2|       2005|         10|     F|  2000|  Finance|     10|\n",
      "|     2|    Rose|              1|       2010|         20|     M|  4000|Marketing|     20|\n",
      "|     5|   Brown|              2|       2010|         40|      |    -1|       IT|     40|\n",
      "+------+--------+---------------+-----------+-----------+------+------+---------+-------+\n",
      "\n"
     ]
    },
    {
     "name": "stderr",
     "output_type": "stream",
     "text": [
      "                                                                                \r"
     ]
    }
   ],
   "source": [
    "test.show()"
   ]
  },
  {
   "cell_type": "code",
   "execution_count": 26,
   "id": "f708c5fd-c5b2-4499-af5b-128ecc2c4abb",
   "metadata": {},
   "outputs": [
    {
     "name": "stdout",
     "output_type": "stream",
     "text": [
      "+------+--------+---------------+-----------+-----------+------+------+---------+-------+\n",
      "|emp_id|    name|superior_emp_id|year_joined|emp_dept_id|gender|salary|dept_name|dept_id|\n",
      "+------+--------+---------------+-----------+-----------+------+------+---------+-------+\n",
      "|     1|   Smith|             -1|       2018|         10|     M|  3000|  Finance|     10|\n",
      "|     3|Williams|              1|       2010|         10|     M|  1000|  Finance|     10|\n",
      "|     4|   Jones|              2|       2005|         10|     F|  2000|  Finance|     10|\n",
      "|     2|    Rose|              1|       2010|         20|     M|  4000|Marketing|     20|\n",
      "|  NULL|    NULL|           NULL|       NULL|       NULL|  NULL|  NULL|    Sales|     30|\n",
      "|     5|   Brown|              2|       2010|         40|      |    -1|       IT|     40|\n",
      "|     6|   Brown|              2|       2010|         50|      |    -1|     NULL|   NULL|\n",
      "+------+--------+---------------+-----------+-----------+------+------+---------+-------+\n",
      "\n"
     ]
    }
   ],
   "source": [
    "empdf.join(deptdf,empdf.emp_dept_id == deptdf.dept_id ,\"outer\").show()"
   ]
  },
  {
   "cell_type": "code",
   "execution_count": 28,
   "id": "2b7dee94-b69e-489d-b298-0966461a70bf",
   "metadata": {},
   "outputs": [
    {
     "name": "stdout",
     "output_type": "stream",
     "text": [
      "+------+-----+---------------+-----------+-----------+------+------+\n",
      "|emp_id| name|superior_emp_id|year_joined|emp_dept_id|gender|salary|\n",
      "+------+-----+---------------+-----------+-----------+------+------+\n",
      "|     6|Brown|              2|       2010|         50|      |    -1|\n",
      "+------+-----+---------------+-----------+-----------+------+------+\n",
      "\n"
     ]
    }
   ],
   "source": [
    "empdf.join(deptdf,empdf.emp_dept_id == deptdf.dept_id,\"leftanti\").show()"
   ]
  },
  {
   "cell_type": "code",
   "execution_count": 29,
   "id": "85b85812-e3a6-4d66-a507-0d93a020cfdd",
   "metadata": {},
   "outputs": [
    {
     "name": "stdout",
     "output_type": "stream",
     "text": [
      "+------+--------+---------------+-----------+-----------+------+------+\n",
      "|emp_id|    name|superior_emp_id|year_joined|emp_dept_id|gender|salary|\n",
      "+------+--------+---------------+-----------+-----------+------+------+\n",
      "|     1|   Smith|             -1|       2018|         10|     M|  3000|\n",
      "|     3|Williams|              1|       2010|         10|     M|  1000|\n",
      "|     4|   Jones|              2|       2005|         10|     F|  2000|\n",
      "|     2|    Rose|              1|       2010|         20|     M|  4000|\n",
      "|     5|   Brown|              2|       2010|         40|      |    -1|\n",
      "+------+--------+---------------+-----------+-----------+------+------+\n",
      "\n"
     ]
    }
   ],
   "source": [
    "empdf.join(deptdf,empdf.emp_dept_id == deptdf.dept_id , \"leftsemi\").show()"
   ]
  },
  {
   "cell_type": "code",
   "execution_count": 30,
   "id": "676c01e7-c8e6-48ea-918b-a9736f4d65c8",
   "metadata": {},
   "outputs": [
    {
     "name": "stdout",
     "output_type": "stream",
     "text": [
      "+------+--------+---------------+-----------+-----------+------+------+---------+-------+\n",
      "|emp_id|    name|superior_emp_id|year_joined|emp_dept_id|gender|salary|dept_name|dept_id|\n",
      "+------+--------+---------------+-----------+-----------+------+------+---------+-------+\n",
      "|     1|   Smith|             -1|       2018|         10|     M|  3000|  Finance|     10|\n",
      "|     3|Williams|              1|       2010|         10|     M|  1000|  Finance|     10|\n",
      "|     4|   Jones|              2|       2005|         10|     F|  2000|  Finance|     10|\n",
      "|     2|    Rose|              1|       2010|         20|     M|  4000|Marketing|     20|\n",
      "|  NULL|    NULL|           NULL|       NULL|       NULL|  NULL|  NULL|    Sales|     30|\n",
      "|     5|   Brown|              2|       2010|         40|      |    -1|       IT|     40|\n",
      "|     6|   Brown|              2|       2010|         50|      |    -1|     NULL|   NULL|\n",
      "+------+--------+---------------+-----------+-----------+------+------+---------+-------+\n",
      "\n"
     ]
    }
   ],
   "source": [
    "empdf.join(deptdf,empdf.emp_dept_id == deptdf.dept_id , \"full\").show()"
   ]
  },
  {
   "cell_type": "code",
   "execution_count": 54,
   "id": "5617bdd2-ab1b-4811-945f-ad8d28f98072",
   "metadata": {},
   "outputs": [],
   "source": [
    "empdf.createOrReplaceTempView(\"employee\")"
   ]
  },
  {
   "cell_type": "code",
   "execution_count": 56,
   "id": "3d2eab58-b04f-44fd-a15b-c1966939e783",
   "metadata": {},
   "outputs": [
    {
     "name": "stdout",
     "output_type": "stream",
     "text": [
      "+--------+---------+\n",
      "|    name|total_sal|\n",
      "+--------+---------+\n",
      "|   Smith|   3000.0|\n",
      "|    Rose|   4000.0|\n",
      "|Williams|   1000.0|\n",
      "|   Jones|   2000.0|\n",
      "|   Brown|     -1.0|\n",
      "+--------+---------+\n",
      "\n"
     ]
    }
   ],
   "source": [
    "spark.sql(\"\"\" select e.name, avg(salary) as total_sal from employee e group by e.name \"\"\").show()"
   ]
  },
  {
   "cell_type": "code",
   "execution_count": 84,
   "id": "a4fdcd5f-7477-417b-b4db-67e6647bb2fe",
   "metadata": {},
   "outputs": [
    {
     "name": "stdout",
     "output_type": "stream",
     "text": [
      "+--------+------------+\n",
      "|    name|total_salary|\n",
      "+--------+------------+\n",
      "|   Smith|        3000|\n",
      "|    Rose|        4000|\n",
      "|Williams|        1000|\n",
      "|   Jones|        2000|\n",
      "|   Brown|          -2|\n",
      "+--------+------------+\n",
      "\n"
     ]
    }
   ],
   "source": [
    "empdf.groupBy(\"name\").agg(sum(\"salary\").alias(\"total_salary\")).show()"
   ]
  },
  {
   "cell_type": "code",
   "execution_count": null,
   "id": "a58c436f-b042-4c21-b9a3-a80378dc75fd",
   "metadata": {},
   "outputs": [],
   "source": []
  }
 ],
 "metadata": {
  "kernelspec": {
   "display_name": "Python 3 (ipykernel)",
   "language": "python",
   "name": "python3"
  },
  "language_info": {
   "codemirror_mode": {
    "name": "ipython",
    "version": 3
   },
   "file_extension": ".py",
   "mimetype": "text/x-python",
   "name": "python",
   "nbconvert_exporter": "python",
   "pygments_lexer": "ipython3",
   "version": "3.12.2"
  }
 },
 "nbformat": 4,
 "nbformat_minor": 5
}
