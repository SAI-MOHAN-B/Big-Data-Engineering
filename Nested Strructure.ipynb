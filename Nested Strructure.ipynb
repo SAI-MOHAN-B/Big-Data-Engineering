{
 "cells": [
  {
   "cell_type": "code",
   "execution_count": 1,
   "id": "0d8dae86-0924-4843-b372-1629e2acb903",
   "metadata": {},
   "outputs": [],
   "source": [
    "import pyspark"
   ]
  },
  {
   "cell_type": "code",
   "execution_count": 2,
   "id": "b884253e-feca-4670-b7ad-d9aabc0ebf18",
   "metadata": {},
   "outputs": [],
   "source": [
    "from pyspark.sql import SparkSession"
   ]
  },
  {
   "cell_type": "code",
   "execution_count": 3,
   "id": "deddf813-406c-47ef-b364-19a9e7666478",
   "metadata": {},
   "outputs": [],
   "source": [
    "from pyspark.sql.types import StructType,IntegerType,StringType,StructField"
   ]
  },
  {
   "cell_type": "code",
   "execution_count": 4,
   "id": "74c99322-3870-4bae-b924-5a977f1056d8",
   "metadata": {},
   "outputs": [],
   "source": [
    "spark = SparkSession.builder.appName(\"getdata\").getOrCreate()"
   ]
  },
  {
   "cell_type": "code",
   "execution_count": 10,
   "id": "fafd1315-9464-4fe5-b5cb-384327548631",
   "metadata": {},
   "outputs": [],
   "source": [
    "data = [((\"James\",\"\",\"Smith\"),\"36363\",\"M\",3100),((\"Michael\",\"\",\"Rose\"),\"40288\",\"M\",4300),((\"Robert\",\"\",\"Williams\"),\"42114\",\"M\",1400)]"
   ]
  },
  {
   "cell_type": "code",
   "execution_count": 15,
   "id": "e48694fe-7e26-47e8-8705-79e81d12af04",
   "metadata": {},
   "outputs": [],
   "source": [
    "structureschema = StructType([StructField(\"name\",StructType([StructField(\"firstname\",StringType(),True),StructField(\"middlename\",StringType(),True),StructField(\"lastname\",StringType(),True)])),StructField(\"id\",StringType(),True),StructField(\"gender\",StringType(),True),StructField(\"salary\",IntegerType(),True)])"
   ]
  },
  {
   "cell_type": "code",
   "execution_count": 16,
   "id": "be232997-3bad-4147-a74a-4ffd353db41d",
   "metadata": {},
   "outputs": [],
   "source": [
    "df = spark.createDataFrame(data=data,schema=structureschema)"
   ]
  },
  {
   "cell_type": "code",
   "execution_count": 17,
   "id": "880bbf88-90a7-404c-83cd-a5ec5d013403",
   "metadata": {},
   "outputs": [
    {
     "name": "stdout",
     "output_type": "stream",
     "text": [
      "root\n",
      " |-- name: struct (nullable = true)\n",
      " |    |-- firstname: string (nullable = true)\n",
      " |    |-- middlename: string (nullable = true)\n",
      " |    |-- lastname: string (nullable = true)\n",
      " |-- id: string (nullable = true)\n",
      " |-- gender: string (nullable = true)\n",
      " |-- salary: integer (nullable = true)\n",
      "\n"
     ]
    }
   ],
   "source": [
    "df.printSchema()"
   ]
  },
  {
   "cell_type": "code",
   "execution_count": 18,
   "id": "7f3bd994-b7c2-4c12-b382-56af36d7eecd",
   "metadata": {},
   "outputs": [
    {
     "name": "stdout",
     "output_type": "stream",
     "text": [
      "+--------------------+-----+------+------+\n",
      "|                name|   id|gender|salary|\n",
      "+--------------------+-----+------+------+\n",
      "|    {James, , Smith}|36363|     M|  3100|\n",
      "|   {Michael, , Rose}|40288|     M|  4300|\n",
      "|{Robert, , Williams}|42114|     M|  1400|\n",
      "+--------------------+-----+------+------+\n",
      "\n"
     ]
    }
   ],
   "source": [
    "df.show()"
   ]
  },
  {
   "cell_type": "code",
   "execution_count": 21,
   "id": "eeba74f9-f034-48ae-af98-042e9adce759",
   "metadata": {},
   "outputs": [
    {
     "name": "stdout",
     "output_type": "stream",
     "text": [
      "+---------+--------+\n",
      "|firstname|lastname|\n",
      "+---------+--------+\n",
      "|    James|   Smith|\n",
      "|  Michael|    Rose|\n",
      "|   Robert|Williams|\n",
      "+---------+--------+\n",
      "\n"
     ]
    }
   ],
   "source": [
    "df.select(\"name.firstname\",\"name.lastname\").show()"
   ]
  },
  {
   "cell_type": "code",
   "execution_count": 22,
   "id": "4d96bbd3-2dda-4a73-8d35-013774071cd6",
   "metadata": {},
   "outputs": [],
   "source": [
    "# we can change the struct of the exisiting data frame and add a new Struct Type to it"
   ]
  },
  {
   "cell_type": "code",
   "execution_count": 25,
   "id": "d8b7914b-a657-4d05-b0db-8d1b4aee6118",
   "metadata": {},
   "outputs": [],
   "source": [
    "from pyspark.sql.functions import struct,col,when\n",
    "\n",
    "updatedf = df.withColumn(\"OtherInfo\",struct(col(\"id\").alias(\"identifier\"),col(\"gender\").alias(\"gender\"),\n",
    "                                            col(\"salary\").alias(\"salary\"),\n",
    "                                            when(col(\"salary\").cast(IntegerType()) < 2000 ,\"Low\")\n",
    "                                           \n",
    "                                           )).drop(\"id\",\"gender\",\"salary\")"
   ]
  },
  {
   "cell_type": "code",
   "execution_count": 26,
   "id": "051b9e63-fe20-47f9-a65f-5aa890c4ab8d",
   "metadata": {},
   "outputs": [
    {
     "name": "stdout",
     "output_type": "stream",
     "text": [
      "root\n",
      " |-- name: struct (nullable = true)\n",
      " |    |-- firstname: string (nullable = true)\n",
      " |    |-- middlename: string (nullable = true)\n",
      " |    |-- lastname: string (nullable = true)\n",
      " |-- OtherInfo: struct (nullable = false)\n",
      " |    |-- identifier: string (nullable = true)\n",
      " |    |-- gender: string (nullable = true)\n",
      " |    |-- salary: integer (nullable = true)\n",
      " |    |-- col4: string (nullable = true)\n",
      "\n"
     ]
    }
   ],
   "source": [
    "updatedf.printSchema()"
   ]
  },
  {
   "cell_type": "code",
   "execution_count": 33,
   "id": "5d18ce1d-4e7b-4c2f-9978-497b4b7f4c04",
   "metadata": {},
   "outputs": [],
   "source": [
    "if \"firstname\" in df.columns:\n",
    "     print(\"column exists\")"
   ]
  },
  {
   "cell_type": "code",
   "execution_count": null,
   "id": "3368636b-451f-4075-8e20-1065a45f40c7",
   "metadata": {},
   "outputs": [],
   "source": []
  },
  {
   "cell_type": "code",
   "execution_count": null,
   "id": "23b37714-bb69-4991-ac21-17cdf5ea834b",
   "metadata": {},
   "outputs": [],
   "source": []
  },
  {
   "cell_type": "code",
   "execution_count": null,
   "id": "3d48e7ea-42fc-48f3-b0d5-a16b2081ee19",
   "metadata": {},
   "outputs": [],
   "source": []
  },
  {
   "cell_type": "code",
   "execution_count": null,
   "id": "8e6c4fad-ac88-4eef-a956-c20033293460",
   "metadata": {},
   "outputs": [],
   "source": []
  },
  {
   "cell_type": "code",
   "execution_count": null,
   "id": "646ab4de-e293-4a84-af84-535a7ce45d68",
   "metadata": {},
   "outputs": [],
   "source": []
  },
  {
   "cell_type": "code",
   "execution_count": null,
   "id": "9edfd76b-7747-4153-9a86-7fa4c41e60c1",
   "metadata": {},
   "outputs": [],
   "source": []
  },
  {
   "cell_type": "code",
   "execution_count": null,
   "id": "bf0d76ee-3c62-47ab-a8aa-00aa4210a493",
   "metadata": {},
   "outputs": [],
   "source": []
  },
  {
   "cell_type": "code",
   "execution_count": null,
   "id": "75793b02-9341-4449-b275-34be54b434d5",
   "metadata": {},
   "outputs": [],
   "source": []
  },
  {
   "cell_type": "code",
   "execution_count": null,
   "id": "ba608259-a2b2-488e-a57a-67bc0e9099e8",
   "metadata": {},
   "outputs": [],
   "source": []
  },
  {
   "cell_type": "code",
   "execution_count": null,
   "id": "f57a4f03-c550-40d4-92ed-8b9b5e04ee1e",
   "metadata": {},
   "outputs": [],
   "source": []
  },
  {
   "cell_type": "code",
   "execution_count": null,
   "id": "69fc3d3f-d873-41b8-bd6e-a64f5b52417b",
   "metadata": {},
   "outputs": [],
   "source": []
  },
  {
   "cell_type": "code",
   "execution_count": null,
   "id": "91605d51-94c1-4025-9b77-4197bcdc8f8d",
   "metadata": {},
   "outputs": [],
   "source": []
  }
 ],
 "metadata": {
  "kernelspec": {
   "display_name": "Python 3 (ipykernel)",
   "language": "python",
   "name": "python3"
  },
  "language_info": {
   "codemirror_mode": {
    "name": "ipython",
    "version": 3
   },
   "file_extension": ".py",
   "mimetype": "text/x-python",
   "name": "python",
   "nbconvert_exporter": "python",
   "pygments_lexer": "ipython3",
   "version": "3.11.0b1"
  }
 },
 "nbformat": 4,
 "nbformat_minor": 5
}
