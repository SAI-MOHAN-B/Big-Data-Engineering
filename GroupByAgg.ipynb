{
 "cells": [
  {
   "cell_type": "code",
   "execution_count": 1,
   "id": "9b9eb0c3-5a21-40b8-a073-fbb2e950b6a9",
   "metadata": {},
   "outputs": [],
   "source": [
    "import pyspark"
   ]
  },
  {
   "cell_type": "code",
   "execution_count": 2,
   "id": "5e629c91-068f-4443-9123-1c548f5a9f06",
   "metadata": {},
   "outputs": [],
   "source": [
    "from pyspark.sql import SparkSession"
   ]
  },
  {
   "cell_type": "code",
   "execution_count": 3,
   "id": "e9875749-3255-4b7c-bafa-e36e8dafaca2",
   "metadata": {},
   "outputs": [],
   "source": [
    "from pyspark.sql.functions import *"
   ]
  },
  {
   "cell_type": "code",
   "execution_count": 4,
   "id": "c254155e-10c7-4703-8f5d-0ffc0535bf7f",
   "metadata": {},
   "outputs": [
    {
     "name": "stderr",
     "output_type": "stream",
     "text": [
      "Setting default log level to \"WARN\".\n",
      "To adjust logging level use sc.setLogLevel(newLevel). For SparkR, use setLogLevel(newLevel).\n",
      "24/06/20 16:00:52 WARN NativeCodeLoader: Unable to load native-hadoop library for your platform... using builtin-java classes where applicable\n",
      "24/06/20 16:00:53 WARN Utils: Service 'SparkUI' could not bind on port 4040. Attempting port 4041.\n",
      "24/06/20 16:01:06 WARN GarbageCollectionMetrics: To enable non-built-in garbage collector(s) List(G1 Concurrent GC), users should configure it(them) to spark.eventLog.gcMetrics.youngGenerationGarbageCollectors or spark.eventLog.gcMetrics.oldGenerationGarbageCollectors\n"
     ]
    }
   ],
   "source": [
    "spark = SparkSession.builder.appName(\"test\").getOrCreate()"
   ]
  },
  {
   "cell_type": "code",
   "execution_count": 5,
   "id": "c91f5007-836e-41ee-8e64-f05e10685b15",
   "metadata": {},
   "outputs": [],
   "source": [
    "simpleData = [(\"James\",\"Sales\",\"NY\",90000,34,10000),\n",
    "    (\"Michael\",\"Sales\",\"NY\",86000,56,20000),\n",
    "    (\"Robert\",\"Sales\",\"CA\",81000,30,23000),\n",
    "    (\"Maria\",\"Finance\",\"CA\",90000,24,23000),\n",
    "    (\"Raman\",\"Finance\",\"CA\",99000,40,24000),\n",
    "    (\"Scott\",\"Finance\",\"NY\",83000,36,19000),\n",
    "    (\"Jen\",\"Finance\",\"NY\",79000,53,15000),\n",
    "    (\"Jeff\",\"Marketing\",\"CA\",80000,25,18000),\n",
    "    (\"Kumar\",\"Marketing\",\"NY\",91000,50,21000)\n",
    "  ]\n",
    "schema = [\"employee_name\",\"department\",\"state\",\"salary\",\"age\",\"bonus\"]"
   ]
  },
  {
   "cell_type": "code",
   "execution_count": 6,
   "id": "50c04f3a-a9ee-4f1e-8a0a-2a95ba3c6810",
   "metadata": {},
   "outputs": [],
   "source": [
    "df = spark.createDataFrame(data=simpleData,schema=schema)"
   ]
  },
  {
   "cell_type": "code",
   "execution_count": 7,
   "id": "1aa0e52d-a24f-4e26-a6a1-bc964a1cfdbf",
   "metadata": {},
   "outputs": [
    {
     "name": "stderr",
     "output_type": "stream",
     "text": [
      "                                                                                \r"
     ]
    },
    {
     "name": "stdout",
     "output_type": "stream",
     "text": [
      "+-------------+----------+-----+------+---+-----+\n",
      "|employee_name|department|state|salary|age|bonus|\n",
      "+-------------+----------+-----+------+---+-----+\n",
      "|        James|     Sales|   NY| 90000| 34|10000|\n",
      "|      Michael|     Sales|   NY| 86000| 56|20000|\n",
      "+-------------+----------+-----+------+---+-----+\n",
      "only showing top 2 rows\n",
      "\n"
     ]
    }
   ],
   "source": [
    "df.show(2)"
   ]
  },
  {
   "cell_type": "code",
   "execution_count": 9,
   "id": "d0b00bda-4213-4d46-b6a2-dd28b08c6a46",
   "metadata": {},
   "outputs": [
    {
     "name": "stdout",
     "output_type": "stream",
     "text": [
      "+----------+------------+-----------------+\n",
      "|department|total_salary|   average_salary|\n",
      "+----------+------------+-----------------+\n",
      "|     Sales|      257000|85666.66666666667|\n",
      "|   Finance|      351000|          87750.0|\n",
      "| Marketing|      171000|          85500.0|\n",
      "+----------+------------+-----------------+\n",
      "\n"
     ]
    }
   ],
   "source": [
    "df.groupBy(\"department\").agg(sum(\"salary\").alias(\"total_salary\"),avg(\"salary\").alias(\"average_salary\")).show()"
   ]
  },
  {
   "cell_type": "code",
   "execution_count": 10,
   "id": "1ce7cd89-daeb-41e7-87f1-f84283e17e9e",
   "metadata": {},
   "outputs": [
    {
     "name": "stdout",
     "output_type": "stream",
     "text": [
      "+-----+------------+--------------+\n",
      "|state|total_salary|average_salary|\n",
      "+-----+------------+--------------+\n",
      "|   NY|      429000|       85800.0|\n",
      "|   CA|      350000|       87500.0|\n",
      "+-----+------------+--------------+\n",
      "\n"
     ]
    }
   ],
   "source": [
    "df.groupBy(\"state\").agg(sum(\"salary\").alias(\"total_salary\"),avg(\"salary\").alias(\"average_salary\")).show()"
   ]
  },
  {
   "cell_type": "code",
   "execution_count": 11,
   "id": "04a2fefb-6b74-4ef0-aeed-412db674662a",
   "metadata": {},
   "outputs": [
    {
     "name": "stdout",
     "output_type": "stream",
     "text": [
      "+----------+-----+\n",
      "|department|count|\n",
      "+----------+-----+\n",
      "|     Sales|    3|\n",
      "|   Finance|    4|\n",
      "| Marketing|    2|\n",
      "+----------+-----+\n",
      "\n"
     ]
    }
   ],
   "source": [
    "df.groupBy(\"department\").agg(count(\"*\").alias(\"count\")).show()"
   ]
  },
  {
   "cell_type": "code",
   "execution_count": 21,
   "id": "8787379e-124f-4381-a722-3ffbacab3075",
   "metadata": {},
   "outputs": [],
   "source": [
    "result_df = df.groupBy(\"department\").agg(sum(\"salary\").alias(\"total_salary\"),avg(\"salary\").alias(\"avearge_salary\"),sum(\"bonus\").alias(\"total_bonus\"),\n",
    "                                         \n",
    "                                         avg(\"bonus\").alias(\"avg_bonus\")).where(col(\"avg_bonus\")>=5000)"
   ]
  },
  {
   "cell_type": "code",
   "execution_count": 22,
   "id": "025c3fc7-92e5-417b-aa95-d743b1a49b23",
   "metadata": {},
   "outputs": [
    {
     "name": "stdout",
     "output_type": "stream",
     "text": [
      "+----------+------------+-----------------+-----------+------------------+\n",
      "|department|total_salary|   avearge_salary|total_bonus|         avg_bonus|\n",
      "+----------+------------+-----------------+-----------+------------------+\n",
      "|     Sales|      257000|85666.66666666667|      53000|17666.666666666668|\n",
      "|   Finance|      351000|          87750.0|      81000|           20250.0|\n",
      "| Marketing|      171000|          85500.0|      39000|           19500.0|\n",
      "+----------+------------+-----------------+-----------+------------------+\n",
      "\n"
     ]
    }
   ],
   "source": [
    "result_df.show()"
   ]
  },
  {
   "cell_type": "code",
   "execution_count": 23,
   "id": "44e1a983-1347-4581-8157-576e64b2d467",
   "metadata": {},
   "outputs": [],
   "source": [
    "df.createOrReplaceTempView(\"emp\")"
   ]
  },
  {
   "cell_type": "code",
   "execution_count": 25,
   "id": "bec7d214-2a44-4261-9dcb-90fd61a1aab5",
   "metadata": {},
   "outputs": [
    {
     "name": "stdout",
     "output_type": "stream",
     "text": [
      "+----------+------------+-----------------+\n",
      "|department|total_salary|   average_salary|\n",
      "+----------+------------+-----------------+\n",
      "|     Sales|      257000|85666.66666666667|\n",
      "|   Finance|      351000|          87750.0|\n",
      "| Marketing|      171000|          85500.0|\n",
      "+----------+------------+-----------------+\n",
      "\n"
     ]
    }
   ],
   "source": [
    "spark.sql(\"\"\" \n",
    "select department,sum(salary) as total_salary,avg(salary) as average_salary\n",
    "from emp\n",
    "group by department\n",
    "having average_salary >=5000\n",
    "\"\"\").show()\n",
    "\n"
   ]
  },
  {
   "cell_type": "code",
   "execution_count": null,
   "id": "a3818d79-4b04-4c4e-9b2e-044b1f4f5bb7",
   "metadata": {},
   "outputs": [],
   "source": []
  },
  {
   "cell_type": "code",
   "execution_count": null,
   "id": "710a00ac-202d-42ff-a04a-e3ab6a730efd",
   "metadata": {},
   "outputs": [],
   "source": []
  },
  {
   "cell_type": "code",
   "execution_count": null,
   "id": "ff0e1f9b-7b57-4b2b-b1e1-21bfc0af3a4a",
   "metadata": {},
   "outputs": [],
   "source": []
  },
  {
   "cell_type": "code",
   "execution_count": null,
   "id": "6bd8a9c0-0fbf-432c-8d8f-bf82d2b08737",
   "metadata": {},
   "outputs": [],
   "source": []
  },
  {
   "cell_type": "code",
   "execution_count": null,
   "id": "f57a7da1-6f45-468a-a327-c0f501faefac",
   "metadata": {},
   "outputs": [],
   "source": []
  },
  {
   "cell_type": "code",
   "execution_count": null,
   "id": "d3e7d765-401c-4dd7-8edd-819806f5b0f0",
   "metadata": {},
   "outputs": [],
   "source": []
  }
 ],
 "metadata": {
  "kernelspec": {
   "display_name": "Python 3 (ipykernel)",
   "language": "python",
   "name": "python3"
  },
  "language_info": {
   "codemirror_mode": {
    "name": "ipython",
    "version": 3
   },
   "file_extension": ".py",
   "mimetype": "text/x-python",
   "name": "python",
   "nbconvert_exporter": "python",
   "pygments_lexer": "ipython3",
   "version": "3.12.2"
  }
 },
 "nbformat": 4,
 "nbformat_minor": 5
}
