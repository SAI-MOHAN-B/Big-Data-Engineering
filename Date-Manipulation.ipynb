{
 "cells": [
  {
   "cell_type": "code",
   "execution_count": null,
   "id": "89ebb7f4-d74b-413f-aff6-4f6d6258f208",
   "metadata": {},
   "outputs": [],
   "source": [
    "import pyspark"
   ]
  },
  {
   "cell_type": "code",
   "execution_count": null,
   "id": "4e543496-b0da-4bba-b76b-adef1c067a08",
   "metadata": {},
   "outputs": [],
   "source": [
    "from pyspark.sql import SparkSession"
   ]
  },
  {
   "cell_type": "code",
   "execution_count": null,
   "id": "fcd4208b-ca03-4e9b-a5a1-8be79f31fe9b",
   "metadata": {},
   "outputs": [],
   "source": [
    "from pyspark.sql.functions import *"
   ]
  },
  {
   "cell_type": "code",
   "execution_count": null,
   "id": "b0c234e1-5f16-4113-abb0-0414e857f0e4",
   "metadata": {},
   "outputs": [],
   "source": [
    "spark = SparkSession.builder.appName(\"date\").getOrCreate()"
   ]
  },
  {
   "cell_type": "code",
   "execution_count": null,
   "id": "ed9afe56-7248-4d82-9339-71976ecef1a7",
   "metadata": {},
   "outputs": [],
   "source": [
    "data = [(\"1\",\"2020-02-01\"),(\"2\",\"2019-03-01\")]"
   ]
  },
  {
   "cell_type": "code",
   "execution_count": null,
   "id": "6f681fe0-02e9-4237-88a3-bce7b0928568",
   "metadata": {},
   "outputs": [],
   "source": [
    "df = spark.createDataFrame(data=data,schema=[\"id\",\"input\"])"
   ]
  },
  {
   "cell_type": "code",
   "execution_count": null,
   "id": "8df1dac9-79f6-4d8c-bdd1-376d1ecf2593",
   "metadata": {},
   "outputs": [],
   "source": [
    "df.show()"
   ]
  },
  {
   "cell_type": "code",
   "execution_count": null,
   "id": "ef98c72d-23ef-498c-b93c-afede0c6544c",
   "metadata": {},
   "outputs": [],
   "source": [
    "df.select(current_date().alias(\"current_date\")).show(1)"
   ]
  },
  {
   "cell_type": "code",
   "execution_count": null,
   "id": "2b4ef472-3cfb-4dc9-8d52-1186479f5181",
   "metadata": {},
   "outputs": [],
   "source": [
    "df.select(col(\"input\")).show()"
   ]
  },
  {
   "cell_type": "code",
   "execution_count": null,
   "id": "420970ca-bc36-4ae3-b0eb-15cabc942eb0",
   "metadata": {},
   "outputs": [],
   "source": [
    "df.select(col(\"input\"),date_format(col(\"input\"),\"dd-mm-yy\").alias(\"date_converted\")).show()"
   ]
  },
  {
   "cell_type": "code",
   "execution_count": null,
   "id": "90fc4d19-d3f4-4c91-b885-e33b69040e7a",
   "metadata": {},
   "outputs": [],
   "source": [
    "df.select(col(\"input\"),datediff(current_date(),col(\"input\")).alias(\"datediff\")).show()"
   ]
  },
  {
   "cell_type": "code",
   "execution_count": null,
   "id": "b6125616-9a3a-40bb-82bf-265abbaf6d8c",
   "metadata": {},
   "outputs": [],
   "source": [
    "df.select(col(\"input\"),add_months(col(\"input\"),3).alias(\"add_months\")).show()"
   ]
  },
  {
   "cell_type": "code",
   "execution_count": null,
   "id": "a5fafd44-ac80-4aed-99e2-8fbf2d4cae43",
   "metadata": {},
   "outputs": [],
   "source": [
    "df.select(col(\"input\"),col(\"id\")).show()"
   ]
  },
  {
   "cell_type": "code",
   "execution_count": null,
   "id": "f1ef3946-0cad-4a61-9edc-b1a24dcfac9b",
   "metadata": {},
   "outputs": [],
   "source": [
    "df.select(col(\"input\"),year(col(\"input\")).alias(\"new_year\")).show()"
   ]
  },
  {
   "cell_type": "code",
   "execution_count": null,
   "id": "2afc6aa3-ba6a-4209-a25f-458d89c44b10",
   "metadata": {},
   "outputs": [],
   "source": []
  },
  {
   "cell_type": "code",
   "execution_count": null,
   "id": "c824a770-f260-474a-8d96-a03c18af3eac",
   "metadata": {},
   "outputs": [],
   "source": []
  },
  {
   "cell_type": "code",
   "execution_count": null,
   "id": "c3f70d60-324c-435a-92be-d3ac5d8dff3f",
   "metadata": {},
   "outputs": [],
   "source": []
  },
  {
   "cell_type": "code",
   "execution_count": null,
   "id": "691a2e7d-5933-4c79-8387-f7ce1521b378",
   "metadata": {},
   "outputs": [],
   "source": []
  }
 ],
 "metadata": {
  "kernelspec": {
   "display_name": "Python 3 (ipykernel)",
   "language": "python",
   "name": "python3"
  },
  "language_info": {
   "codemirror_mode": {
    "name": "ipython",
    "version": 3
   },
   "file_extension": ".py",
   "mimetype": "text/x-python",
   "name": "python",
   "nbconvert_exporter": "python",
   "pygments_lexer": "ipython3",
   "version": "3.11.0b1"
  }
 },
 "nbformat": 4,
 "nbformat_minor": 5
}
