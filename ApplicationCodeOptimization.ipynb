{
 "cells": [
  {
   "cell_type": "code",
   "execution_count": null,
   "id": "b7cdfeff-5a72-4e77-b095-b6d61e37feba",
   "metadata": {},
   "outputs": [],
   "source": [
    "import pyspark"
   ]
  },
  {
   "cell_type": "code",
   "execution_count": null,
   "id": "bbbf28af-a988-4112-9466-749c9345f800",
   "metadata": {},
   "outputs": [],
   "source": [
    "from pyspark.sql import SparkSession\n",
    "import pyspark.sql.functions as F\n",
    "from pyspark.conf import SparkConf"
   ]
  },
  {
   "cell_type": "code",
   "execution_count": null,
   "id": "e84306b3-3436-420c-8b62-0f970ae457bb",
   "metadata": {},
   "outputs": [],
   "source": [
    "spark = SparkSession.builder.appName(\"session-data\").getOrCreate()"
   ]
  },
  {
   "cell_type": "code",
   "execution_count": null,
   "id": "d1110ea9-746f-4222-b195-395143fede5b",
   "metadata": {},
   "outputs": [],
   "source": [
    "df = spark.read.format(\"csv\").option(\"header\",\"true\").option(\"inferSchema\",True).load(\"./students.csv\")\n",
    "df.show(20)"
   ]
  },
  {
   "cell_type": "code",
   "execution_count": null,
   "id": "9b69e074-80db-4499-9f35-61da5aa0d4eb",
   "metadata": {},
   "outputs": [],
   "source": [
    "df = df.withColumn('amount',F.col('amount').cast('int'))"
   ]
  },
  {
   "cell_type": "code",
   "execution_count": null,
   "id": "3818926d-d2d4-4338-bbf1-5ea9e876b639",
   "metadata": {},
   "outputs": [],
   "source": [
    "df.printSchema()"
   ]
  },
  {
   "cell_type": "code",
   "execution_count": null,
   "id": "37b4e964-9cc3-4de1-99f9-f7563035b776",
   "metadata": {},
   "outputs": [],
   "source": [
    "df = df.groupBy(\"first\").agg(F.sum(\"amount\").alias(\"total_amount\"))"
   ]
  },
  {
   "cell_type": "code",
   "execution_count": null,
   "id": "7400a3fe-c0f7-4853-8ff4-df41cac30f2d",
   "metadata": {},
   "outputs": [],
   "source": [
    "df_avg = df.select(F.avg('total_amount').alias('avg_amount'))"
   ]
  },
  {
   "cell_type": "code",
   "execution_count": null,
   "id": "f024b093-caa9-40d5-8eb2-057fa72d493d",
   "metadata": {},
   "outputs": [],
   "source": [
    "df_avg.show()"
   ]
  },
  {
   "cell_type": "code",
   "execution_count": null,
   "id": "88303758-61f7-42c8-b4ba-98229ee51ecc",
   "metadata": {},
   "outputs": [],
   "source": [
    "df = df.crossJoin(df_avg)"
   ]
  },
  {
   "cell_type": "code",
   "execution_count": null,
   "id": "8bc2f066-7039-4371-a134-691678a0f494",
   "metadata": {},
   "outputs": [],
   "source": [
    "df = df.withColumn('compared_to_Avg',F.round(F.col('total_amount')/F.col('avg_amount'),3))"
   ]
  },
  {
   "cell_type": "code",
   "execution_count": null,
   "id": "c9e29c29-2f45-4e6c-bf1f-a77e2f53b39f",
   "metadata": {},
   "outputs": [],
   "source": [
    "df.show()"
   ]
  },
  {
   "cell_type": "code",
   "execution_count": null,
   "id": "98aa5238-9ce8-48c8-a164-ef277cd86602",
   "metadata": {},
   "outputs": [],
   "source": [
    "df.write.mode('overwrite').partitionBy('compared_to_Avg').parquet('./output_data_parquet/')"
   ]
  },
  {
   "cell_type": "code",
   "execution_count": null,
   "id": "b4acd78c-d8dd-49fc-a574-74ea5ccfe433",
   "metadata": {},
   "outputs": [],
   "source": [
    "# After Optimizing the code in application level"
   ]
  },
  {
   "cell_type": "code",
   "execution_count": null,
   "id": "b0e7383d-ce04-4922-8ad8-5d4c1ade501a",
   "metadata": {},
   "outputs": [],
   "source": [
    "spark_conf = SparkConf()"
   ]
  },
  {
   "cell_type": "code",
   "execution_count": null,
   "id": "09f2b1ca-afec-46e1-8949-c551718af265",
   "metadata": {},
   "outputs": [],
   "source": [
    "spark_conf.set('spark.sql.adaptive.coalescePartitions.initialPartitionNum', 10)"
   ]
  },
  {
   "cell_type": "code",
   "execution_count": null,
   "id": "aaea9724-4773-4ab3-882c-65a9d582624f",
   "metadata": {},
   "outputs": [],
   "source": [
    "spark_conf.set('spark.sql.adaptive.coalescePartitions.parallelismFirst', 'false')"
   ]
  },
  {
   "cell_type": "code",
   "execution_count": null,
   "id": "36f5b061-cdc7-41e7-84ac-7ee1c01e5934",
   "metadata": {},
   "outputs": [],
   "source": [
    "spark_conf.set('spark.sql.files.minPartitionNum',1)"
   ]
  },
  {
   "cell_type": "code",
   "execution_count": null,
   "id": "00a66792-92f2-4dff-acf8-23497e8dbfd4",
   "metadata": {},
   "outputs": [],
   "source": [
    "spark_conf.set('spark.sql.files.maxPartitionBytes','3mb')"
   ]
  },
  {
   "cell_type": "code",
   "execution_count": null,
   "id": "3ee6d952-029b-4566-a19d-7327b80723e8",
   "metadata": {},
   "outputs": [],
   "source": [
    "spark = SparkSession.builder.appName(\"optimisation\").getOrCreate()"
   ]
  },
  {
   "cell_type": "code",
   "execution_count": null,
   "id": "fa0ceee2-6b95-4b8d-ad04-6498ddefaba1",
   "metadata": {},
   "outputs": [],
   "source": [
    "df = spark.read.format(\"csv\").option(\"header\",\"true\").option(\"inferSchema\",True).load(\"students.csv\")"
   ]
  },
  {
   "cell_type": "code",
   "execution_count": null,
   "id": "fb18a1a7-fb91-466d-bb77-59c091d73901",
   "metadata": {},
   "outputs": [],
   "source": [
    "df.show()"
   ]
  },
  {
   "cell_type": "code",
   "execution_count": null,
   "id": "3ab7e4fa-34ff-4571-b1a5-b506f2b1b08d",
   "metadata": {},
   "outputs": [],
   "source": [
    "df.printSchema()"
   ]
  },
  {
   "cell_type": "code",
   "execution_count": null,
   "id": "da9b8988-5e88-4fa5-a36d-d1f6acf6a4d0",
   "metadata": {},
   "outputs": [],
   "source": [
    "df = df.withColumn(\"amount\",F.col(\"amount\").cast(\"int\"))"
   ]
  },
  {
   "cell_type": "code",
   "execution_count": null,
   "id": "f4bf46f8-5120-45c0-a738-b52edd912206",
   "metadata": {},
   "outputs": [],
   "source": [
    "df = df.groupBy(\"first\").agg(F.sum(\"amount\").alias(\"total_amount\"))"
   ]
  },
  {
   "cell_type": "code",
   "execution_count": null,
   "id": "240d5366-40e5-4985-977f-5567b61220f8",
   "metadata": {},
   "outputs": [],
   "source": [
    "df_avg = df.select(F.avg(\"total_amount\").alias(\"avg_amount\"))"
   ]
  },
  {
   "cell_type": "code",
   "execution_count": null,
   "id": "9a27d542-ff6b-4db9-894c-79b901119681",
   "metadata": {},
   "outputs": [],
   "source": [
    "df = df.crossJoin(df_avg)"
   ]
  },
  {
   "cell_type": "code",
   "execution_count": null,
   "id": "ab6b2928-7634-4f72-95ca-26dc81778d79",
   "metadata": {},
   "outputs": [],
   "source": [
    "df = df.withColumn(\"compared_to_avg\",F.round(F.col(\"total_amount\")/F.col(\"avg_amount\"),3))"
   ]
  },
  {
   "cell_type": "code",
   "execution_count": null,
   "id": "545edfe6-61bd-4f1e-b2aa-739bf04da1e1",
   "metadata": {},
   "outputs": [],
   "source": [
    "df.write.mode(\"overwrite\").partitionBy(\"compared_to_avg\").parquet(\"output_folder\")"
   ]
  },
  {
   "cell_type": "code",
   "execution_count": null,
   "id": "a5567e77-8493-4150-b1fd-bb5987df01c5",
   "metadata": {},
   "outputs": [],
   "source": []
  },
  {
   "cell_type": "code",
   "execution_count": null,
   "id": "74b2bfd7-ac2d-48d9-82eb-a9751aae931e",
   "metadata": {},
   "outputs": [],
   "source": []
  }
 ],
 "metadata": {
  "kernelspec": {
   "display_name": "Python 3 (ipykernel)",
   "language": "python",
   "name": "python3"
  },
  "language_info": {
   "codemirror_mode": {
    "name": "ipython",
    "version": 3
   },
   "file_extension": ".py",
   "mimetype": "text/x-python",
   "name": "python",
   "nbconvert_exporter": "python",
   "pygments_lexer": "ipython3",
   "version": "3.12.2"
  }
 },
 "nbformat": 4,
 "nbformat_minor": 5
}
