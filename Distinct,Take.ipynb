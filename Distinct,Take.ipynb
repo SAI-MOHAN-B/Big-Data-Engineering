{
 "cells": [
  {
   "cell_type": "code",
   "execution_count": 1,
   "id": "7e571294-5726-4aba-afd9-46309d75eccb",
   "metadata": {},
   "outputs": [],
   "source": [
    "import pyspark"
   ]
  },
  {
   "cell_type": "code",
   "execution_count": 2,
   "id": "be33549b-4afb-4911-a4d6-ae73220ea8db",
   "metadata": {},
   "outputs": [],
   "source": [
    "from pyspark.sql import SparkSession"
   ]
  },
  {
   "cell_type": "code",
   "execution_count": 6,
   "id": "809a20c2-19b4-4fa8-99e6-8b5b201825ca",
   "metadata": {},
   "outputs": [],
   "source": [
    "spark = SparkSession.builder.appName(\"Distinct\").getOrCreate()"
   ]
  },
  {
   "cell_type": "code",
   "execution_count": 22,
   "id": "aa76df2f-3d04-405a-a3b8-28a0437c36a4",
   "metadata": {},
   "outputs": [],
   "source": [
    "sc = spark.sparkContext"
   ]
  },
  {
   "cell_type": "code",
   "execution_count": 9,
   "id": "c0dbcc8d-b280-4c16-bf79-2b3195914009",
   "metadata": {},
   "outputs": [],
   "source": [
    "data = [(\"James\",\"Sales\",3000),(\"Michael\",\"Sales\",4600),(\"Robert\",\"Sales\",4100),(\"James\",\"Sales\",3000)]"
   ]
  },
  {
   "cell_type": "code",
   "execution_count": 10,
   "id": "e9e8026d-a660-491b-bd90-a8f1cc5f73a3",
   "metadata": {},
   "outputs": [],
   "source": [
    "columns = [\"employee_name\",\"department\",\"salary\"]"
   ]
  },
  {
   "cell_type": "code",
   "execution_count": 11,
   "id": "23bfa7cf-e971-46e1-b9b0-cdd8509f890f",
   "metadata": {},
   "outputs": [],
   "source": [
    "df = spark.createDataFrame(data = data,schema = columns);"
   ]
  },
  {
   "cell_type": "code",
   "execution_count": 12,
   "id": "6a46447e-642b-47c2-89b4-12c00360e8b4",
   "metadata": {},
   "outputs": [
    {
     "name": "stdout",
     "output_type": "stream",
     "text": [
      "root\n",
      " |-- employee_name: string (nullable = true)\n",
      " |-- department: string (nullable = true)\n",
      " |-- salary: long (nullable = true)\n",
      "\n"
     ]
    }
   ],
   "source": [
    "df.printSchema()"
   ]
  },
  {
   "cell_type": "code",
   "execution_count": 13,
   "id": "9f565e4f-a69e-4261-b1ab-72ebf77570a6",
   "metadata": {},
   "outputs": [],
   "source": [
    "distinct_df = df.distinct()"
   ]
  },
  {
   "cell_type": "code",
   "execution_count": 14,
   "id": "c10cd75a-fc86-4533-8f5f-823c3a916ba8",
   "metadata": {},
   "outputs": [
    {
     "name": "stderr",
     "output_type": "stream",
     "text": [
      "                                                                                \r"
     ]
    },
    {
     "name": "stdout",
     "output_type": "stream",
     "text": [
      "+-------------+----------+------+\n",
      "|employee_name|department|salary|\n",
      "+-------------+----------+------+\n",
      "|        James|     Sales|  3000|\n",
      "|      Michael|     Sales|  4600|\n",
      "|       Robert|     Sales|  4100|\n",
      "+-------------+----------+------+\n",
      "\n"
     ]
    }
   ],
   "source": [
    "distinct_df.show()"
   ]
  },
  {
   "cell_type": "code",
   "execution_count": 15,
   "id": "902375ed-f75a-4359-8479-68f844df6036",
   "metadata": {},
   "outputs": [],
   "source": [
    "df.createOrReplaceTempView(\"Employee\")"
   ]
  },
  {
   "cell_type": "code",
   "execution_count": 16,
   "id": "0bf9b59c-1683-4aa9-9e75-16985a3f2283",
   "metadata": {},
   "outputs": [
    {
     "name": "stdout",
     "output_type": "stream",
     "text": [
      "+-------------+----------+------+\n",
      "|employee_name|department|salary|\n",
      "+-------------+----------+------+\n",
      "|        James|     Sales|  3000|\n",
      "|      Michael|     Sales|  4600|\n",
      "|       Robert|     Sales|  4100|\n",
      "|        James|     Sales|  3000|\n",
      "+-------------+----------+------+\n",
      "\n"
     ]
    }
   ],
   "source": [
    "spark.sql(\"\"\" select * from Employee \"\"\").show()"
   ]
  },
  {
   "cell_type": "code",
   "execution_count": 34,
   "id": "ebc927e9-427f-4920-bbe3-c8ae3c8f7e3a",
   "metadata": {},
   "outputs": [
    {
     "name": "stdout",
     "output_type": "stream",
     "text": [
      "+-------------+-------+\n",
      "|employee_name|average|\n",
      "+-------------+-------+\n",
      "|        James|   3000|\n",
      "|      Michael|   4600|\n",
      "|       Robert|   4100|\n",
      "+-------------+-------+\n",
      "\n"
     ]
    }
   ],
   "source": [
    "spark.sql(\"\"\" select  employee_name,max(salary) as average  from Employee group by employee_name order by employee_name asc \"\"\").show()"
   ]
  },
  {
   "cell_type": "code",
   "execution_count": 20,
   "id": "1e5da59e-2302-4db0-8b35-b516e6eedc51",
   "metadata": {},
   "outputs": [
    {
     "name": "stdout",
     "output_type": "stream",
     "text": [
      "+-------------+----------+------+\n",
      "|employee_name|department|salary|\n",
      "+-------------+----------+------+\n",
      "|        James|     Sales|  3000|\n",
      "|      Michael|     Sales|  4600|\n",
      "|       Robert|     Sales|  4100|\n",
      "+-------------+----------+------+\n",
      "\n"
     ]
    }
   ],
   "source": [
    "dropdf = df.dropDuplicates().show()"
   ]
  },
  {
   "cell_type": "code",
   "execution_count": 21,
   "id": "d5e5c0bb-7649-4e28-a60a-ca8b0a882fbf",
   "metadata": {},
   "outputs": [
    {
     "data": {
      "text/html": [
       "\n",
       "            <div>\n",
       "                <p><b>SparkSession - in-memory</b></p>\n",
       "                \n",
       "        <div>\n",
       "            <p><b>SparkContext</b></p>\n",
       "\n",
       "            <p><a href=\"http://admins-mbp.lan:4040\">Spark UI</a></p>\n",
       "\n",
       "            <dl>\n",
       "              <dt>Version</dt>\n",
       "                <dd><code>v3.5.1</code></dd>\n",
       "              <dt>Master</dt>\n",
       "                <dd><code>local[*]</code></dd>\n",
       "              <dt>AppName</dt>\n",
       "                <dd><code>Distinct</code></dd>\n",
       "            </dl>\n",
       "        </div>\n",
       "        \n",
       "            </div>\n",
       "        "
      ],
      "text/plain": [
       "<pyspark.sql.session.SparkSession at 0x10b807800>"
      ]
     },
     "execution_count": 21,
     "metadata": {},
     "output_type": "execute_result"
    }
   ],
   "source": [
    "spark"
   ]
  },
  {
   "cell_type": "code",
   "execution_count": 23,
   "id": "f8d3fbe6-659a-44a1-9a6b-cb6a37429182",
   "metadata": {},
   "outputs": [
    {
     "data": {
      "text/plain": [
       "ParallelCollectionRDD[27] at readRDDFromFile at PythonRDD.scala:289"
      ]
     },
     "execution_count": 23,
     "metadata": {},
     "output_type": "execute_result"
    }
   ],
   "source": [
    "sc.parallelize([12,13,14,15])"
   ]
  },
  {
   "cell_type": "code",
   "execution_count": 24,
   "id": "33ee5868-2e8d-4718-9361-036982b4f4f7",
   "metadata": {},
   "outputs": [],
   "source": [
    "rdd = sc.parallelize([12,13,14,15])"
   ]
  },
  {
   "cell_type": "code",
   "execution_count": 25,
   "id": "3c64edbd-d2d4-4600-a9c4-1188c07e064c",
   "metadata": {},
   "outputs": [
    {
     "data": {
      "text/plain": [
       "[12, 13, 14, 15]"
      ]
     },
     "execution_count": 25,
     "metadata": {},
     "output_type": "execute_result"
    }
   ],
   "source": [
    "rdd.collect()"
   ]
  },
  {
   "cell_type": "code",
   "execution_count": 26,
   "id": "a16ae538-84ab-4da4-9970-8e228ff804c8",
   "metadata": {},
   "outputs": [
    {
     "data": {
      "text/plain": [
       "12"
      ]
     },
     "execution_count": 26,
     "metadata": {},
     "output_type": "execute_result"
    }
   ],
   "source": [
    "rdd.getNumPartitions()"
   ]
  },
  {
   "cell_type": "code",
   "execution_count": 27,
   "id": "b789926f-fa64-4eb2-940c-82fde6345756",
   "metadata": {},
   "outputs": [
    {
     "data": {
      "text/plain": [
       "12"
      ]
     },
     "execution_count": 27,
     "metadata": {},
     "output_type": "execute_result"
    }
   ],
   "source": [
    "rdd.first()"
   ]
  },
  {
   "cell_type": "code",
   "execution_count": 28,
   "id": "7e44306a-6118-483b-9bcb-6cffd13f6c81",
   "metadata": {},
   "outputs": [
    {
     "data": {
      "text/plain": [
       "[12, 13]"
      ]
     },
     "execution_count": 28,
     "metadata": {},
     "output_type": "execute_result"
    }
   ],
   "source": [
    "rdd.take(2)"
   ]
  },
  {
   "cell_type": "code",
   "execution_count": 40,
   "id": "7fbdebec-cd44-46cc-a925-e09d2944ef2d",
   "metadata": {},
   "outputs": [],
   "source": [
    "rdd_1 = sc.parallelize([1,2,1,2,2],2).countByValue().items()"
   ]
  },
  {
   "cell_type": "code",
   "execution_count": 41,
   "id": "1309f0c0-3387-4554-a3f6-ddeec4adbc6f",
   "metadata": {},
   "outputs": [
    {
     "data": {
      "text/plain": [
       "dict_items([(1, 2), (2, 3)])"
      ]
     },
     "execution_count": 41,
     "metadata": {},
     "output_type": "execute_result"
    }
   ],
   "source": [
    "rdd_1"
   ]
  },
  {
   "cell_type": "code",
   "execution_count": 43,
   "id": "c9573517-e4cc-4273-8b1f-8d3ef4e1bfb4",
   "metadata": {},
   "outputs": [
    {
     "name": "stdout",
     "output_type": "stream",
     "text": [
      "key 1 value 2\n",
      "key 2 value 3\n"
     ]
    }
   ],
   "source": [
    "for key,value in rdd_1:\n",
    "    print(f\"key {key} value {value}\")"
   ]
  },
  {
   "cell_type": "code",
   "execution_count": 45,
   "id": "61fa840c-5dff-4668-bdd9-3469c10a501f",
   "metadata": {},
   "outputs": [
    {
     "name": "stdout",
     "output_type": "stream",
     "text": [
      "+-------------+----------+------+\n",
      "|employee_name|department|salary|\n",
      "+-------------+----------+------+\n",
      "|        James|     Sales|  3000|\n",
      "|      Michael|     Sales|  4600|\n",
      "|       Robert|     Sales|  4100|\n",
      "|        James|     Sales|  3000|\n",
      "+-------------+----------+------+\n",
      "\n"
     ]
    }
   ],
   "source": [
    "df.show()"
   ]
  },
  {
   "cell_type": "code",
   "execution_count": 46,
   "id": "61fdc3f0-4fc4-4a0c-9399-cddbeddfdba8",
   "metadata": {},
   "outputs": [],
   "source": [
    "data = [(\"Apple\",1),(\"Apple\",2),(\"Banana\",1),(\"Banana\",2)]"
   ]
  },
  {
   "cell_type": "code",
   "execution_count": 60,
   "id": "1e30a536-c028-45eb-ab92-13c58bcd3431",
   "metadata": {},
   "outputs": [],
   "source": [
    "test_df = spark.createDataFrame(data=data,schema = [\"Fruits\",\"count\"]).rdd"
   ]
  },
  {
   "cell_type": "code",
   "execution_count": 61,
   "id": "1b2770cf-d9de-4509-804a-d08e0c373a7f",
   "metadata": {},
   "outputs": [
    {
     "data": {
      "text/plain": [
       "[Row(Fruits='Apple', count=1),\n",
       " Row(Fruits='Apple', count=2),\n",
       " Row(Fruits='Banana', count=1),\n",
       " Row(Fruits='Banana', count=2)]"
      ]
     },
     "execution_count": 61,
     "metadata": {},
     "output_type": "execute_result"
    }
   ],
   "source": [
    "test_df.collect()"
   ]
  },
  {
   "cell_type": "code",
   "execution_count": 57,
   "id": "8e276644-bcb9-4056-9b0f-0f7c09da68fd",
   "metadata": {},
   "outputs": [
    {
     "name": "stderr",
     "output_type": "stream",
     "text": [
      "                                                                                \r"
     ]
    },
    {
     "data": {
      "text/plain": [
       "[('Apple', 3), ('Banana', 3)]"
      ]
     },
     "execution_count": 57,
     "metadata": {},
     "output_type": "execute_result"
    }
   ],
   "source": [
    "test_df.reduceByKey(lambda x,y:x+y).collect()"
   ]
  },
  {
   "cell_type": "code",
   "execution_count": 63,
   "id": "ba05412d-33d6-4516-9498-c3b58e5ad376",
   "metadata": {},
   "outputs": [
    {
     "data": {
      "text/plain": [
       "[('Apple', <pyspark.resultiterable.ResultIterable at 0x10cd389b0>),\n",
       " ('Banana', <pyspark.resultiterable.ResultIterable at 0x10cd38f80>)]"
      ]
     },
     "execution_count": 63,
     "metadata": {},
     "output_type": "execute_result"
    }
   ],
   "source": [
    "test_df.groupByKey().collect()"
   ]
  },
  {
   "cell_type": "code",
   "execution_count": null,
   "id": "50338fcf-e914-4de3-a5ec-0b13eee65147",
   "metadata": {},
   "outputs": [],
   "source": []
  }
 ],
 "metadata": {
  "kernelspec": {
   "display_name": "Python 3 (ipykernel)",
   "language": "python",
   "name": "python3"
  },
  "language_info": {
   "codemirror_mode": {
    "name": "ipython",
    "version": 3
   },
   "file_extension": ".py",
   "mimetype": "text/x-python",
   "name": "python",
   "nbconvert_exporter": "python",
   "pygments_lexer": "ipython3",
   "version": "3.12.2"
  }
 },
 "nbformat": 4,
 "nbformat_minor": 5
}
