{
 "cells": [
  {
   "cell_type": "code",
   "execution_count": 1,
   "id": "93a24a6c-e050-48ca-9f82-4834fed2230c",
   "metadata": {},
   "outputs": [],
   "source": [
    "import pyspark"
   ]
  },
  {
   "cell_type": "code",
   "execution_count": 2,
   "id": "9ad76cfc-7fa8-47f3-8d93-9dca55b46318",
   "metadata": {},
   "outputs": [],
   "source": [
    "from pyspark.sql import SparkSession"
   ]
  },
  {
   "cell_type": "code",
   "execution_count": null,
   "id": "dee9c8e0-f221-4fda-8616-59cded340e9a",
   "metadata": {},
   "outputs": [],
   "source": [
    "spark = SparkSession.builder.appName(\"test\").getOrCreate()"
   ]
  },
  {
   "cell_type": "code",
   "execution_count": null,
   "id": "f4e6195b-be4a-4b4d-aac4-28620bc45405",
   "metadata": {},
   "outputs": [],
   "source": [
    "data = [(\"alice\",23),(\"mary\",24)]"
   ]
  },
  {
   "cell_type": "code",
   "execution_count": null,
   "id": "920f55ca-d44b-4990-9858-aeee289c80af",
   "metadata": {},
   "outputs": [],
   "source": [
    "column = [\"name\",\"age\"]"
   ]
  },
  {
   "cell_type": "code",
   "execution_count": null,
   "id": "b9085c46-495f-42ae-99da-f7125f6e1795",
   "metadata": {},
   "outputs": [],
   "source": [
    "df = spark.createDataFrame(data=data,schema=column)"
   ]
  },
  {
   "cell_type": "code",
   "execution_count": null,
   "id": "302d7986-b6dd-4496-9385-6ade070e8e4c",
   "metadata": {},
   "outputs": [],
   "source": [
    "df.printSchema()"
   ]
  },
  {
   "cell_type": "code",
   "execution_count": null,
   "id": "b07c97d1-198b-400d-9a5c-f395be78cb27",
   "metadata": {},
   "outputs": [],
   "source": [
    "df.rdd.getNumPartitions()"
   ]
  },
  {
   "cell_type": "code",
   "execution_count": null,
   "id": "be070e46-66b6-4eac-a636-d4e0522806e7",
   "metadata": {},
   "outputs": [],
   "source": [
    "spark"
   ]
  },
  {
   "cell_type": "code",
   "execution_count": null,
   "id": "c27554ea-8bcb-43d7-9eb5-ecc2c7d6fd56",
   "metadata": {},
   "outputs": [],
   "source": [
    "# this is setting the Master to local"
   ]
  },
  {
   "cell_type": "code",
   "execution_count": 3,
   "id": "15f9efe0-1c01-4fe2-b97d-e53dd7f34cce",
   "metadata": {},
   "outputs": [
    {
     "name": "stderr",
     "output_type": "stream",
     "text": [
      "Setting default log level to \"WARN\".\n",
      "To adjust logging level use sc.setLogLevel(newLevel). For SparkR, use setLogLevel(newLevel).\n",
      "24/06/25 16:52:44 WARN NativeCodeLoader: Unable to load native-hadoop library for your platform... using builtin-java classes where applicable\n"
     ]
    }
   ],
   "source": [
    "res_rdd = SparkSession.builder.appName(\"LocalMode\").master(\"local[4]\").getOrCreate()"
   ]
  },
  {
   "cell_type": "code",
   "execution_count": 4,
   "id": "cf540a6d-6e61-4775-b9a4-8060dd01a1b3",
   "metadata": {},
   "outputs": [],
   "source": [
    "rdd = res_rdd.sparkContext.parallelize(range(100))"
   ]
  },
  {
   "cell_type": "code",
   "execution_count": 5,
   "id": "ce16aa07-d172-46c4-91f8-418fa8d26642",
   "metadata": {},
   "outputs": [
    {
     "data": {
      "text/plain": [
       "4"
      ]
     },
     "execution_count": 5,
     "metadata": {},
     "output_type": "execute_result"
    },
    {
     "name": "stderr",
     "output_type": "stream",
     "text": [
      "24/06/25 16:53:02 WARN GarbageCollectionMetrics: To enable non-built-in garbage collector(s) List(G1 Concurrent GC), users should configure it(them) to spark.eventLog.gcMetrics.youngGenerationGarbageCollectors or spark.eventLog.gcMetrics.oldGenerationGarbageCollectors\n"
     ]
    }
   ],
   "source": [
    "rdd.getNumPartitions()"
   ]
  },
  {
   "cell_type": "code",
   "execution_count": null,
   "id": "2fc98ef9-114e-4264-a059-0b5d6b021d49",
   "metadata": {},
   "outputs": [],
   "source": []
  },
  {
   "cell_type": "code",
   "execution_count": null,
   "id": "60dd072e-d092-4990-b4ca-09e49d1631ee",
   "metadata": {},
   "outputs": [],
   "source": []
  },
  {
   "cell_type": "code",
   "execution_count": null,
   "id": "6c55a6e8-d205-4f26-9044-e97dcc71e5a3",
   "metadata": {},
   "outputs": [],
   "source": []
  },
  {
   "cell_type": "code",
   "execution_count": null,
   "id": "230d66cf-ff72-49da-99be-bc9176572086",
   "metadata": {},
   "outputs": [],
   "source": []
  },
  {
   "cell_type": "code",
   "execution_count": null,
   "id": "57ade179-7212-440d-970d-dac1d3766253",
   "metadata": {},
   "outputs": [],
   "source": []
  }
 ],
 "metadata": {
  "kernelspec": {
   "display_name": "Python 3 (ipykernel)",
   "language": "python",
   "name": "python3"
  },
  "language_info": {
   "codemirror_mode": {
    "name": "ipython",
    "version": 3
   },
   "file_extension": ".py",
   "mimetype": "text/x-python",
   "name": "python",
   "nbconvert_exporter": "python",
   "pygments_lexer": "ipython3",
   "version": "3.12.2"
  }
 },
 "nbformat": 4,
 "nbformat_minor": 5
}
