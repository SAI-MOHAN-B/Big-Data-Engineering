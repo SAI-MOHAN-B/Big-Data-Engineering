{
 "cells": [
  {
   "cell_type": "code",
   "execution_count": null,
   "id": "3b6ad82d-d2af-4015-ac8f-8dec86be5d0f",
   "metadata": {},
   "outputs": [],
   "source": [
    "import pyspark"
   ]
  },
  {
   "cell_type": "code",
   "execution_count": null,
   "id": "98b6d6d8-d0e6-4b61-a4ec-81d70719d7ca",
   "metadata": {},
   "outputs": [],
   "source": [
    "from pyspark.sql import SparkSession\n",
    "from pyspark.sql.types import StructType,StructField,IntegerType,StringType"
   ]
  },
  {
   "cell_type": "code",
   "execution_count": null,
   "id": "271c7f98-5653-4634-a9b7-d3528503d33c",
   "metadata": {},
   "outputs": [],
   "source": [
    "spark = SparkSession.builder.appName(\"test\").getOrCreate()"
   ]
  },
  {
   "cell_type": "code",
   "execution_count": null,
   "id": "5ca70023-f05a-48de-94c8-679e15255bf2",
   "metadata": {},
   "outputs": [],
   "source": [
    "data = [(\"1\",\"Java\",2000),(\"2\",\"Python\",3000),(\"3\",\"Scala\",4000)]"
   ]
  },
  {
   "cell_type": "code",
   "execution_count": null,
   "id": "c72482be-21ae-4e92-8e32-58e3e24d38d1",
   "metadata": {},
   "outputs": [],
   "source": [
    "myschema = StructType([StructField(\"id\",StringType(),True),StructField(\"Language\",StringType(),True),StructField(\"Cost\",IntegerType(),True)])"
   ]
  },
  {
   "cell_type": "code",
   "execution_count": null,
   "id": "64d5c817-c9bd-44de-9cd3-4eef219c8a32",
   "metadata": {},
   "outputs": [],
   "source": [
    "my_df = spark.createDataFrame(data=data,schema=myschema)"
   ]
  },
  {
   "cell_type": "code",
   "execution_count": null,
   "id": "ec9a2325-a6c0-4aee-b6d3-cdb5dc8c3a23",
   "metadata": {},
   "outputs": [],
   "source": [
    "my_df.show()"
   ]
  },
  {
   "cell_type": "code",
   "execution_count": null,
   "id": "fb79a125-4b69-401c-8ede-585a8a3fe5d9",
   "metadata": {},
   "outputs": [],
   "source": [
    "my_df.createOrReplaceTempView(\"languages\")"
   ]
  },
  {
   "cell_type": "code",
   "execution_count": null,
   "id": "0f648d5e-4edf-4c6f-8200-0e7011c841a3",
   "metadata": {},
   "outputs": [],
   "source": [
    "spark.sql(\"\"\" select * from languages \"\"\").show()"
   ]
  },
  {
   "cell_type": "code",
   "execution_count": null,
   "id": "024df82f-9347-447c-9c7e-91146e722106",
   "metadata": {},
   "outputs": [],
   "source": [
    "# for languages"
   ]
  },
  {
   "cell_type": "code",
   "execution_count": null,
   "id": "40d7870d-845d-4733-b9e8-e063bbb18088",
   "metadata": {},
   "outputs": [],
   "source": [
    "lang_data = [(\"1\",\"studentA\"),(\"2\",\"studentA\"),(\"1\",\"studentB\"),(\"3\",\"studentC\")]"
   ]
  },
  {
   "cell_type": "code",
   "execution_count": null,
   "id": "8dc5405f-bb5d-4a34-9f96-e8b0d8abda9d",
   "metadata": {},
   "outputs": [],
   "source": [
    "lang_col = StructType([StructField(\"languageid\",StringType(),True),StructField(\"studentname\",StringType(),True)])"
   ]
  },
  {
   "cell_type": "code",
   "execution_count": null,
   "id": "fa965a4d-ce1e-4b21-b5d7-e66cce10cc26",
   "metadata": {},
   "outputs": [],
   "source": [
    "language = spark.createDataFrame(data=lang_data,schema=lang_col)"
   ]
  },
  {
   "cell_type": "code",
   "execution_count": null,
   "id": "03eea220-066b-4435-9cf0-09d613faa3f5",
   "metadata": {},
   "outputs": [],
   "source": [
    "language.createOrReplaceTempView(\"Students\")"
   ]
  },
  {
   "cell_type": "code",
   "execution_count": null,
   "id": "6be6b91b-b74c-4b3d-9f67-1c4ecd3dc4dc",
   "metadata": {},
   "outputs": [],
   "source": [
    "language.show()"
   ]
  },
  {
   "cell_type": "code",
   "execution_count": null,
   "id": "be49b152-2f49-4d7b-9316-9866e4fb3f17",
   "metadata": {},
   "outputs": [],
   "source": [
    "lang_df = spark.sql(\"\"\" select * from Students \"\"\")"
   ]
  },
  {
   "cell_type": "code",
   "execution_count": null,
   "id": "3c13c837-d13e-4f29-b1bb-715ab08f1b50",
   "metadata": {},
   "outputs": [],
   "source": [
    "lang_df.show()"
   ]
  },
  {
   "cell_type": "code",
   "execution_count": null,
   "id": "9eccf0e2-78f5-45db-89bf-f569a932b9d2",
   "metadata": {},
   "outputs": [],
   "source": [
    "result_df = spark.sql(\"\"\" select S.studentname,avg(Cost) as average\n",
    "                        from Students as S\n",
    "                        JOIN languages as l on l.id = S.languageid\n",
    "                        GROUP BY S.studentname \n",
    "                        ORDER BY S.studentname ASC\n",
    "                        \"\"\")"
   ]
  },
  {
   "cell_type": "code",
   "execution_count": null,
   "id": "8ae8e9ed-972e-4693-af4d-4768ff476282",
   "metadata": {},
   "outputs": [],
   "source": [
    "result_df.show()"
   ]
  },
  {
   "cell_type": "code",
   "execution_count": null,
   "id": "ac1d39eb-45da-4f7b-90a6-3866b784b950",
   "metadata": {},
   "outputs": [],
   "source": [
    "result_df.explain(extended=True)"
   ]
  },
  {
   "cell_type": "code",
   "execution_count": null,
   "id": "6c77ecb5-b792-4cff-8632-c4e231a3d1b6",
   "metadata": {},
   "outputs": [],
   "source": [
    "spark"
   ]
  },
  {
   "cell_type": "code",
   "execution_count": null,
   "id": "c4821ee2-e47a-4385-b5fa-3ddb32cc7013",
   "metadata": {},
   "outputs": [],
   "source": []
  },
  {
   "cell_type": "code",
   "execution_count": null,
   "id": "151983f2-a51d-4291-8a9b-d86ec6d6765b",
   "metadata": {},
   "outputs": [],
   "source": []
  },
  {
   "cell_type": "code",
   "execution_count": null,
   "id": "21b206c5-2015-4ca4-9ce9-5c85c0b187c4",
   "metadata": {},
   "outputs": [],
   "source": []
  },
  {
   "cell_type": "code",
   "execution_count": null,
   "id": "b15211a6-8c1b-41be-95be-f3d651333b9a",
   "metadata": {},
   "outputs": [],
   "source": []
  },
  {
   "cell_type": "code",
   "execution_count": null,
   "id": "99d32f5b-3b33-4abe-a67d-0e9140b5a7e4",
   "metadata": {},
   "outputs": [],
   "source": []
  }
 ],
 "metadata": {
  "kernelspec": {
   "display_name": "Python 3 (ipykernel)",
   "language": "python",
   "name": "python3"
  },
  "language_info": {
   "codemirror_mode": {
    "name": "ipython",
    "version": 3
   },
   "file_extension": ".py",
   "mimetype": "text/x-python",
   "name": "python",
   "nbconvert_exporter": "python",
   "pygments_lexer": "ipython3",
   "version": "3.11.0b1"
  }
 },
 "nbformat": 4,
 "nbformat_minor": 5
}
