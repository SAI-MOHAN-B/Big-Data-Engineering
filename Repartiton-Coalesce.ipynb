{
 "cells": [
  {
   "cell_type": "code",
   "execution_count": 1,
   "id": "0454b10b-2ff2-4cec-b466-961b8ab1aa43",
   "metadata": {},
   "outputs": [],
   "source": [
    "import pyspark"
   ]
  },
  {
   "cell_type": "code",
   "execution_count": 2,
   "id": "3a22faae-247e-4abd-92b7-279102ccb15a",
   "metadata": {},
   "outputs": [],
   "source": [
    "from pyspark.sql import SparkSession"
   ]
  },
  {
   "cell_type": "code",
   "execution_count": 3,
   "id": "d5688227-58b3-4466-9eaa-4456383a42f4",
   "metadata": {},
   "outputs": [
    {
     "name": "stderr",
     "output_type": "stream",
     "text": [
      "Setting default log level to \"WARN\".\n",
      "To adjust logging level use sc.setLogLevel(newLevel). For SparkR, use setLogLevel(newLevel).\n",
      "24/06/07 17:09:51 WARN NativeCodeLoader: Unable to load native-hadoop library for your platform... using builtin-java classes where applicable\n",
      "24/06/07 17:10:07 WARN GarbageCollectionMetrics: To enable non-built-in garbage collector(s) List(G1 Concurrent GC), users should configure it(them) to spark.eventLog.gcMetrics.youngGenerationGarbageCollectors or spark.eventLog.gcMetrics.oldGenerationGarbageCollectors\n"
     ]
    }
   ],
   "source": [
    "spark = SparkSession.builder.appName(\"get-data\").getOrCreate()"
   ]
  },
  {
   "cell_type": "code",
   "execution_count": 7,
   "id": "14033c57-e2eb-4a37-8b8f-59cf8b8aecce",
   "metadata": {},
   "outputs": [],
   "source": [
    "sc = spark.sparkContext"
   ]
  },
  {
   "cell_type": "code",
   "execution_count": 16,
   "id": "72aa2e7b-94ae-4754-a8da-ac356b6fa22f",
   "metadata": {},
   "outputs": [],
   "source": [
    "rdd = sc.parallelize(range(1,20)).map(lambda x:(x,x*x))"
   ]
  },
  {
   "cell_type": "code",
   "execution_count": 17,
   "id": "47b67aec-6440-4280-adf9-97ecdf1d290b",
   "metadata": {},
   "outputs": [
    {
     "data": {
      "text/plain": [
       "[(1, 1),\n",
       " (2, 4),\n",
       " (3, 9),\n",
       " (4, 16),\n",
       " (5, 25),\n",
       " (6, 36),\n",
       " (7, 49),\n",
       " (8, 64),\n",
       " (9, 81),\n",
       " (10, 100),\n",
       " (11, 121),\n",
       " (12, 144),\n",
       " (13, 169),\n",
       " (14, 196),\n",
       " (15, 225),\n",
       " (16, 256),\n",
       " (17, 289),\n",
       " (18, 324),\n",
       " (19, 361)]"
      ]
     },
     "execution_count": 17,
     "metadata": {},
     "output_type": "execute_result"
    }
   ],
   "source": [
    "rdd.collect()"
   ]
  },
  {
   "cell_type": "code",
   "execution_count": 21,
   "id": "319c254d-9f91-4123-8e01-6f739f048b27",
   "metadata": {},
   "outputs": [],
   "source": [
    "df = spark.createDataFrame(rdd).toDF(\"num\",\"square\")"
   ]
  },
  {
   "cell_type": "code",
   "execution_count": 22,
   "id": "1997a288-759f-4779-9e5e-de36218a9b4e",
   "metadata": {},
   "outputs": [
    {
     "name": "stdout",
     "output_type": "stream",
     "text": [
      "+---+------+\n",
      "|num|square|\n",
      "+---+------+\n",
      "|  1|     1|\n",
      "|  2|     4|\n",
      "|  3|     9|\n",
      "|  4|    16|\n",
      "|  5|    25|\n",
      "|  6|    36|\n",
      "|  7|    49|\n",
      "|  8|    64|\n",
      "|  9|    81|\n",
      "| 10|   100|\n",
      "| 11|   121|\n",
      "| 12|   144|\n",
      "| 13|   169|\n",
      "| 14|   196|\n",
      "| 15|   225|\n",
      "| 16|   256|\n",
      "| 17|   289|\n",
      "| 18|   324|\n",
      "| 19|   361|\n",
      "+---+------+\n",
      "\n"
     ]
    }
   ],
   "source": [
    "df.show()"
   ]
  },
  {
   "cell_type": "code",
   "execution_count": 23,
   "id": "aa6941ee-4e75-4983-939d-68f2014c4cec",
   "metadata": {},
   "outputs": [],
   "source": [
    "df.createOrReplaceTempView(\"Square\")"
   ]
  },
  {
   "cell_type": "code",
   "execution_count": 24,
   "id": "5c4ff7b6-84bf-4e42-b24d-cfc2447cd780",
   "metadata": {},
   "outputs": [],
   "source": [
    "sql_df = spark.sql(\"\"\" select * from Square \"\"\")"
   ]
  },
  {
   "cell_type": "code",
   "execution_count": 25,
   "id": "a0d9644d-009a-4bf6-992d-04f6d972d5e8",
   "metadata": {},
   "outputs": [
    {
     "name": "stdout",
     "output_type": "stream",
     "text": [
      "+---+------+\n",
      "|num|square|\n",
      "+---+------+\n",
      "|  1|     1|\n",
      "|  2|     4|\n",
      "|  3|     9|\n",
      "|  4|    16|\n",
      "|  5|    25|\n",
      "|  6|    36|\n",
      "|  7|    49|\n",
      "|  8|    64|\n",
      "|  9|    81|\n",
      "| 10|   100|\n",
      "| 11|   121|\n",
      "| 12|   144|\n",
      "| 13|   169|\n",
      "| 14|   196|\n",
      "| 15|   225|\n",
      "| 16|   256|\n",
      "| 17|   289|\n",
      "| 18|   324|\n",
      "| 19|   361|\n",
      "+---+------+\n",
      "\n"
     ]
    }
   ],
   "source": [
    "sql_df.show()"
   ]
  },
  {
   "cell_type": "code",
   "execution_count": null,
   "id": "0f13479b-2cbe-4199-8b35-3abd008e83ba",
   "metadata": {},
   "outputs": [],
   "source": []
  },
  {
   "cell_type": "code",
   "execution_count": null,
   "id": "0542be00-10f9-4fba-9968-239e31e21ee0",
   "metadata": {},
   "outputs": [],
   "source": []
  }
 ],
 "metadata": {
  "kernelspec": {
   "display_name": "Python 3 (ipykernel)",
   "language": "python",
   "name": "python3"
  },
  "language_info": {
   "codemirror_mode": {
    "name": "ipython",
    "version": 3
   },
   "file_extension": ".py",
   "mimetype": "text/x-python",
   "name": "python",
   "nbconvert_exporter": "python",
   "pygments_lexer": "ipython3",
   "version": "3.12.2"
  }
 },
 "nbformat": 4,
 "nbformat_minor": 5
}
