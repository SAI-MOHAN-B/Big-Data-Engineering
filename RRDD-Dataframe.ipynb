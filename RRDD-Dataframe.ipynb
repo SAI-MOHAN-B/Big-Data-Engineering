{
 "cells": [
  {
   "cell_type": "code",
   "execution_count": null,
   "id": "36964a84-b153-43c6-ba7b-da5f41ef6d35",
   "metadata": {},
   "outputs": [],
   "source": [
    "import pyspark"
   ]
  },
  {
   "cell_type": "code",
   "execution_count": null,
   "id": "0e1d648a-8228-48a8-9051-1d0ecf67f11b",
   "metadata": {},
   "outputs": [],
   "source": [
    "from pyspark.sql import SparkSession"
   ]
  },
  {
   "cell_type": "code",
   "execution_count": null,
   "id": "3191ab42-4975-4377-aa04-ae0b5a391319",
   "metadata": {},
   "outputs": [],
   "source": [
    "spark = SparkSession.builder.appName(\"RDD\").getOrCreate()"
   ]
  },
  {
   "cell_type": "code",
   "execution_count": null,
   "id": "95465f06-0294-471f-b28c-9470e098a58f",
   "metadata": {},
   "outputs": [],
   "source": [
    "dept = [(\"Finance\",3),(\"IT\",4),(\"Sales\",30)]"
   ]
  },
  {
   "cell_type": "code",
   "execution_count": null,
   "id": "81537024-ebea-4926-a890-90d6edc382c0",
   "metadata": {},
   "outputs": [],
   "source": [
    "rdd = spark.sparkContext.parallelize(dept)"
   ]
  },
  {
   "cell_type": "code",
   "execution_count": null,
   "id": "a2159c92-c9ff-43f3-afa8-faf8192643f4",
   "metadata": {},
   "outputs": [],
   "source": [
    "rdd.collect()"
   ]
  },
  {
   "cell_type": "code",
   "execution_count": null,
   "id": "9da1feb6-c2e4-45af-a655-8211dc1ca48c",
   "metadata": {},
   "outputs": [],
   "source": [
    "# using rdd.toDF() Function"
   ]
  },
  {
   "cell_type": "code",
   "execution_count": null,
   "id": "fca17be4-d4f0-4b9c-86a9-90266a2fce18",
   "metadata": {},
   "outputs": [],
   "source": [
    "df = rdd.toDF([\"department\",\"id\"])"
   ]
  },
  {
   "cell_type": "code",
   "execution_count": null,
   "id": "90334b83-58a5-4819-a6ef-624d9aa2e395",
   "metadata": {},
   "outputs": [],
   "source": [
    "df.show()"
   ]
  },
  {
   "cell_type": "code",
   "execution_count": null,
   "id": "db77c218-e88e-4943-9c0e-83d982640320",
   "metadata": {},
   "outputs": [],
   "source": [
    "df.printSchema()"
   ]
  },
  {
   "cell_type": "code",
   "execution_count": null,
   "id": "3fc71ab2-3efe-4f9d-b42f-302042b9c994",
   "metadata": {},
   "outputs": [],
   "source": [
    "# using the StructType Schema"
   ]
  },
  {
   "cell_type": "code",
   "execution_count": null,
   "id": "8ff8d5a7-6383-412c-8965-8be1ecfe5ffd",
   "metadata": {},
   "outputs": [],
   "source": [
    "from pyspark.sql.types import StructType,StructField,StringType,IntegerType"
   ]
  },
  {
   "cell_type": "code",
   "execution_count": null,
   "id": "1d341a6f-16b3-46a7-a8a4-33f26de31bb4",
   "metadata": {},
   "outputs": [],
   "source": [
    "schema = StructType([StructField(\"department\",StringType(),True),StructField(\"id\",IntegerType(),True)])"
   ]
  },
  {
   "cell_type": "code",
   "execution_count": null,
   "id": "500f9102-5239-44f8-8459-9fabd501852b",
   "metadata": {},
   "outputs": [],
   "source": [
    "df = spark.createDataFrame(data=dept,schema=schema)"
   ]
  },
  {
   "cell_type": "code",
   "execution_count": null,
   "id": "a30e2998-127d-40b5-b86c-7195942bd33e",
   "metadata": {},
   "outputs": [],
   "source": [
    "df.show()"
   ]
  },
  {
   "cell_type": "code",
   "execution_count": null,
   "id": "655446bc-5543-493d-b9ef-4150eeb4d9a6",
   "metadata": {},
   "outputs": [],
   "source": [
    "df.printSchema()"
   ]
  },
  {
   "cell_type": "code",
   "execution_count": null,
   "id": "3cebb6d1-012c-42d4-a1d8-9ee4ef49de41",
   "metadata": {},
   "outputs": [],
   "source": []
  },
  {
   "cell_type": "code",
   "execution_count": null,
   "id": "f82f3f1e-926d-45b9-94d8-840c91b57b90",
   "metadata": {},
   "outputs": [],
   "source": []
  },
  {
   "cell_type": "code",
   "execution_count": null,
   "id": "178268fc-d12d-4d22-a2bd-677f88aa5942",
   "metadata": {},
   "outputs": [],
   "source": []
  },
  {
   "cell_type": "code",
   "execution_count": null,
   "id": "dfc779d8-5c00-4bad-b620-2a157f24bb3d",
   "metadata": {},
   "outputs": [],
   "source": []
  }
 ],
 "metadata": {
  "kernelspec": {
   "display_name": "Python 3 (ipykernel)",
   "language": "python",
   "name": "python3"
  },
  "language_info": {
   "codemirror_mode": {
    "name": "ipython",
    "version": 3
   },
   "file_extension": ".py",
   "mimetype": "text/x-python",
   "name": "python",
   "nbconvert_exporter": "python",
   "pygments_lexer": "ipython3",
   "version": "3.11.0b1"
  }
 },
 "nbformat": 4,
 "nbformat_minor": 5
}
