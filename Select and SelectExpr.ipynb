{
 "cells": [
  {
   "cell_type": "code",
   "execution_count": 1,
   "id": "93d5dcc9-a8cc-4c7c-980c-ed7bfb330cec",
   "metadata": {},
   "outputs": [],
   "source": [
    "import pyspark"
   ]
  },
  {
   "cell_type": "code",
   "execution_count": 2,
   "id": "62583c5d-105e-461e-860e-12092d3c9699",
   "metadata": {},
   "outputs": [],
   "source": [
    "from pyspark.sql import SparkSession"
   ]
  },
  {
   "cell_type": "code",
   "execution_count": 3,
   "id": "750b5797-f90b-497f-bf07-87fccbc08ce8",
   "metadata": {},
   "outputs": [],
   "source": [
    "from pyspark.sql.types import StructType,StringType,IntegerType,StructField"
   ]
  },
  {
   "cell_type": "code",
   "execution_count": 4,
   "id": "83861bea-b2d4-441e-adcf-56f570147efe",
   "metadata": {},
   "outputs": [],
   "source": [
    "spark = SparkSession.builder.appName(\"test\").getOrCreate()"
   ]
  },
  {
   "cell_type": "code",
   "execution_count": 5,
   "id": "478d5a54-5a13-4013-8731-b017031655d0",
   "metadata": {},
   "outputs": [],
   "source": [
    "schema = StructType([StructField(\"ORIGIN_COUNTRY_NAME\",StringType(),True),StructField(\"DEST_COUNTRY_NAME\",StringType(),True),StructField(\"count\",IntegerType(),True)])"
   ]
  },
  {
   "cell_type": "code",
   "execution_count": 6,
   "id": "0a0e5a75-299d-4ce1-be71-8473a88b9457",
   "metadata": {},
   "outputs": [],
   "source": [
    "df = spark.read.format(\"json\").schema(schema).load(\"2010-summary.json\")"
   ]
  },
  {
   "cell_type": "code",
   "execution_count": 8,
   "id": "ca97191f-60c8-4554-9b88-45b16281e63a",
   "metadata": {},
   "outputs": [
    {
     "name": "stdout",
     "output_type": "stream",
     "text": [
      "+-------------------+--------------------+-----+\n",
      "|ORIGIN_COUNTRY_NAME|   DEST_COUNTRY_NAME|count|\n",
      "+-------------------+--------------------+-----+\n",
      "|            Romania|       United States|    1|\n",
      "|            Ireland|       United States|  264|\n",
      "|              India|       United States|   69|\n",
      "|      United States|               Egypt|   24|\n",
      "|      United States|   Equatorial Guinea|    1|\n",
      "|          Singapore|       United States|   25|\n",
      "|            Grenada|       United States|   54|\n",
      "|      United States|          Costa Rica|  477|\n",
      "|      United States|             Senegal|   29|\n",
      "|   Marshall Islands|       United States|   44|\n",
      "|      United States|              Guyana|   17|\n",
      "|       Sint Maarten|       United States|   53|\n",
      "|      United States|               Malta|    1|\n",
      "|      United States|             Bolivia|   46|\n",
      "|      United States|            Anguilla|   21|\n",
      "|      United States|Turks and Caicos ...|  136|\n",
      "|        Afghanistan|       United States|    2|\n",
      "|      United States|Saint Vincent and...|    1|\n",
      "|      United States|               Italy|  390|\n",
      "|             Russia|       United States|  156|\n",
      "+-------------------+--------------------+-----+\n",
      "only showing top 20 rows\n",
      "\n"
     ]
    }
   ],
   "source": [
    "df.show()"
   ]
  },
  {
   "cell_type": "code",
   "execution_count": 29,
   "id": "bc371b16-c2ea-445d-8768-9e505dd3bb79",
   "metadata": {},
   "outputs": [
    {
     "data": {
      "text/plain": [
       "255"
      ]
     },
     "execution_count": 29,
     "metadata": {},
     "output_type": "execute_result"
    }
   ],
   "source": [
    "df.count()"
   ]
  },
  {
   "cell_type": "code",
   "execution_count": 15,
   "id": "8c8f0a38-6aad-46ef-b613-406cd9de8e8e",
   "metadata": {},
   "outputs": [
    {
     "name": "stdout",
     "output_type": "stream",
     "text": [
      "+-------+\n",
      "| origin|\n",
      "+-------+\n",
      "|Romania|\n",
      "|Ireland|\n",
      "+-------+\n",
      "only showing top 2 rows\n",
      "\n"
     ]
    }
   ],
   "source": [
    "df.selectExpr(\"ORIGIN_COUNTRY_NAME as origin\").show(2)"
   ]
  },
  {
   "cell_type": "code",
   "execution_count": 33,
   "id": "7a46df65-3b26-45ad-a8b7-32eac18a506c",
   "metadata": {},
   "outputs": [],
   "source": [
    "distinct_df = df.dropDuplicates([\"ORIGIN_COUNTRY_NAME\",\"DEST_COUNTRY_NAME\",\"count\"])"
   ]
  },
  {
   "cell_type": "code",
   "execution_count": 34,
   "id": "87bd0db1-3d88-4c3a-9d59-81607ca372db",
   "metadata": {},
   "outputs": [
    {
     "name": "stdout",
     "output_type": "stream",
     "text": [
      "+-------------------+--------------------+-----+\n",
      "|ORIGIN_COUNTRY_NAME|DEST_COUNTRY_NAME   |count|\n",
      "+-------------------+--------------------+-----+\n",
      "|Costa Rica         |United States       |501  |\n",
      "|Egypt              |United States       |25   |\n",
      "|Ukraine            |United States       |17   |\n",
      "|United States      |Argentina           |184  |\n",
      "|Estonia            |United States       |1    |\n",
      "|United States      |Bulgaria            |1    |\n",
      "|Sint Maarten       |United States       |53   |\n",
      "|United States      |Mexico              |6200 |\n",
      "|Thailand           |United States       |13   |\n",
      "|Papua New Guinea   |United States       |1    |\n",
      "|Cayman Islands     |United States       |251  |\n",
      "|United States      |United Arab Emirates|165  |\n",
      "|Argentina          |United States       |159  |\n",
      "|United States      |Greece              |50   |\n",
      "|Anguilla           |United States       |20   |\n",
      "|Samoa              |United States       |28   |\n",
      "|Angola             |United States       |18   |\n",
      "|Belgium            |United States       |355  |\n",
      "|United States      |Austria             |36   |\n",
      "|Honduras           |United States       |393  |\n",
      "+-------------------+--------------------+-----+\n",
      "only showing top 20 rows\n",
      "\n"
     ]
    }
   ],
   "source": [
    "distinct_df.show(truncate=False)"
   ]
  },
  {
   "cell_type": "code",
   "execution_count": 35,
   "id": "f4a19e34-3a7c-4361-8a57-798e46019292",
   "metadata": {},
   "outputs": [],
   "source": [
    "drop_df = df.distinct()"
   ]
  },
  {
   "cell_type": "code",
   "execution_count": 36,
   "id": "51d2dfc1-4747-44e6-9e3a-823cad8c37de",
   "metadata": {},
   "outputs": [
    {
     "name": "stdout",
     "output_type": "stream",
     "text": [
      "+-------------------+--------------------+-----+\n",
      "|ORIGIN_COUNTRY_NAME|   DEST_COUNTRY_NAME|count|\n",
      "+-------------------+--------------------+-----+\n",
      "|         Costa Rica|       United States|  501|\n",
      "|              Egypt|       United States|   25|\n",
      "|            Ukraine|       United States|   17|\n",
      "|      United States|           Argentina|  184|\n",
      "|            Estonia|       United States|    1|\n",
      "|      United States|            Bulgaria|    1|\n",
      "|       Sint Maarten|       United States|   53|\n",
      "|      United States|              Mexico| 6200|\n",
      "|           Thailand|       United States|   13|\n",
      "|   Papua New Guinea|       United States|    1|\n",
      "|     Cayman Islands|       United States|  251|\n",
      "|      United States|United Arab Emirates|  165|\n",
      "|          Argentina|       United States|  159|\n",
      "|      United States|              Greece|   50|\n",
      "|           Anguilla|       United States|   20|\n",
      "|              Samoa|       United States|   28|\n",
      "|             Angola|       United States|   18|\n",
      "|            Belgium|       United States|  355|\n",
      "|      United States|             Austria|   36|\n",
      "|           Honduras|       United States|  393|\n",
      "+-------------------+--------------------+-----+\n",
      "only showing top 20 rows\n",
      "\n"
     ]
    }
   ],
   "source": [
    "drop_df.show()"
   ]
  },
  {
   "cell_type": "code",
   "execution_count": 37,
   "id": "8bbe5048-3c1a-4d73-adfc-492ac3ecc9ec",
   "metadata": {},
   "outputs": [],
   "source": [
    "select_distinct = df.select(\"ORIGIN_COUNTRY_NAME\",\"DEST_COUNTRY_NAME\").distinct()"
   ]
  },
  {
   "cell_type": "code",
   "execution_count": 38,
   "id": "d121a397-1387-472b-92f5-cc4d8b6394fd",
   "metadata": {},
   "outputs": [
    {
     "name": "stdout",
     "output_type": "stream",
     "text": [
      "+-------------------+--------------------+\n",
      "|ORIGIN_COUNTRY_NAME|   DEST_COUNTRY_NAME|\n",
      "+-------------------+--------------------+\n",
      "|            Romania|       United States|\n",
      "|            Ireland|       United States|\n",
      "|              India|       United States|\n",
      "|      United States|               Egypt|\n",
      "|      United States|   Equatorial Guinea|\n",
      "|          Singapore|       United States|\n",
      "|            Grenada|       United States|\n",
      "|      United States|          Costa Rica|\n",
      "|      United States|             Senegal|\n",
      "|   Marshall Islands|       United States|\n",
      "|      United States|              Guyana|\n",
      "|       Sint Maarten|       United States|\n",
      "|      United States|               Malta|\n",
      "|      United States|             Bolivia|\n",
      "|      United States|            Anguilla|\n",
      "|      United States|Turks and Caicos ...|\n",
      "|        Afghanistan|       United States|\n",
      "|      United States|Saint Vincent and...|\n",
      "|      United States|               Italy|\n",
      "|             Russia|       United States|\n",
      "+-------------------+--------------------+\n",
      "only showing top 20 rows\n",
      "\n"
     ]
    }
   ],
   "source": [
    "select_distinct.show()"
   ]
  },
  {
   "cell_type": "code",
   "execution_count": null,
   "id": "f37bfcca-84a2-478d-8a7d-81ec1949f04c",
   "metadata": {},
   "outputs": [],
   "source": []
  },
  {
   "cell_type": "code",
   "execution_count": null,
   "id": "dc443332-05d9-4571-b4ea-859fc7e5e64c",
   "metadata": {},
   "outputs": [],
   "source": []
  },
  {
   "cell_type": "code",
   "execution_count": null,
   "id": "37fb342b-584d-41c4-8918-5eb5320b73c7",
   "metadata": {},
   "outputs": [],
   "source": []
  },
  {
   "cell_type": "code",
   "execution_count": null,
   "id": "0cde64e8-b018-405c-8845-64068afea523",
   "metadata": {},
   "outputs": [],
   "source": []
  },
  {
   "cell_type": "code",
   "execution_count": null,
   "id": "dcad278f-ba80-46b1-964a-7edba4c6c2f5",
   "metadata": {},
   "outputs": [],
   "source": []
  },
  {
   "cell_type": "code",
   "execution_count": null,
   "id": "00352848-c1fe-4742-a667-b525369fe1dd",
   "metadata": {},
   "outputs": [],
   "source": []
  }
 ],
 "metadata": {
  "kernelspec": {
   "display_name": "Python 3 (ipykernel)",
   "language": "python",
   "name": "python3"
  },
  "language_info": {
   "codemirror_mode": {
    "name": "ipython",
    "version": 3
   },
   "file_extension": ".py",
   "mimetype": "text/x-python",
   "name": "python",
   "nbconvert_exporter": "python",
   "pygments_lexer": "ipython3",
   "version": "3.11.0b1"
  }
 },
 "nbformat": 4,
 "nbformat_minor": 5
}
