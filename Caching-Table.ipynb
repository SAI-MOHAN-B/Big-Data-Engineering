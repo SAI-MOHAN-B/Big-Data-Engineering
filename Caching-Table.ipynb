{
 "cells": [
  {
   "cell_type": "code",
   "execution_count": 1,
   "id": "7ea39a3e-a298-4a23-b4bb-8f8bbc516cfb",
   "metadata": {},
   "outputs": [],
   "source": [
    "import pyspark"
   ]
  },
  {
   "cell_type": "code",
   "execution_count": 2,
   "id": "fb984b63-16c7-4c47-901d-52524aba570e",
   "metadata": {},
   "outputs": [],
   "source": [
    "from pyspark.sql import SparkSession"
   ]
  },
  {
   "cell_type": "code",
   "execution_count": 4,
   "id": "f4c83235-5534-4908-b756-498aff0655f2",
   "metadata": {},
   "outputs": [
    {
     "name": "stderr",
     "output_type": "stream",
     "text": [
      "Setting default log level to \"WARN\".\n",
      "To adjust logging level use sc.setLogLevel(newLevel). For SparkR, use setLogLevel(newLevel).\n",
      "24/06/17 10:54:45 WARN NativeCodeLoader: Unable to load native-hadoop library for your platform... using builtin-java classes where applicable\n",
      "24/06/17 10:54:58 WARN GarbageCollectionMetrics: To enable non-built-in garbage collector(s) List(G1 Concurrent GC), users should configure it(them) to spark.eventLog.gcMetrics.youngGenerationGarbageCollectors or spark.eventLog.gcMetrics.oldGenerationGarbageCollectors\n"
     ]
    }
   ],
   "source": [
    "spark = SparkSession.builder.appName(\"caching-table\").getOrCreate()"
   ]
  },
  {
   "cell_type": "code",
   "execution_count": 5,
   "id": "27c3600f-c55f-4dc7-9d43-b3c16acbf40e",
   "metadata": {},
   "outputs": [
    {
     "name": "stdout",
     "output_type": "stream",
     "text": [
      "ApplicationCodeOptimization.ipynb  ReduceByKey.ipynb\n",
      "BroadcastJoins.ipynb               Repartiton-Coalesce.ipynb\n",
      "Caching-Table.ipynb                Spark-Table.ipynb\n",
      "Count.txt                          SparkOptimizationcode.txt\n",
      "DataFrame.ipynb                    \u001b[34moutput_data\u001b[m\u001b[m/\n",
      "Distinct,Take.ipynb                \u001b[34moutput_data_parquet\u001b[m\u001b[m/\n",
      "Filter.ipynb                       \u001b[34moutput_folder\u001b[m\u001b[m/\n",
      "Group and Reduce By key.ipynb      \u001b[34mspark-warehouse\u001b[m\u001b[m/\n",
      "Joins.ipynb                        students.csv\n",
      "Pyspark-Get.ipynb\n"
     ]
    }
   ],
   "source": [
    "ls"
   ]
  },
  {
   "cell_type": "code",
   "execution_count": 7,
   "id": "ca0223f3-ba4e-4365-babd-90c589a38f70",
   "metadata": {},
   "outputs": [],
   "source": [
    "df = spark.read.format(\"csv\").option(\"inferSchema\",True).option(\"header\",True).load(\"students.csv\")"
   ]
  },
  {
   "cell_type": "code",
   "execution_count": 9,
   "id": "bfdf8dd4-7d8d-485b-a292-3e56bf2aca25",
   "metadata": {},
   "outputs": [
    {
     "name": "stdout",
     "output_type": "stream",
     "text": [
      "+---+----------+---------+-------+--------------------+\n",
      "|seq| timestamp|    first| amount|         description|\n",
      "+---+----------+---------+-------+--------------------+\n",
      "|  1| 858334225| Mathilda|5904.67|No jonpi rivaniba...|\n",
      "|  2|1203864016|      May|1536.92|Beflav iznir dad ...|\n",
      "|  3|  98215602|    Leila|7530.77|Jetabge godjiaf e...|\n",
      "|  4| 374760014|     Ella| 402.16|Viv jaluc cev uwe...|\n",
      "|  5| 706631936|    Logan|9238.75|Obvac netezki iv ...|\n",
      "|  6| 730617505|   Lenora|2843.72|Jiz tiscuzu epvis...|\n",
      "|  7| 460900055|      Jim|9107.27|Ja roira pu okuwa...|\n",
      "|  8|1331480777|    James|2182.82|Maodlim jarolalov...|\n",
      "|  9|1482286601|Genevieve|8826.96|Vupizmiw sez oce ...|\n",
      "| 10| 155613459|      Jon|6678.62|Fo duaju kiri kir...|\n",
      "| 11|1528525451|   Jennie|9927.24|Vozo cag ba unemo...|\n",
      "| 12|1435221869|    Celia|1862.77|Diza ijwecvag fir...|\n",
      "| 13|  98947618|   Curtis|7294.51|Raewoji la anohic...|\n",
      "| 14|1186045919| Cordelia|4386.98|Timil heeg wic nu...|\n",
      "| 15| 206874323|   Maggie| 768.62|Zug tibic masgiwu...|\n",
      "| 16|1237252683| Florence| 2355.0|Henepvo resga nir...|\n",
      "| 17|1647278085|Frederick|5436.68|Wi udfufone neuhu...|\n",
      "| 18|  76886033|     Jean|9392.97|Vu odin git petuk...|\n",
      "| 19| 332353009|    Brett|8368.43|Zez wonoz do liwm...|\n",
      "| 20| 828860916|    Isaac|5714.48|Egeli nupcaola vu...|\n",
      "+---+----------+---------+-------+--------------------+\n",
      "only showing top 20 rows\n",
      "\n"
     ]
    }
   ],
   "source": [
    "df.show()"
   ]
  },
  {
   "cell_type": "code",
   "execution_count": 11,
   "id": "15a46c52-f5e5-4153-ae77-fa03b8a15b53",
   "metadata": {},
   "outputs": [
    {
     "data": {
      "text/plain": [
       "<pyspark.sql.catalog.Catalog at 0x10d8415b0>"
      ]
     },
     "execution_count": 11,
     "metadata": {},
     "output_type": "execute_result"
    }
   ],
   "source": [
    "spark.catalog"
   ]
  },
  {
   "cell_type": "code",
   "execution_count": 12,
   "id": "2572dfe5-8507-4a72-b032-4fea99d4d51f",
   "metadata": {},
   "outputs": [],
   "source": [
    "df.createOrReplaceTempView(\"students\")"
   ]
  },
  {
   "cell_type": "code",
   "execution_count": 13,
   "id": "0ea24828-6fbb-4d42-88c2-d7b32aec50b2",
   "metadata": {},
   "outputs": [
    {
     "name": "stdout",
     "output_type": "stream",
     "text": [
      "+---+---------+--------+-------+--------------------+\n",
      "|seq|timestamp|   first| amount|         description|\n",
      "+---+---------+--------+-------+--------------------+\n",
      "|  1|858334225|Mathilda|5904.67|No jonpi rivaniba...|\n",
      "+---+---------+--------+-------+--------------------+\n",
      "\n"
     ]
    }
   ],
   "source": [
    "spark.sql(\"\"\" select * from students limit 1\"\"\").show()"
   ]
  },
  {
   "cell_type": "code",
   "execution_count": null,
   "id": "18da9136-3127-48d2-96ba-932e8161f52f",
   "metadata": {},
   "outputs": [],
   "source": []
  },
  {
   "cell_type": "code",
   "execution_count": null,
   "id": "dd30b1e2-4560-4583-963a-6f9d2577d7aa",
   "metadata": {},
   "outputs": [],
   "source": []
  },
  {
   "cell_type": "code",
   "execution_count": null,
   "id": "3cd8d5db-d435-4c40-a510-2e523872b1a8",
   "metadata": {},
   "outputs": [],
   "source": []
  }
 ],
 "metadata": {
  "kernelspec": {
   "display_name": "Python 3 (ipykernel)",
   "language": "python",
   "name": "python3"
  },
  "language_info": {
   "codemirror_mode": {
    "name": "ipython",
    "version": 3
   },
   "file_extension": ".py",
   "mimetype": "text/x-python",
   "name": "python",
   "nbconvert_exporter": "python",
   "pygments_lexer": "ipython3",
   "version": "3.12.2"
  }
 },
 "nbformat": 4,
 "nbformat_minor": 5
}
